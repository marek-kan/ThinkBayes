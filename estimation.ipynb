{
 "cells": [
  {
   "cell_type": "code",
   "execution_count": 1,
   "metadata": {},
   "outputs": [],
   "source": [
    "from code_.thinkbayes import Suite, Pmf\n",
    "import numpy as np\n",
    "import matplotlib.pyplot as plt"
   ]
  },
  {
   "cell_type": "markdown",
   "metadata": {},
   "source": [
    "### Locomotive problem\n",
    "A railroad numbers its locomotives in order 1..N. One day you see a locomotive with\n",
    "the number 60. Estimate how many locomotives the railroad has.\n",
    "\n",
    "1. What did we know about N before we saw the data?\n",
    "2. For any given value of N, what is the likelihood of seeing the data (a locomotive\n",
    "with number 60)?\n",
    "\n",
    "Presented two solutions:\n",
    " * naive - uniform distribution and point estimate of MMSE\n",
    " * improved by lognormal distribution + confidence interval"
   ]
  },
  {
   "cell_type": "markdown",
   "metadata": {},
   "source": [
    "**Naive Solution**"
   ]
  },
  {
   "cell_type": "code",
   "execution_count": 18,
   "metadata": {},
   "outputs": [],
   "source": [
    "class TrainProblem(Suite):\n",
    "    def __init__(self, hypos):\n",
    "        Suite.__init__(self)\n",
    "        for H in hypos:\n",
    "            self.Set(H, 1)\n",
    "        self.Normalize()\n",
    "    \n",
    "    def Likelihood(self, data, hypo):\n",
    "        if hypo < data:\n",
    "            return 0\n",
    "        else:\n",
    "            return 1.0/hypo"
   ]
  },
  {
   "cell_type": "code",
   "execution_count": 7,
   "metadata": {},
   "outputs": [
    {
     "data": {
      "text/plain": [
       "0.0028222671142652746"
      ]
     },
     "execution_count": 7,
     "metadata": {},
     "output_type": "execute_result"
    }
   ],
   "source": [
    "hypos = list(range(1, 1001, 1))\n",
    "suite = TrainProblem(hypos)\n",
    "suite.Update(60)"
   ]
  },
  {
   "cell_type": "code",
   "execution_count": 14,
   "metadata": {},
   "outputs": [
    {
     "name": "stdout",
     "output_type": "stream",
     "text": [
      "Max-likelihood estimate: 60\n",
      " MMSE estimate: 333.41989326371095\n"
     ]
    }
   ],
   "source": [
    "print(f'Max-likelihood estimate: {suite.MaximumLikelihood()}\\n MMSE estimate: {suite.Mean()}')"
   ]
  },
  {
   "cell_type": "code",
   "execution_count": 10,
   "metadata": {},
   "outputs": [],
   "source": [
    "x = []\n",
    "y = []\n",
    "for h, prob in suite.Items():\n",
    "    x.append(h)\n",
    "    y.append(prob)"
   ]
  },
  {
   "cell_type": "code",
   "execution_count": 11,
   "metadata": {},
   "outputs": [
    {
     "data": {
      "text/plain": [
       "[<matplotlib.lines.Line2D at 0x7fc102c70190>]"
      ]
     },
     "execution_count": 11,
     "metadata": {},
     "output_type": "execute_result"
    },
    {
     "data": {
      "image/png": "[encoded data removed]",
      "text/plain": [
       "<Figure size 640x480 with 1 Axes>"
      ]
     },
     "metadata": {},
     "output_type": "display_data"
    }
   ],
   "source": [
    "plt.plot(x, y)"
   ]
  },
  {
   "cell_type": "code",
   "execution_count": 25,
   "metadata": {},
   "outputs": [
    {
     "name": "stdout",
     "output_type": "stream",
     "text": [
      "Upper-bound: 500:\n",
      "Max-likelihood estimate: 90\n",
      " MMSE estimate: 151.84958795903822\n",
      "Upper-bound: 1000:\n",
      "Max-likelihood estimate: 90\n",
      " MMSE estimate: 164.30558642273363\n",
      "Upper-bound: 2000:\n",
      "Max-likelihood estimate: 90\n",
      " MMSE estimate: 171.33818109150937\n"
     ]
    }
   ],
   "source": [
    "for upper_bound in [500, 1000, 2000]:\n",
    "    print(f'Upper-bound: {upper_bound}:')\n",
    "    hypos = list(range(1, upper_bound+1, 1))\n",
    "    suite = TrainProblem(hypos)\n",
    "    for observaion in [30, 60, 90]:\n",
    "        suite.Update(observaion)\n",
    "    print(f'Max-likelihood estimate: {suite.MaximumLikelihood()}\\n MMSE estimate: {suite.Mean()}')"
   ]
  },
  {
   "cell_type": "markdown",
   "metadata": {},
   "source": [
    "This naive solution is senstitive to upper bound (you can try what happens if upper bound is 500 or 10000) - this is not good. We need to obsere more data or come up with beter prior."
   ]
  },
  {
   "cell_type": "markdown",
   "metadata": {},
   "source": [
    "**Better solution**\n",
    "\n",
    "the distribution of company sizes tends to follow a power law, as Robert Axtell reports in Science (see http://www.sciencemag.org/content/293/5536/1818.full.pdf).\n"
   ]
  },
  {
   "cell_type": "code",
   "execution_count": 20,
   "metadata": {},
   "outputs": [],
   "source": [
    "class TrainProblem2(Suite):\n",
    "    def __init__(self, hypos, alpha=1.0):\n",
    "        Suite.__init__(self)\n",
    "        for H in hypos:\n",
    "            self.Set(H, H**(-alpha))\n",
    "        self.Normalize()\n",
    "    \n",
    "    def Likelihood(self, data, hypo):\n",
    "        if hypo < data:\n",
    "            return 0\n",
    "        else:\n",
    "            return 1.0/hypo"
   ]
  },
  {
   "cell_type": "code",
   "execution_count": 26,
   "metadata": {},
   "outputs": [
    {
     "name": "stdout",
     "output_type": "stream",
     "text": [
      "Upper-bound: 500:\n",
      "Max-likelihood estimate: 90\n",
      " MMSE estimate: 130.70846986256004\n",
      "Upper-bound: 1000:\n",
      "Max-likelihood estimate: 90\n",
      " MMSE estimate: 133.2752313750312\n",
      "Upper-bound: 2000:\n",
      "Max-likelihood estimate: 90\n",
      " MMSE estimate: 133.99746308073065\n"
     ]
    }
   ],
   "source": [
    "for upper_bound in [500, 1000, 2000]:\n",
    "    print(f'Upper-bound: {upper_bound}:')\n",
    "    hypos = list(range(1, upper_bound+1, 1))\n",
    "    suite = TrainProblem2(hypos)\n",
    "    for observaion in [30, 60, 90]:\n",
    "        suite.Update(observaion)\n",
    "    print(f'Max-likelihood estimate: {suite.MaximumLikelihood()}\\n MMSE estimate: {suite.Mean()}')"
   ]
  },
  {
   "cell_type": "markdown",
   "metadata": {},
   "source": [
    "We see that this is much more sable solution which converges to 134"
   ]
  },
  {
   "cell_type": "markdown",
   "metadata": {},
   "source": [
    "**Constructing an interval**\n",
    "\n",
    "90% Confidence interval:\n",
    " * Value at 5% and 95% probabiliy from CDF\n",
    "\n",
    "prob = (1 - percentage / 100.0) / 2\n",
    "\n",
    "interval = self.Value(prob), self.Value(1 - prob)"
   ]
  },
  {
   "cell_type": "code",
   "execution_count": 27,
   "metadata": {},
   "outputs": [
    {
     "data": {
      "text/plain": [
       "(91, 243)"
      ]
     },
     "execution_count": 27,
     "metadata": {},
     "output_type": "execute_result"
    }
   ],
   "source": [
    "suite.CredibleInterval()"
   ]
  },
  {
   "cell_type": "code",
   "execution_count": 8,
   "metadata": {},
   "outputs": [],
   "source": [
    "class Die(Pmf):\n",
    "    def __init__(self, sides):\n",
    "        Pmf.__init__(self)\n",
    "        for x in range(1, sides+1):\n",
    "            self.Set(x, 1)\n",
    "        self.Normalize()"
   ]
  },
  {
   "cell_type": "code",
   "execution_count": 2,
   "metadata": {},
   "outputs": [],
   "source": [
    "pmf = Pmf()"
   ]
  },
  {
   "cell_type": "code",
   "execution_count": 11,
   "metadata": {},
   "outputs": [
    {
     "data": {
      "text/plain": [
       "{<__main__.Die at 0x7f67d86a1220>: 0.2222222222222222,\n",
       " <__main__.Die at 0x7f67d7d97e80>: 0.3333333333333333,\n",
       " <__main__.Die at 0x7f67d7d97af0>: 0.2222222222222222,\n",
       " <__main__.Die at 0x7f67d7d97280>: 0.1111111111111111,\n",
       " <__main__.Die at 0x7f67d870f850>: 0.1111111111111111}"
      ]
     },
     "execution_count": 11,
     "metadata": {},
     "output_type": "execute_result"
    }
   ],
   "source": [
    "pmf_dice = Pmf()\n",
    "pmf_dice.Set(Die(4), 2)\n",
    "pmf_dice.Set(Die(6), 3)\n",
    "pmf_dice.Set(Die(8), 2)\n",
    "pmf_dice.Set(Die(12), 1)\n",
    "pmf_dice.Set(Die(20), 1)\n",
    "pmf_dice.Normalize()\n",
    "pmf_dice.GetDict()"
   ]
  },
  {
   "cell_type": "code",
   "execution_count": 15,
   "metadata": {},
   "outputs": [
    {
     "data": {
      "text/plain": [
       "[<matplotlib.lines.Line2D at 0x7f67d24ab130>]"
      ]
     },
     "execution_count": 15,
     "metadata": {},
     "output_type": "execute_result"
    },
    {
     "data": {
      "image/png": "[encoded data removed]",
      "text/plain": [
       "<Figure size 640x480 with 1 Axes>"
      ]
     },
     "metadata": {},
     "output_type": "display_data"
    }
   ],
   "source": [
    "mix = Pmf()\n",
    "for die, weight in pmf_dice.Items():\n",
    "    for outcome, prob in die.Items():\n",
    "        mix.Incr(outcome, weight*prob)\n",
    "x = []\n",
    "y = []\n",
    "for h, prob in mix.Items():\n",
    "    x.append(h)\n",
    "    y.append(prob)\n",
    "plt.plot(x,y)"
   ]
  },
  {
   "cell_type": "code",
   "execution_count": 16,
   "metadata": {},
   "outputs": [
    {
     "data": {
      "text/plain": [
       "{<__main__.Die at 0x7f67d2458760>: 0.3333333333333333,\n",
       " <__main__.Die at 0x7f67d86a17c0>: 0.26666666666666666,\n",
       " <__main__.Die at 0x7f67d2458130>: 0.2,\n",
       " <__main__.Die at 0x7f67d2458250>: 0.13333333333333333,\n",
       " <__main__.Die at 0x7f67d2458550>: 0.06666666666666667}"
      ]
     },
     "execution_count": 16,
     "metadata": {},
     "output_type": "execute_result"
    }
   ],
   "source": [
    "pmf_dice = Pmf()\n",
    "pmf_dice.Set(Die(4), 5)\n",
    "pmf_dice.Set(Die(6), 4)\n",
    "pmf_dice.Set(Die(8), 3)\n",
    "pmf_dice.Set(Die(12), 2)\n",
    "pmf_dice.Set(Die(20), 1)\n",
    "pmf_dice.Normalize()\n",
    "pmf_dice.GetDict()"
   ]
  },
  {
   "cell_type": "code",
   "execution_count": 17,
   "metadata": {},
   "outputs": [
    {
     "data": {
      "text/plain": [
       "[<matplotlib.lines.Line2D at 0x7f67d241c760>]"
      ]
     },
     "execution_count": 17,
     "metadata": {},
     "output_type": "execute_result"
    },
    {
     "data": {
      "image/png": "[encoded data removed]",
      "text/plain": [
       "<Figure size 640x480 with 1 Axes>"
      ]
     },
     "metadata": {},
     "output_type": "display_data"
    }
   ],
   "source": [
    "mix = Pmf()\n",
    "for die, weight in pmf_dice.Items():\n",
    "    for outcome, prob in die.Items():\n",
    "        mix.Incr(outcome, weight*prob)\n",
    "x = []\n",
    "y = []\n",
    "for h, prob in mix.Items():\n",
    "    x.append(h)\n",
    "    y.append(prob)\n",
    "plt.plot(x,y)"
   ]
  },
  {
   "cell_type": "code",
   "execution_count": 18,
   "metadata": {},
   "outputs": [
    {
     "data": {
      "text/plain": [
       "4"
      ]
     },
     "execution_count": 18,
     "metadata": {},
     "output_type": "execute_result"
    }
   ],
   "source": [
    "mix.MaximumLikelihood()"
   ]
  },
  {
   "cell_type": "code",
   "execution_count": null,
   "metadata": {},
   "outputs": [],
   "source": []
  }
 ],
 "metadata": {
  "kernelspec": {
   "display_name": "Python 3.8.13 ('stock_env')",
   "language": "python",
   "name": "python3"
  },
  "language_info": {
   "codemirror_mode": {
    "name": "ipython",
    "version": 3
   },
   "file_extension": ".py",
   "mimetype": "text/x-python",
   "name": "python",
   "nbconvert_exporter": "python",
   "pygments_lexer": "ipython3",
   "version": "3.8.13"
  },
  "orig_nbformat": 4,
  "vscode": {
   "interpreter": {
    "hash": "82412ded204c99d8179b4b1ee3f42de77e30b86b122ca2fd6741c7dd5e56f54e"
   }
  }
 },
 "nbformat": 4,
 "nbformat_minor": 2
}
