{
 "cells": [
  {
   "cell_type": "code",
   "execution_count": 1,
   "metadata": {},
   "outputs": [],
   "source": [
    "import pandas as pd\n",
    "import numpy as np\n",
    "import utils as u\n",
    "import matplotlib.pyplot as plt\n",
    "import scipy.stats as stat\n",
    "import empiricaldist as ed"
   ]
  },
  {
   "cell_type": "code",
   "execution_count": 5,
   "metadata": {},
   "outputs": [
    {
     "data": {
      "text/html": [
       "<div>\n",
       "<style scoped>\n",
       "    .dataframe tbody tr th:only-of-type {\n",
       "        vertical-align: middle;\n",
       "    }\n",
       "\n",
       "    .dataframe tbody tr th {\n",
       "        vertical-align: top;\n",
       "    }\n",
       "\n",
       "    .dataframe thead th {\n",
       "        text-align: right;\n",
       "    }\n",
       "</style>\n",
       "<table border=\"1\" class=\"dataframe\">\n",
       "  <thead>\n",
       "    <tr style=\"text-align: right;\">\n",
       "      <th></th>\n",
       "      <th>Date</th>\n",
       "      <th>Temperature</th>\n",
       "      <th>Damage</th>\n",
       "    </tr>\n",
       "  </thead>\n",
       "  <tbody>\n",
       "    <tr>\n",
       "      <th>0</th>\n",
       "      <td>1981-04-12</td>\n",
       "      <td>66</td>\n",
       "      <td>0</td>\n",
       "    </tr>\n",
       "    <tr>\n",
       "      <th>1</th>\n",
       "      <td>1981-11-12</td>\n",
       "      <td>70</td>\n",
       "      <td>1</td>\n",
       "    </tr>\n",
       "    <tr>\n",
       "      <th>2</th>\n",
       "      <td>1982-03-22</td>\n",
       "      <td>69</td>\n",
       "      <td>0</td>\n",
       "    </tr>\n",
       "    <tr>\n",
       "      <th>4</th>\n",
       "      <td>1982-01-11</td>\n",
       "      <td>68</td>\n",
       "      <td>0</td>\n",
       "    </tr>\n",
       "    <tr>\n",
       "      <th>5</th>\n",
       "      <td>1983-04-04</td>\n",
       "      <td>67</td>\n",
       "      <td>0</td>\n",
       "    </tr>\n",
       "    <tr>\n",
       "      <th>6</th>\n",
       "      <td>1983-06-18</td>\n",
       "      <td>72</td>\n",
       "      <td>0</td>\n",
       "    </tr>\n",
       "    <tr>\n",
       "      <th>7</th>\n",
       "      <td>1983-08-30</td>\n",
       "      <td>73</td>\n",
       "      <td>0</td>\n",
       "    </tr>\n",
       "    <tr>\n",
       "      <th>8</th>\n",
       "      <td>1983-11-28</td>\n",
       "      <td>70</td>\n",
       "      <td>0</td>\n",
       "    </tr>\n",
       "    <tr>\n",
       "      <th>9</th>\n",
       "      <td>1984-02-03</td>\n",
       "      <td>57</td>\n",
       "      <td>1</td>\n",
       "    </tr>\n",
       "    <tr>\n",
       "      <th>10</th>\n",
       "      <td>1984-04-06</td>\n",
       "      <td>63</td>\n",
       "      <td>1</td>\n",
       "    </tr>\n",
       "    <tr>\n",
       "      <th>11</th>\n",
       "      <td>1984-08-30</td>\n",
       "      <td>70</td>\n",
       "      <td>1</td>\n",
       "    </tr>\n",
       "    <tr>\n",
       "      <th>12</th>\n",
       "      <td>1984-10-05</td>\n",
       "      <td>78</td>\n",
       "      <td>0</td>\n",
       "    </tr>\n",
       "    <tr>\n",
       "      <th>13</th>\n",
       "      <td>1984-11-08</td>\n",
       "      <td>67</td>\n",
       "      <td>0</td>\n",
       "    </tr>\n",
       "    <tr>\n",
       "      <th>14</th>\n",
       "      <td>1985-01-24</td>\n",
       "      <td>53</td>\n",
       "      <td>1</td>\n",
       "    </tr>\n",
       "    <tr>\n",
       "      <th>15</th>\n",
       "      <td>1985-04-12</td>\n",
       "      <td>67</td>\n",
       "      <td>0</td>\n",
       "    </tr>\n",
       "    <tr>\n",
       "      <th>16</th>\n",
       "      <td>1985-04-29</td>\n",
       "      <td>75</td>\n",
       "      <td>0</td>\n",
       "    </tr>\n",
       "    <tr>\n",
       "      <th>17</th>\n",
       "      <td>1985-06-17</td>\n",
       "      <td>70</td>\n",
       "      <td>0</td>\n",
       "    </tr>\n",
       "    <tr>\n",
       "      <th>18</th>\n",
       "      <td>1985-07-29</td>\n",
       "      <td>81</td>\n",
       "      <td>0</td>\n",
       "    </tr>\n",
       "    <tr>\n",
       "      <th>19</th>\n",
       "      <td>1985-08-27</td>\n",
       "      <td>76</td>\n",
       "      <td>0</td>\n",
       "    </tr>\n",
       "    <tr>\n",
       "      <th>20</th>\n",
       "      <td>1985-10-03</td>\n",
       "      <td>79</td>\n",
       "      <td>0</td>\n",
       "    </tr>\n",
       "    <tr>\n",
       "      <th>21</th>\n",
       "      <td>1985-10-30</td>\n",
       "      <td>75</td>\n",
       "      <td>1</td>\n",
       "    </tr>\n",
       "    <tr>\n",
       "      <th>22</th>\n",
       "      <td>1985-11-26</td>\n",
       "      <td>76</td>\n",
       "      <td>0</td>\n",
       "    </tr>\n",
       "    <tr>\n",
       "      <th>23</th>\n",
       "      <td>1986-01-12</td>\n",
       "      <td>58</td>\n",
       "      <td>1</td>\n",
       "    </tr>\n",
       "  </tbody>\n",
       "</table>\n",
       "</div>"
      ],
      "text/plain": [
       "         Date  Temperature  Damage\n",
       "0  1981-04-12           66       0\n",
       "1  1981-11-12           70       1\n",
       "2  1982-03-22           69       0\n",
       "4  1982-01-11           68       0\n",
       "5  1983-04-04           67       0\n",
       "6  1983-06-18           72       0\n",
       "7  1983-08-30           73       0\n",
       "8  1983-11-28           70       0\n",
       "9  1984-02-03           57       1\n",
       "10 1984-04-06           63       1\n",
       "11 1984-08-30           70       1\n",
       "12 1984-10-05           78       0\n",
       "13 1984-11-08           67       0\n",
       "14 1985-01-24           53       1\n",
       "15 1985-04-12           67       0\n",
       "16 1985-04-29           75       0\n",
       "17 1985-06-17           70       0\n",
       "18 1985-07-29           81       0\n",
       "19 1985-08-27           76       0\n",
       "20 1985-10-03           79       0\n",
       "21 1985-10-30           75       1\n",
       "22 1985-11-26           76       0\n",
       "23 1986-01-12           58       1"
      ]
     },
     "execution_count": 5,
     "metadata": {},
     "output_type": "execute_result"
    }
   ],
   "source": [
    "df = pd.read_csv('space.csv', parse_dates=[0])\n",
    "\n",
    "# avoiding column names with spaces\n",
    "df.rename(columns={'Damage Incident': 'Damage'}, inplace=True)\n",
    "\n",
    "# dropping row 3, in which Damage Incident is NaN,\n",
    "# and row 24, which is the record for the Challenger\n",
    "df.drop(labels=[3, 24], inplace=True)\n",
    "\n",
    "# convert the Damage column to integer\n",
    "df['Damage'] = df['Damage'].astype(int)\n",
    "\n",
    "df"
   ]
  },
  {
   "cell_type": "code",
   "execution_count": 6,
   "metadata": {},
   "outputs": [],
   "source": [
    "def plot_data(data):\n",
    "    \"\"\"Plot damage as a function of temperature.\n",
    "    \n",
    "    data: DataFrame\n",
    "    \"\"\"\n",
    "    plt.plot(data['Temperature'], data['Damage'], 'o', \n",
    "             label='data', color='C0', alpha=0.4)\n",
    "\n",
    "    u.decorate(ylabel=\"Probability of damage\",\n",
    "         xlabel=\"Outside temperature (deg F)\",\n",
    "         title=\"Damage to O-Rings vs Temperature\")"
   ]
  },
  {
   "cell_type": "code",
   "execution_count": 7,
   "metadata": {},
   "outputs": [
    {
     "data": {
      "image/png": "[encoded data removed]",
      "text/plain": [
       "<Figure size 432x288 with 1 Axes>"
      ]
     },
     "metadata": {
      "needs_background": "light"
     },
     "output_type": "display_data"
    }
   ],
   "source": [
    "plot_data(df)"
   ]
  },
  {
   "cell_type": "markdown",
   "metadata": {},
   "source": [
    "When the outside temperature was below 65 degrees, there was always damage to the O-rings. When the temperature was above 65 degrees, there was usually no damage.\n",
    "\n",
    "Based on this figure, it seems plausible that the probability of damage is related to temperature. If we assume this probability follows a logistic model, we can write:\n",
    "\n",
    "log(P(H|x)) = beta0 + beta1*x; where x is temperature"
   ]
  },
  {
   "cell_type": "code",
   "execution_count": 45,
   "metadata": {},
   "outputs": [
    {
     "data": {
      "text/plain": [
       "count    2.300000e+01\n",
       "mean     5.309762e-16\n",
       "std      1.000000e+00\n",
       "min     -2.347319e+00\n",
       "25%     -3.634956e-01\n",
       "50%      6.160942e-02\n",
       "75%      7.701178e-01\n",
       "max      1.620328e+00\n",
       "Name: x, dtype: float64"
      ]
     },
     "execution_count": 45,
     "metadata": {},
     "output_type": "execute_result"
    }
   ],
   "source": [
    "offset = df['Temperature'].mean()\n",
    "std = df['Temperature'].std()\n",
    "df['x'] = (df['Temperature'] - offset)/std\n",
    "df['x'].describe()"
   ]
  },
  {
   "cell_type": "code",
   "execution_count": 71,
   "metadata": {},
   "outputs": [
    {
     "name": "stderr",
     "output_type": "stream",
     "text": [
      "c:\\Users\\marek.kancir\\Anaconda3\\envs\\scraping_env\\lib\\site-packages\\pandas\\plotting\\_matplotlib\\core.py:1114: UserWarning: No data for colormapping provided via 'c'. Parameters 'cmap' will be ignored\n",
      "  scatter = ax.scatter(\n"
     ]
    },
    {
     "data": {
      "text/plain": [
       "<AxesSubplot: xlabel='Temperature', ylabel='x'>"
      ]
     },
     "execution_count": 71,
     "metadata": {},
     "output_type": "execute_result"
    },
    {
     "data": {
      "image/png": "[encoded data removed]",
      "text/plain": [
       "<Figure size 432x288 with 1 Axes>"
      ]
     },
     "metadata": {
      "needs_background": "light"
     },
     "output_type": "display_data"
    }
   ],
   "source": [
    "df[[\"Temperature\", 'x']].plot(x='Temperature', y='x', kind='scatter')"
   ]
  },
  {
   "cell_type": "code",
   "execution_count": 46,
   "metadata": {},
   "outputs": [],
   "source": [
    "df['y'] = df['Damage']"
   ]
  },
  {
   "cell_type": "code",
   "execution_count": 47,
   "metadata": {},
   "outputs": [
    {
     "data": {
      "text/plain": [
       "Intercept   -1.107550\n",
       "x           -1.638391\n",
       "dtype: float64"
      ]
     },
     "execution_count": 47,
     "metadata": {},
     "output_type": "execute_result"
    }
   ],
   "source": [
    "import statsmodels.formula.api as smf\n",
    "\n",
    "formula = 'y ~ x'\n",
    "results = smf.logit(formula, data=df).fit(disp=False)\n",
    "results.params"
   ]
  },
  {
   "cell_type": "code",
   "execution_count": 48,
   "metadata": {},
   "outputs": [],
   "source": [
    "inter = results.params['Intercept']\n",
    "slope = results.params['x']\n",
    "xs = (np.arange(53, 83) - offset)/std\n",
    "\n",
    "log_odds = inter + slope * xs\n",
    "odds = np.exp(log_odds)\n",
    "ps = odds / (odds + 1)\n"
   ]
  },
  {
   "cell_type": "code",
   "execution_count": 49,
   "metadata": {},
   "outputs": [],
   "source": [
    "from scipy.special import expit\n",
    "# Converting log odds to probabilities is a common enough operation that it has a name, expit, and SciPy provides a function that computes it.\n",
    "ps = expit(inter + slope * xs)"
   ]
  },
  {
   "cell_type": "code",
   "execution_count": 52,
   "metadata": {},
   "outputs": [
    {
     "data": {
      "image/png": "[encoded data removed]",
      "text/plain": [
       "<Figure size 432x288 with 1 Axes>"
      ]
     },
     "metadata": {
      "needs_background": "light"
     },
     "output_type": "display_data"
    }
   ],
   "source": [
    "plt.plot(xs*std + offset, ps, label='model', color='C1')\n",
    "\n",
    "plot_data(df)"
   ]
  },
  {
   "cell_type": "markdown",
   "metadata": {},
   "source": [
    "At low temperatures, the probability of damage is high; at high temperatures, it drops off to near 0.\n",
    "\n",
    "But that’s based on conventional logistic regression. Now we’ll do the Bayesian version."
   ]
  },
  {
   "cell_type": "markdown",
   "metadata": {},
   "source": [
    "## Bayesian model\n",
    "\n",
    "I’ll use uniform distributions for both parameters, using the point estimates from the previous section to help me choose the upper and lower bounds."
   ]
  },
  {
   "cell_type": "code",
   "execution_count": 109,
   "metadata": {},
   "outputs": [
    {
     "data": {
      "text/html": [
       "<div>\n",
       "<style scoped>\n",
       "    .dataframe tbody tr th:only-of-type {\n",
       "        vertical-align: middle;\n",
       "    }\n",
       "\n",
       "    .dataframe tbody tr th {\n",
       "        vertical-align: top;\n",
       "    }\n",
       "\n",
       "    .dataframe thead th {\n",
       "        text-align: right;\n",
       "    }\n",
       "</style>\n",
       "<table border=\"1\" class=\"dataframe\">\n",
       "  <thead>\n",
       "    <tr style=\"text-align: right;\">\n",
       "      <th>intercept</th>\n",
       "      <th>-5.00</th>\n",
       "      <th>-4.93</th>\n",
       "      <th>-4.86</th>\n",
       "      <th>-4.79</th>\n",
       "      <th>-4.72</th>\n",
       "      <th>-4.65</th>\n",
       "      <th>-4.58</th>\n",
       "      <th>-4.51</th>\n",
       "      <th>-4.44</th>\n",
       "      <th>-4.37</th>\n",
       "      <th>...</th>\n",
       "      <th>1.37</th>\n",
       "      <th>1.44</th>\n",
       "      <th>1.51</th>\n",
       "      <th>1.58</th>\n",
       "      <th>1.65</th>\n",
       "      <th>1.72</th>\n",
       "      <th>1.79</th>\n",
       "      <th>1.86</th>\n",
       "      <th>1.93</th>\n",
       "      <th>2.00</th>\n",
       "    </tr>\n",
       "    <tr>\n",
       "      <th>temperature</th>\n",
       "      <th></th>\n",
       "      <th></th>\n",
       "      <th></th>\n",
       "      <th></th>\n",
       "      <th></th>\n",
       "      <th></th>\n",
       "      <th></th>\n",
       "      <th></th>\n",
       "      <th></th>\n",
       "      <th></th>\n",
       "      <th></th>\n",
       "      <th></th>\n",
       "      <th></th>\n",
       "      <th></th>\n",
       "      <th></th>\n",
       "      <th></th>\n",
       "      <th></th>\n",
       "      <th></th>\n",
       "      <th></th>\n",
       "      <th></th>\n",
       "      <th></th>\n",
       "    </tr>\n",
       "  </thead>\n",
       "  <tbody>\n",
       "    <tr>\n",
       "      <th>-7.00</th>\n",
       "      <td>0.000098</td>\n",
       "      <td>0.000098</td>\n",
       "      <td>0.000098</td>\n",
       "      <td>0.000098</td>\n",
       "      <td>0.000098</td>\n",
       "      <td>0.000098</td>\n",
       "      <td>0.000098</td>\n",
       "      <td>0.000098</td>\n",
       "      <td>0.000098</td>\n",
       "      <td>0.000098</td>\n",
       "      <td>...</td>\n",
       "      <td>0.000098</td>\n",
       "      <td>0.000098</td>\n",
       "      <td>0.000098</td>\n",
       "      <td>0.000098</td>\n",
       "      <td>0.000098</td>\n",
       "      <td>0.000098</td>\n",
       "      <td>0.000098</td>\n",
       "      <td>0.000098</td>\n",
       "      <td>0.000098</td>\n",
       "      <td>0.000098</td>\n",
       "    </tr>\n",
       "    <tr>\n",
       "      <th>-6.91</th>\n",
       "      <td>0.000098</td>\n",
       "      <td>0.000098</td>\n",
       "      <td>0.000098</td>\n",
       "      <td>0.000098</td>\n",
       "      <td>0.000098</td>\n",
       "      <td>0.000098</td>\n",
       "      <td>0.000098</td>\n",
       "      <td>0.000098</td>\n",
       "      <td>0.000098</td>\n",
       "      <td>0.000098</td>\n",
       "      <td>...</td>\n",
       "      <td>0.000098</td>\n",
       "      <td>0.000098</td>\n",
       "      <td>0.000098</td>\n",
       "      <td>0.000098</td>\n",
       "      <td>0.000098</td>\n",
       "      <td>0.000098</td>\n",
       "      <td>0.000098</td>\n",
       "      <td>0.000098</td>\n",
       "      <td>0.000098</td>\n",
       "      <td>0.000098</td>\n",
       "    </tr>\n",
       "    <tr>\n",
       "      <th>-6.82</th>\n",
       "      <td>0.000098</td>\n",
       "      <td>0.000098</td>\n",
       "      <td>0.000098</td>\n",
       "      <td>0.000098</td>\n",
       "      <td>0.000098</td>\n",
       "      <td>0.000098</td>\n",
       "      <td>0.000098</td>\n",
       "      <td>0.000098</td>\n",
       "      <td>0.000098</td>\n",
       "      <td>0.000098</td>\n",
       "      <td>...</td>\n",
       "      <td>0.000098</td>\n",
       "      <td>0.000098</td>\n",
       "      <td>0.000098</td>\n",
       "      <td>0.000098</td>\n",
       "      <td>0.000098</td>\n",
       "      <td>0.000098</td>\n",
       "      <td>0.000098</td>\n",
       "      <td>0.000098</td>\n",
       "      <td>0.000098</td>\n",
       "      <td>0.000098</td>\n",
       "    </tr>\n",
       "    <tr>\n",
       "      <th>-6.73</th>\n",
       "      <td>0.000098</td>\n",
       "      <td>0.000098</td>\n",
       "      <td>0.000098</td>\n",
       "      <td>0.000098</td>\n",
       "      <td>0.000098</td>\n",
       "      <td>0.000098</td>\n",
       "      <td>0.000098</td>\n",
       "      <td>0.000098</td>\n",
       "      <td>0.000098</td>\n",
       "      <td>0.000098</td>\n",
       "      <td>...</td>\n",
       "      <td>0.000098</td>\n",
       "      <td>0.000098</td>\n",
       "      <td>0.000098</td>\n",
       "      <td>0.000098</td>\n",
       "      <td>0.000098</td>\n",
       "      <td>0.000098</td>\n",
       "      <td>0.000098</td>\n",
       "      <td>0.000098</td>\n",
       "      <td>0.000098</td>\n",
       "      <td>0.000098</td>\n",
       "    </tr>\n",
       "    <tr>\n",
       "      <th>-6.64</th>\n",
       "      <td>0.000098</td>\n",
       "      <td>0.000098</td>\n",
       "      <td>0.000098</td>\n",
       "      <td>0.000098</td>\n",
       "      <td>0.000098</td>\n",
       "      <td>0.000098</td>\n",
       "      <td>0.000098</td>\n",
       "      <td>0.000098</td>\n",
       "      <td>0.000098</td>\n",
       "      <td>0.000098</td>\n",
       "      <td>...</td>\n",
       "      <td>0.000098</td>\n",
       "      <td>0.000098</td>\n",
       "      <td>0.000098</td>\n",
       "      <td>0.000098</td>\n",
       "      <td>0.000098</td>\n",
       "      <td>0.000098</td>\n",
       "      <td>0.000098</td>\n",
       "      <td>0.000098</td>\n",
       "      <td>0.000098</td>\n",
       "      <td>0.000098</td>\n",
       "    </tr>\n",
       "    <tr>\n",
       "      <th>...</th>\n",
       "      <td>...</td>\n",
       "      <td>...</td>\n",
       "      <td>...</td>\n",
       "      <td>...</td>\n",
       "      <td>...</td>\n",
       "      <td>...</td>\n",
       "      <td>...</td>\n",
       "      <td>...</td>\n",
       "      <td>...</td>\n",
       "      <td>...</td>\n",
       "      <td>...</td>\n",
       "      <td>...</td>\n",
       "      <td>...</td>\n",
       "      <td>...</td>\n",
       "      <td>...</td>\n",
       "      <td>...</td>\n",
       "      <td>...</td>\n",
       "      <td>...</td>\n",
       "      <td>...</td>\n",
       "      <td>...</td>\n",
       "      <td>...</td>\n",
       "    </tr>\n",
       "    <tr>\n",
       "      <th>1.64</th>\n",
       "      <td>0.000098</td>\n",
       "      <td>0.000098</td>\n",
       "      <td>0.000098</td>\n",
       "      <td>0.000098</td>\n",
       "      <td>0.000098</td>\n",
       "      <td>0.000098</td>\n",
       "      <td>0.000098</td>\n",
       "      <td>0.000098</td>\n",
       "      <td>0.000098</td>\n",
       "      <td>0.000098</td>\n",
       "      <td>...</td>\n",
       "      <td>0.000098</td>\n",
       "      <td>0.000098</td>\n",
       "      <td>0.000098</td>\n",
       "      <td>0.000098</td>\n",
       "      <td>0.000098</td>\n",
       "      <td>0.000098</td>\n",
       "      <td>0.000098</td>\n",
       "      <td>0.000098</td>\n",
       "      <td>0.000098</td>\n",
       "      <td>0.000098</td>\n",
       "    </tr>\n",
       "    <tr>\n",
       "      <th>1.73</th>\n",
       "      <td>0.000098</td>\n",
       "      <td>0.000098</td>\n",
       "      <td>0.000098</td>\n",
       "      <td>0.000098</td>\n",
       "      <td>0.000098</td>\n",
       "      <td>0.000098</td>\n",
       "      <td>0.000098</td>\n",
       "      <td>0.000098</td>\n",
       "      <td>0.000098</td>\n",
       "      <td>0.000098</td>\n",
       "      <td>...</td>\n",
       "      <td>0.000098</td>\n",
       "      <td>0.000098</td>\n",
       "      <td>0.000098</td>\n",
       "      <td>0.000098</td>\n",
       "      <td>0.000098</td>\n",
       "      <td>0.000098</td>\n",
       "      <td>0.000098</td>\n",
       "      <td>0.000098</td>\n",
       "      <td>0.000098</td>\n",
       "      <td>0.000098</td>\n",
       "    </tr>\n",
       "    <tr>\n",
       "      <th>1.82</th>\n",
       "      <td>0.000098</td>\n",
       "      <td>0.000098</td>\n",
       "      <td>0.000098</td>\n",
       "      <td>0.000098</td>\n",
       "      <td>0.000098</td>\n",
       "      <td>0.000098</td>\n",
       "      <td>0.000098</td>\n",
       "      <td>0.000098</td>\n",
       "      <td>0.000098</td>\n",
       "      <td>0.000098</td>\n",
       "      <td>...</td>\n",
       "      <td>0.000098</td>\n",
       "      <td>0.000098</td>\n",
       "      <td>0.000098</td>\n",
       "      <td>0.000098</td>\n",
       "      <td>0.000098</td>\n",
       "      <td>0.000098</td>\n",
       "      <td>0.000098</td>\n",
       "      <td>0.000098</td>\n",
       "      <td>0.000098</td>\n",
       "      <td>0.000098</td>\n",
       "    </tr>\n",
       "    <tr>\n",
       "      <th>1.91</th>\n",
       "      <td>0.000098</td>\n",
       "      <td>0.000098</td>\n",
       "      <td>0.000098</td>\n",
       "      <td>0.000098</td>\n",
       "      <td>0.000098</td>\n",
       "      <td>0.000098</td>\n",
       "      <td>0.000098</td>\n",
       "      <td>0.000098</td>\n",
       "      <td>0.000098</td>\n",
       "      <td>0.000098</td>\n",
       "      <td>...</td>\n",
       "      <td>0.000098</td>\n",
       "      <td>0.000098</td>\n",
       "      <td>0.000098</td>\n",
       "      <td>0.000098</td>\n",
       "      <td>0.000098</td>\n",
       "      <td>0.000098</td>\n",
       "      <td>0.000098</td>\n",
       "      <td>0.000098</td>\n",
       "      <td>0.000098</td>\n",
       "      <td>0.000098</td>\n",
       "    </tr>\n",
       "    <tr>\n",
       "      <th>2.00</th>\n",
       "      <td>0.000098</td>\n",
       "      <td>0.000098</td>\n",
       "      <td>0.000098</td>\n",
       "      <td>0.000098</td>\n",
       "      <td>0.000098</td>\n",
       "      <td>0.000098</td>\n",
       "      <td>0.000098</td>\n",
       "      <td>0.000098</td>\n",
       "      <td>0.000098</td>\n",
       "      <td>0.000098</td>\n",
       "      <td>...</td>\n",
       "      <td>0.000098</td>\n",
       "      <td>0.000098</td>\n",
       "      <td>0.000098</td>\n",
       "      <td>0.000098</td>\n",
       "      <td>0.000098</td>\n",
       "      <td>0.000098</td>\n",
       "      <td>0.000098</td>\n",
       "      <td>0.000098</td>\n",
       "      <td>0.000098</td>\n",
       "      <td>0.000098</td>\n",
       "    </tr>\n",
       "  </tbody>\n",
       "</table>\n",
       "<p>101 rows × 101 columns</p>\n",
       "</div>"
      ],
      "text/plain": [
       "intercept       -5.00     -4.93     -4.86     -4.79     -4.72     -4.65  \\\n",
       "temperature                                                               \n",
       "-7.00        0.000098  0.000098  0.000098  0.000098  0.000098  0.000098   \n",
       "-6.91        0.000098  0.000098  0.000098  0.000098  0.000098  0.000098   \n",
       "-6.82        0.000098  0.000098  0.000098  0.000098  0.000098  0.000098   \n",
       "-6.73        0.000098  0.000098  0.000098  0.000098  0.000098  0.000098   \n",
       "-6.64        0.000098  0.000098  0.000098  0.000098  0.000098  0.000098   \n",
       "...               ...       ...       ...       ...       ...       ...   \n",
       " 1.64        0.000098  0.000098  0.000098  0.000098  0.000098  0.000098   \n",
       " 1.73        0.000098  0.000098  0.000098  0.000098  0.000098  0.000098   \n",
       " 1.82        0.000098  0.000098  0.000098  0.000098  0.000098  0.000098   \n",
       " 1.91        0.000098  0.000098  0.000098  0.000098  0.000098  0.000098   \n",
       " 2.00        0.000098  0.000098  0.000098  0.000098  0.000098  0.000098   \n",
       "\n",
       "intercept       -4.58     -4.51     -4.44     -4.37  ...      1.37      1.44  \\\n",
       "temperature                                          ...                       \n",
       "-7.00        0.000098  0.000098  0.000098  0.000098  ...  0.000098  0.000098   \n",
       "-6.91        0.000098  0.000098  0.000098  0.000098  ...  0.000098  0.000098   \n",
       "-6.82        0.000098  0.000098  0.000098  0.000098  ...  0.000098  0.000098   \n",
       "-6.73        0.000098  0.000098  0.000098  0.000098  ...  0.000098  0.000098   \n",
       "-6.64        0.000098  0.000098  0.000098  0.000098  ...  0.000098  0.000098   \n",
       "...               ...       ...       ...       ...  ...       ...       ...   \n",
       " 1.64        0.000098  0.000098  0.000098  0.000098  ...  0.000098  0.000098   \n",
       " 1.73        0.000098  0.000098  0.000098  0.000098  ...  0.000098  0.000098   \n",
       " 1.82        0.000098  0.000098  0.000098  0.000098  ...  0.000098  0.000098   \n",
       " 1.91        0.000098  0.000098  0.000098  0.000098  ...  0.000098  0.000098   \n",
       " 2.00        0.000098  0.000098  0.000098  0.000098  ...  0.000098  0.000098   \n",
       "\n",
       "intercept        1.51      1.58      1.65      1.72      1.79      1.86  \\\n",
       "temperature                                                               \n",
       "-7.00        0.000098  0.000098  0.000098  0.000098  0.000098  0.000098   \n",
       "-6.91        0.000098  0.000098  0.000098  0.000098  0.000098  0.000098   \n",
       "-6.82        0.000098  0.000098  0.000098  0.000098  0.000098  0.000098   \n",
       "-6.73        0.000098  0.000098  0.000098  0.000098  0.000098  0.000098   \n",
       "-6.64        0.000098  0.000098  0.000098  0.000098  0.000098  0.000098   \n",
       "...               ...       ...       ...       ...       ...       ...   \n",
       " 1.64        0.000098  0.000098  0.000098  0.000098  0.000098  0.000098   \n",
       " 1.73        0.000098  0.000098  0.000098  0.000098  0.000098  0.000098   \n",
       " 1.82        0.000098  0.000098  0.000098  0.000098  0.000098  0.000098   \n",
       " 1.91        0.000098  0.000098  0.000098  0.000098  0.000098  0.000098   \n",
       " 2.00        0.000098  0.000098  0.000098  0.000098  0.000098  0.000098   \n",
       "\n",
       "intercept        1.93      2.00  \n",
       "temperature                      \n",
       "-7.00        0.000098  0.000098  \n",
       "-6.91        0.000098  0.000098  \n",
       "-6.82        0.000098  0.000098  \n",
       "-6.73        0.000098  0.000098  \n",
       "-6.64        0.000098  0.000098  \n",
       "...               ...       ...  \n",
       " 1.64        0.000098  0.000098  \n",
       " 1.73        0.000098  0.000098  \n",
       " 1.82        0.000098  0.000098  \n",
       " 1.91        0.000098  0.000098  \n",
       " 2.00        0.000098  0.000098  \n",
       "\n",
       "[101 rows x 101 columns]"
      ]
     },
     "execution_count": 109,
     "metadata": {},
     "output_type": "execute_result"
    }
   ],
   "source": [
    "prior_inter = u.make_uniform(\n",
    "    np.linspace(-5, 2, 101),\n",
    "    'intercept'\n",
    ")\n",
    "prior_temp = u.make_uniform(\n",
    "    np.linspace(-7, 2, 101),\n",
    "    'temperature'\n",
    ")\n",
    "\n",
    "prior_joint = u.make_joint(\n",
    "    prior_inter, prior_temp\n",
    ")\n",
    "prior_joint"
   ]
  },
  {
   "cell_type": "code",
   "execution_count": 110,
   "metadata": {},
   "outputs": [
    {
     "data": {
      "text/html": [
       "<div>\n",
       "<style scoped>\n",
       "    .dataframe tbody tr th:only-of-type {\n",
       "        vertical-align: middle;\n",
       "    }\n",
       "\n",
       "    .dataframe tbody tr th {\n",
       "        vertical-align: top;\n",
       "    }\n",
       "\n",
       "    .dataframe thead th {\n",
       "        text-align: right;\n",
       "    }\n",
       "</style>\n",
       "<table border=\"1\" class=\"dataframe\">\n",
       "  <thead>\n",
       "    <tr style=\"text-align: right;\">\n",
       "      <th></th>\n",
       "      <th></th>\n",
       "      <th>probs</th>\n",
       "    </tr>\n",
       "    <tr>\n",
       "      <th>temperature</th>\n",
       "      <th>intercept</th>\n",
       "      <th></th>\n",
       "    </tr>\n",
       "  </thead>\n",
       "  <tbody>\n",
       "    <tr>\n",
       "      <th rowspan=\"3\" valign=\"top\">-7.0</th>\n",
       "      <th>-5.00</th>\n",
       "      <td>0.000098</td>\n",
       "    </tr>\n",
       "    <tr>\n",
       "      <th>-4.93</th>\n",
       "      <td>0.000098</td>\n",
       "    </tr>\n",
       "    <tr>\n",
       "      <th>-4.86</th>\n",
       "      <td>0.000098</td>\n",
       "    </tr>\n",
       "  </tbody>\n",
       "</table>\n",
       "</div>"
      ],
      "text/plain": [
       "temperature  intercept\n",
       "-7.0         -5.00        0.000098\n",
       "             -4.93        0.000098\n",
       "             -4.86        0.000098\n",
       "Name: , dtype: float64"
      ]
     },
     "execution_count": 110,
     "metadata": {},
     "output_type": "execute_result"
    }
   ],
   "source": [
    "joint_pmf = ed.Pmf(prior_joint.stack())\n",
    "joint_pmf.head()"
   ]
  },
  {
   "cell_type": "markdown",
   "metadata": {},
   "source": [
    "### Likelihood\n",
    "\n",
    "To do the update, we have to compute the likelihood of the data for each possible pair of parameters.\n",
    "To make that easier, I’m going to group the data by temperature, x, and count the number of launches and damage incidents at each temperature.\n",
    "\n",
    "The result is a DataFrame with two columns: count is the number of launches at each temperature; sum is the number of damage incidents. To be consistent with the parameters of the binomial distributions, I’ll assign them to variables named ns and ks."
   ]
  },
  {
   "cell_type": "code",
   "execution_count": 111,
   "metadata": {},
   "outputs": [],
   "source": [
    "grouped = df.groupby('x')['y'].agg(['count', 'sum'])\n",
    "\n",
    "ns = grouped['count']\n",
    "ks = grouped['sum']\n",
    "xs = grouped.index"
   ]
  },
  {
   "cell_type": "code",
   "execution_count": 112,
   "metadata": {},
   "outputs": [
    {
     "data": {
      "text/plain": [
       "2.126136347888622e-05"
      ]
     },
     "execution_count": 112,
     "metadata": {},
     "output_type": "execute_result"
    }
   ],
   "source": [
    "likelihood = joint_pmf.copy()\n",
    "\n",
    "# The loop iterates through the parameters. For each possible pair, \n",
    "# it uses the logistic model to compute ps, computes the likelihood of the data, and assigns the result to a row in likelihood.\n",
    "for slope, inter in joint_pmf.index:\n",
    "    ps = expit(inter + slope * xs)\n",
    "    # Each element of likes is the probability of seeing k damage incidents in n launches \n",
    "    # if the probability of damage is p. The likelihood of the whole dataset is the product of this array.\n",
    "    likes = stat.binom.pmf(ks, ns, ps)\n",
    "    likelihood[slope, inter] = likes.prod() \n",
    "\n",
    "posterior_pmf = joint_pmf * likelihood\n",
    "posterior_pmf.normalize()"
   ]
  },
  {
   "cell_type": "code",
   "execution_count": 113,
   "metadata": {},
   "outputs": [
    {
     "name": "stdout",
     "output_type": "stream",
     "text": [
      "Bayesian estimate:\n",
      " slope   -1.60\n",
      "inter   -1.08\n",
      "dtype: float64\n",
      "Statsmodels estimate:\n",
      " Intercept   -1.107550\n",
      "x           -1.638391\n",
      "dtype: float64\n"
     ]
    }
   ],
   "source": [
    "print('Bayesian estimate:\\n', pd.Series(posterior_pmf.max_prob(),\n",
    "          index=['slope', 'inter']))\n",
    "\n",
    "print('Statsmodels estimate:\\n', results.params)"
   ]
  },
  {
   "cell_type": "code",
   "execution_count": 114,
   "metadata": {},
   "outputs": [
    {
     "data": {
      "image/png": "[encoded data removed]",
      "text/plain": [
       "<Figure size 432x288 with 1 Axes>"
      ]
     },
     "metadata": {
      "needs_background": "light"
     },
     "output_type": "display_data"
    }
   ],
   "source": [
    "joint_posterior = posterior_pmf.unstack()\n",
    "u.plot_contour(joint_posterior)\n",
    "u.decorate(title='Joint posterior distribution')"
   ]
  },
  {
   "cell_type": "markdown",
   "metadata": {},
   "source": [
    "The ovals in the contour plot are aligned along a diagonal, which indicates that there is some correlation between slope and inter in the posterior distribution.\n",
    "\n",
    "But the correlation is weak, which is one of the reasons we subtracted off the mean launch temperature when we computed x; centering the data minimizes the correlation between the parameters.\n",
    "In theory, this correlation is not a problem, but in practice it is. With uncentered data, the posterior distribution is more spread out, so it’s harder to cover with the joint prior distribution. Centering the data maximizes the precision of the estimates; with uncentered data, we have to do more computation to get the same precision.\n",
    "\n",
    "*I have done standardization to lower correlation even more*"
   ]
  },
  {
   "cell_type": "code",
   "execution_count": 115,
   "metadata": {},
   "outputs": [
    {
     "data": {
      "image/png": "[encoded data removed]",
      "text/plain": [
       "<Figure size 432x288 with 1 Axes>"
      ]
     },
     "metadata": {
      "needs_background": "light"
     },
     "output_type": "display_data"
    },
    {
     "data": {
      "text/plain": [
       "<AxesSubplot: xlabel='temperature'>"
      ]
     },
     "execution_count": 115,
     "metadata": {},
     "output_type": "execute_result"
    },
    {
     "data": {
      "image/png": "[encoded data removed]",
      "text/plain": [
       "<Figure size 432x288 with 1 Axes>"
      ]
     },
     "metadata": {
      "needs_background": "light"
     },
     "output_type": "display_data"
    }
   ],
   "source": [
    "marginal_inter = u.marginal(joint_posterior, 0)\n",
    "marginal_slope = u.marginal(joint_posterior, 1)\n",
    "\n",
    "marginal_inter.plot()\n",
    "plt.show()\n",
    "plt.close()\n",
    "\n",
    "marginal_slope.plot()"
   ]
  },
  {
   "cell_type": "code",
   "execution_count": 116,
   "metadata": {},
   "outputs": [
    {
     "data": {
      "text/plain": [
       "inter   -1.251755\n",
       "slope   -2.051864\n",
       "dtype: float64"
      ]
     },
     "execution_count": 116,
     "metadata": {},
     "output_type": "execute_result"
    }
   ],
   "source": [
    "pd.Series([marginal_inter.mean(), marginal_slope.mean()],\n",
    "          index=['inter', 'slope'])"
   ]
  },
  {
   "cell_type": "markdown",
   "metadata": {},
   "source": [
    "Both marginal distributions are moderately skewed, so the posterior means are somewhat different from the point estimates."
   ]
  },
  {
   "cell_type": "markdown",
   "metadata": {},
   "source": [
    "## Interpretation\n",
    "\n",
    "Let’s interpret these parameters. Recall that the intercept is the log odds of the hypothesis when  is 0, which is when temperature is about 69.5 degrees F (the value of offset). So we can interpret the quantities in marginal_inter as log odds.\n",
    "\n",
    "true for standardization,too -> 0 = (temp - mu)/std -> temp = mu"
   ]
  },
  {
   "cell_type": "code",
   "execution_count": 117,
   "metadata": {},
   "outputs": [],
   "source": [
    "marginal_probs = marginal_inter.transform(expit) # log -> probs\n",
    "\n",
    "# let’s look more closely at the estimated slope. In the logistic model, the parameter beta1 is the log of the likelihood ratio.\n",
    "# So we can interpret the quantities in marginal_slope as log likelihood ratios, and we can use exp to transform them to likelihood ratios (also known as Bayes factors).\n",
    "marginal_lr = marginal_slope.transform(np.exp)"
   ]
  },
  {
   "cell_type": "code",
   "execution_count": 120,
   "metadata": {},
   "outputs": [
    {
     "data": {
      "image/png": "[encoded data removed]",
      "text/plain": [
       "<Figure size 432x288 with 1 Axes>"
      ]
     },
     "metadata": {
      "needs_background": "light"
     },
     "output_type": "display_data"
    }
   ],
   "source": [
    "marginal_probs.plot(color='C1')\n",
    "\n",
    "u.decorate(xlabel=f'Probability of damage at {offset} deg F (at intercept)',\n",
    "         ylabel='PDF',\n",
    "         title='Posterior marginal distribution of probabilities')"
   ]
  },
  {
   "cell_type": "code",
   "execution_count": 119,
   "metadata": {},
   "outputs": [
    {
     "data": {
      "text/plain": [
       "0.2399190570026357"
      ]
     },
     "execution_count": 119,
     "metadata": {},
     "output_type": "execute_result"
    }
   ],
   "source": [
    "# mean = probability of damage at offset\n",
    "marginal_probs.mean()"
   ]
  },
  {
   "cell_type": "code",
   "execution_count": 101,
   "metadata": {},
   "outputs": [
    {
     "data": {
      "image/png": "[encoded data removed]",
      "text/plain": [
       "<Figure size 432x288 with 1 Axes>"
      ]
     },
     "metadata": {
      "needs_background": "light"
     },
     "output_type": "display_data"
    }
   ],
   "source": [
    "marginal_lr.plot(color='C3')\n",
    "\n",
    "u.decorate(xlabel='Likelihood ratio of 1 deg F',\n",
    "         ylabel='PDF',\n",
    "         title='Posterior marginal distribution of likelihood ratios')"
   ]
  },
  {
   "cell_type": "code",
   "execution_count": 129,
   "metadata": {},
   "outputs": [
    {
     "data": {
      "text/plain": [
       "0.18063432410431407"
      ]
     },
     "execution_count": 129,
     "metadata": {},
     "output_type": "execute_result"
    }
   ],
   "source": [
    "marginal_lr.mean()"
   ]
  },
  {
   "cell_type": "markdown",
   "metadata": {},
   "source": [
    "The mean of this distribution is about 0.18, which means that each additional degree Fahrenheit provides evidence against the possibility of damage, with a likelihood ratio (Bayes factor) of 0.18.\n",
    "\n",
    "As a general rule, transform first, then compute summary statistics."
   ]
  },
  {
   "cell_type": "markdown",
   "metadata": {},
   "source": [
    "## Predictive Distribution\n",
    "\n",
    "What is the probability of O-ring damage if the outside temperature is 31 degrees F?"
   ]
  },
  {
   "cell_type": "code",
   "execution_count": 130,
   "metadata": {},
   "outputs": [
    {
     "data": {
      "text/plain": [
       "array([(-2.1400000000000006, -0.4499999999999993),\n",
       "       (-2.59, -1.4999999999999996),\n",
       "       (-1.6900000000000004, -0.7299999999999995),\n",
       "       (-0.8799999999999999, -1.3599999999999994),\n",
       "       (-1.96, -2.1999999999999997), (-1.96, -1.6399999999999997),\n",
       "       (-3.22, -0.7999999999999998),\n",
       "       (-2.6799999999999997, -1.2199999999999998),\n",
       "       (-4.300000000000001, -2.4099999999999997),\n",
       "       (-3.49, -1.7099999999999995),\n",
       "       (-1.2400000000000002, -0.9399999999999995),\n",
       "       (-1.1500000000000004, -1.3599999999999994),\n",
       "       (-2.05, -0.7299999999999995), (-2.5, -0.23999999999999932),\n",
       "       (-2.6799999999999997, -2.2699999999999996),\n",
       "       (-3.1300000000000003, -1.1499999999999995),\n",
       "       (-2.2300000000000004, -0.7999999999999998),\n",
       "       (-2.3200000000000003, -1.0099999999999998),\n",
       "       (-0.8799999999999999, -0.3799999999999999),\n",
       "       (-3.4000000000000004, -0.5199999999999996),\n",
       "       (-1.5099999999999998, -0.3799999999999999),\n",
       "       (-1.2400000000000002, -0.9399999999999995),\n",
       "       (-2.1400000000000006, -0.4499999999999993),\n",
       "       (-1.7800000000000002, -1.2199999999999998),\n",
       "       (-2.6799999999999997, -2.4099999999999997),\n",
       "       (-2.3200000000000003, -1.4299999999999997),\n",
       "       (-2.8600000000000003, -1.4299999999999997),\n",
       "       (-0.79, -0.8699999999999992), (-3.49, -2.34),\n",
       "       (-0.4300000000000006, -0.09999999999999964),\n",
       "       (-2.5, -1.2899999999999996), (-4.21, -1.1499999999999995),\n",
       "       (-2.3200000000000003, -0.5199999999999996),\n",
       "       (-2.95, -1.2199999999999998), (-2.5, -0.5899999999999999),\n",
       "       (-2.59, -0.8699999999999992),\n",
       "       (-1.2400000000000002, -1.2899999999999996),\n",
       "       (-3.49, -2.0599999999999996), (-2.2300000000000004, -1.92),\n",
       "       (-1.87, -1.1499999999999995), (-4.12, -2.6199999999999997),\n",
       "       (-2.5, -3.25), (-2.3200000000000003, -1.0099999999999998),\n",
       "       (-1.1500000000000004, -1.9899999999999998),\n",
       "       (-2.3200000000000003, -1.92), (-2.05, -2.6199999999999997),\n",
       "       (-0.8799999999999999, -0.8699999999999992),\n",
       "       (-2.3200000000000003, -1.3599999999999994),\n",
       "       (-2.2300000000000004, -0.7299999999999995),\n",
       "       (-2.8600000000000003, -1.6399999999999997),\n",
       "       (-1.42, 0.2500000000000009), (-2.59, -1.2199999999999998),\n",
       "       (-1.7800000000000002, -0.02999999999999936),\n",
       "       (-2.41, -0.4499999999999993),\n",
       "       (-1.7800000000000002, -0.02999999999999936),\n",
       "       (-0.5200000000000005, -0.8699999999999992),\n",
       "       (-1.96, -0.5899999999999999),\n",
       "       (-2.1400000000000006, -2.1999999999999997),\n",
       "       (0.019999999999999574, -0.5199999999999996),\n",
       "       (-2.05, -1.0799999999999996), (-5.83, -1.4999999999999996),\n",
       "       (-1.6900000000000004, -1.0799999999999996),\n",
       "       (-2.1400000000000006, -2.0599999999999996),\n",
       "       (-1.6900000000000004, -0.3799999999999999),\n",
       "       (-1.33, -0.3799999999999999), (-3.22, -0.6599999999999993),\n",
       "       (-2.41, -1.9899999999999998),\n",
       "       (-2.8600000000000003, -1.0799999999999996),\n",
       "       (-1.2400000000000002, -1.1499999999999995),\n",
       "       (-1.5099999999999998, -0.5899999999999999),\n",
       "       (-2.1400000000000006, -0.6599999999999993),\n",
       "       (-0.8799999999999999, -0.6599999999999993),\n",
       "       (-2.41, -1.4999999999999996), (-3.85, -3.32),\n",
       "       (-0.4300000000000006, -1.2199999999999998),\n",
       "       (-1.2400000000000002, -0.5899999999999999),\n",
       "       (-0.9700000000000006, -1.0099999999999998),\n",
       "       (-1.2400000000000002, -0.16999999999999993),\n",
       "       (-2.41, -2.0599999999999996),\n",
       "       (-1.6900000000000004, -0.9399999999999995),\n",
       "       (-2.1400000000000006, -1.0099999999999998),\n",
       "       (-2.8600000000000003, -1.5699999999999998),\n",
       "       (-2.95, -1.2199999999999998), (-1.42, -1.0099999999999998),\n",
       "       (-2.8600000000000003, -0.7299999999999995),\n",
       "       (-1.6900000000000004, -1.92),\n",
       "       (-1.6000000000000005, -1.0799999999999996),\n",
       "       (-3.49, -0.8699999999999992),\n",
       "       (-0.6100000000000003, -1.2899999999999996),\n",
       "       (-2.1400000000000006, -1.1499999999999995),\n",
       "       (-4.12, -3.1799999999999997), (-1.87, -1.2899999999999996),\n",
       "       (-2.7700000000000005, -2.13),\n",
       "       (-2.6799999999999997, -0.9399999999999995),\n",
       "       (-2.8600000000000003, -2.0599999999999996),\n",
       "       (-2.7700000000000005, -1.4999999999999996),\n",
       "       (-1.6900000000000004, -1.0099999999999998),\n",
       "       (-1.6900000000000004, -0.5199999999999996),\n",
       "       (-3.1300000000000003, -1.6399999999999997),\n",
       "       (-0.5200000000000005, -0.8699999999999992),\n",
       "       (-0.9700000000000006, -0.9399999999999995)], dtype=object)"
      ]
     },
     "execution_count": 130,
     "metadata": {},
     "output_type": "execute_result"
    }
   ],
   "source": [
    "sample = posterior_pmf.choice(101)\n",
    "sample"
   ]
  },
  {
   "cell_type": "code",
   "execution_count": 131,
   "metadata": {},
   "outputs": [],
   "source": [
    "# To generate predictions, I’ll use a range of temperatures\n",
    "#  from 30 degrees F (the temperature when the Challenger launched) to 100 degrees F.\n",
    "\n",
    "temps = np.arange(31, 83)\n",
    "xs = (temps - offset)/std"
   ]
  },
  {
   "cell_type": "code",
   "execution_count": 132,
   "metadata": {},
   "outputs": [],
   "source": [
    "pred = np.empty((len(sample), len(xs)))\n",
    "\n",
    "for i, (slope, inter) in enumerate(sample):\n",
    "    pred[i] = expit(inter + slope * xs)"
   ]
  },
  {
   "cell_type": "code",
   "execution_count": 134,
   "metadata": {},
   "outputs": [
    {
     "data": {
      "image/png": "[encoded data removed]",
      "text/plain": [
       "<Figure size 432x288 with 1 Axes>"
      ]
     },
     "metadata": {
      "needs_background": "light"
     },
     "output_type": "display_data"
    }
   ],
   "source": [
    "for ps in pred:\n",
    "    plt.plot(temps, ps, color='C1', lw=0.5, alpha=0.4)\n",
    "    \n",
    "plot_data(df)"
   ]
  },
  {
   "cell_type": "markdown",
   "metadata": {},
   "source": [
    "The overlapping lines in this figure give a sense of the most likely value at each temperature and the degree of uncertainty.\n",
    "\n",
    "In each column, I’ll compute the median to quantify the central tendency and a 90% credible interval to quantify the uncertainty.\n",
    "\n",
    "np.percentile computes the given percentiles; with the argument axis=0, it computes them for each column."
   ]
  },
  {
   "cell_type": "code",
   "execution_count": 135,
   "metadata": {},
   "outputs": [],
   "source": [
    "low, median, high = np.percentile(pred, [5, 50, 95], axis=0)"
   ]
  },
  {
   "cell_type": "code",
   "execution_count": 136,
   "metadata": {},
   "outputs": [
    {
     "data": {
      "image/png": "[encoded data removed]",
      "text/plain": [
       "<Figure size 432x288 with 1 Axes>"
      ]
     },
     "metadata": {
      "needs_background": "light"
     },
     "output_type": "display_data"
    }
   ],
   "source": [
    "plt.fill_between(temps, low, high, color='C1', alpha=0.2)\n",
    "plt.plot(temps, median, color='C1', label='logistic model')\n",
    "\n",
    "plot_data(df)"
   ]
  },
  {
   "cell_type": "code",
   "execution_count": 137,
   "metadata": {},
   "outputs": [
    {
     "data": {
      "text/plain": [
       "31    0.999977\n",
       "32    0.999969\n",
       "33    0.999958\n",
       "34    0.999943\n",
       "35    0.999921\n",
       "dtype: float64"
      ]
     },
     "execution_count": 137,
     "metadata": {},
     "output_type": "execute_result"
    }
   ],
   "source": [
    "low = pd.Series(low, temps)\n",
    "median = pd.Series(median, temps)\n",
    "high = pd.Series(high, temps)\n",
    "\n",
    "median.head(5)"
   ]
  },
  {
   "cell_type": "code",
   "execution_count": 138,
   "metadata": {},
   "outputs": [
    {
     "name": "stdout",
     "output_type": "stream",
     "text": [
      "0.013565522106301365 (0.0005525547118990433, 0.1359140917459757)\n"
     ]
    }
   ],
   "source": [
    "t = 80\n",
    "print(median[t], (low[t], high[t]))"
   ]
  },
  {
   "cell_type": "code",
   "execution_count": 139,
   "metadata": {},
   "outputs": [
    {
     "name": "stdout",
     "output_type": "stream",
     "text": [
      "0.9999771051974147 (0.9046371694392487, 0.9999999875556395)\n"
     ]
    }
   ],
   "source": [
    "t = 31\n",
    "print(median[t], (low[t], high[t]))"
   ]
  },
  {
   "cell_type": "markdown",
   "metadata": {},
   "source": [
    "One conclusion we might draw is this: If the people responsible for the Challenger launch had taken into account all of the data, and not just the seven damage incidents, they could have predicted that the probability of damage at 31 degrees F was nearly certain. If they had, it seems likely they would have postponed the launch.\n",
    "\n",
    "At the same time, if they considered the previous figure, they might have realized that the model makes predictions that extend far beyond the data. When we extrapolate like that, we have to remember not just the uncertainty quantified by the model, which we expressed as a credible interval; we also have to consider the possibility that the model itself is unreliable.\n",
    "\n",
    "This example is based on a logistic model, which assumes that each additional degree of temperature contributes the same amount of evidence in favor of (or against) the possibility of damage. Within a narrow range of temperatures, that might be a reasonable assumption, especially if it is supported by data. But over a wider range, and beyond the bounds of the data, reality has no obligation to stick to the model."
   ]
  },
  {
   "cell_type": "markdown",
   "metadata": {},
   "source": [
    "## Empirical bayes\n",
    "\n",
    "In this chapter I used StatsModels to compute the parameters that maximize the probability of the data, and then used those estimates to choose the bounds of the uniform prior distributions. It might have occurred to you that this process uses the data twice, once to choose the priors and again to do the update. If that bothers you, you are not alone. The process I used is an example of what’s called the Empirical Bayes method, although I don’t think that’s a particularly good name for it.\n",
    "\n",
    "Although it might seem problematic to use the data twice, in these examples, it is not. To see why, consider an alternative: instead of using the estimated parameters to choose the bounds of the prior distribution, I could have used uniform distributions with much wider ranges. In that case, the results would be the same; the only difference is that I would spend more time computing likelihoods for parameters where the posterior probabilities are negligibly small.\n",
    "\n",
    "So you can think of this version of Empirical Bayes as an optimization that minimizes computation by putting the prior distributions where the likelihood of the data is worth computing. This optimization doesn’t affect the results, so it doesn’t “double-count” the data."
   ]
  },
  {
   "cell_type": "markdown",
   "metadata": {},
   "source": [
    "## Exercises"
   ]
  },
  {
   "cell_type": "markdown",
   "metadata": {},
   "source": [
    "### 1\n",
    "Suppose a political pundit claims to be able to predict the outcome of elections, but instead of picking a winner, they give each candidate a probability of winning. With that kind of prediction, it can be hard to say whether it is right or wrong.\n",
    "\n",
    "For example, suppose the pundit says that Alice has a 70% chance of beating Bob, and then Bob wins the election. Does that mean the pundit was wrong?\n",
    "\n",
    "One way to answer this question is to consider two hypotheses:\n",
    "\n",
    "H: The pundit’s algorithm is legitimate; the probabilities it produces are correct in the sense that they accurately reflect the candidates’ probabilities of winning.\n",
    "\n",
    "not H: The pundit’s algorithm is bogus; the probabilities it produces are random values with a mean of 50%.\n",
    "\n",
    "If the pundit says Alice has a 70% chance of winning, and she does, that provides evidence in favor of H with likelihood ratio 70/50.\n",
    "\n",
    "If the pundit says Alice has a 70% chance of winning, and she loses, that’s evidence against H with a likelihood ratio of 50/30.\n",
    "\n",
    "Suppose we start with some confidence in the algorithm, so the prior odds are 4 to 1. And suppose the pundit generates predictions for three elections:\n",
    " \n",
    " * In the first election, the pundit says Alice has a 70% chance of winning and she does.\n",
    " * In the second election, the pundit says Bob has a 30% chance of winning and he does.\n",
    " * In the third election, the pundit says Carol has an 90% chance of winning and she does.\n",
    "\n",
    "What is the log likelihood ratio for each of these outcomes? Use the log-odds form of Bayes’s Rule to compute the posterior log odds for H after these outcomes. In total, do these outcomes increase or decrease your confidence in the pundit?\n",
    " \n",
    "If you are interested in this topic, you can http://allendowney.blogspot.com/2016/11/why-are-we-so-surprised.html"
   ]
  },
  {
   "cell_type": "code",
   "execution_count": 144,
   "metadata": {},
   "outputs": [
    {
     "data": {
      "text/plain": [
       "-0.2231435513142097"
      ]
     },
     "execution_count": 144,
     "metadata": {},
     "output_type": "execute_result"
    }
   ],
   "source": [
    "# log(P(H|x)) = log(P(H)) + x*log(P(x|H) / P(x|notH))"
   ]
  },
  {
   "cell_type": "code",
   "execution_count": 150,
   "metadata": {},
   "outputs": [
    {
     "name": "stdout",
     "output_type": "stream",
     "text": [
      "Prior loglike: 1.3862943611198906\n",
      "Prob: 0.8484848484848485\n",
      "Prob: 0.7706422018348623\n",
      "Prob: 0.8581157775255391\n"
     ]
    }
   ],
   "source": [
    "prior = np.log(4) # this has to be expressed in odds form odds 10:1 become log(10)\n",
    "\n",
    "data = [\n",
    "    np.log(70/50),\n",
    "    np.log(30/50),\n",
    "    np.log(90/50)\n",
    "]\n",
    "\n",
    "print('Prior loglike:', prior)\n",
    "posterior = prior\n",
    "for result in data:\n",
    "    posterior += result\n",
    "    print('Prob:', expit(posterior))"
   ]
  },
  {
   "cell_type": "code",
   "execution_count": 151,
   "metadata": {},
   "outputs": [
    {
     "data": {
      "text/plain": [
       "(1.7997276388772319, 0.8581157775255391)"
      ]
     },
     "execution_count": 151,
     "metadata": {},
     "output_type": "execute_result"
    }
   ],
   "source": [
    "posterior, expit(posterior)"
   ]
  },
  {
   "cell_type": "markdown",
   "metadata": {},
   "source": [
    "In total, these three outcomes provide evidence that the\n",
    "pundit's algorithm is legitmate, although with K=1.8,\n",
    "it is weak evidence."
   ]
  },
  {
   "cell_type": "markdown",
   "metadata": {},
   "source": [
    "### 2\n",
    "\n",
    "An article in the New England Journal of Medicine (https://www.nejm.org/doi/10.1056/NEJMoa1806828) reports results from a study that looked at the diagnosis rate of Attention Deficit Hyperactivity Disorder (ADHD) as a function of birth month: “Attention Deficit–Hyperactivity Disorder and Month of School Enrollment”.\n",
    "\n",
    "They found that children born in June, July, and August were substantially more likely to be diagnosed with ADHD, compared to children born in September, but only in states that use a September cutoff for children to enter kindergarten. In these states, children born in August start school almost a year younger than children born in September. The authors of the study suggest that the cause is “age-based variation in behavior that may be attributed to ADHD rather than to the younger age of the children”."
   ]
  },
  {
   "cell_type": "code",
   "execution_count": 152,
   "metadata": {},
   "outputs": [],
   "source": [
    "# So here is the corrected data, \n",
    "# where n is the number of children born in each month, starting with January, and k is the number of children diagnosed with ADHD.\n",
    "\n",
    "n = np.array([32690, 31238, 34405, 34565, 34977, 34415, \n",
    "                   36577, 36319, 35353, 34405, 31285, 31617])\n",
    "\n",
    "k = np.array([265, 280, 307, 312, 317, 287, \n",
    "                      320, 309, 225, 240, 232, 243])"
   ]
  },
  {
   "cell_type": "code",
   "execution_count": 238,
   "metadata": {},
   "outputs": [
    {
     "data": {
      "text/plain": [
       "0.00818200987627683"
      ]
     },
     "execution_count": 238,
     "metadata": {},
     "output_type": "execute_result"
    }
   ],
   "source": [
    "k.sum()/n.sum()"
   ]
  },
  {
   "cell_type": "code",
   "execution_count": 246,
   "metadata": {},
   "outputs": [],
   "source": [
    "# so it starts in Sept (better intercept?)\n",
    "x = np.arange(12)\n",
    "n = np.roll(n, -8)\n",
    "k = np.roll(k, -8)"
   ]
  },
  {
   "cell_type": "code",
   "execution_count": 247,
   "metadata": {},
   "outputs": [
    {
     "data": {
      "text/html": [
       "<div>\n",
       "<style scoped>\n",
       "    .dataframe tbody tr th:only-of-type {\n",
       "        vertical-align: middle;\n",
       "    }\n",
       "\n",
       "    .dataframe tbody tr th {\n",
       "        vertical-align: top;\n",
       "    }\n",
       "\n",
       "    .dataframe thead th {\n",
       "        text-align: right;\n",
       "    }\n",
       "</style>\n",
       "<table border=\"1\" class=\"dataframe\">\n",
       "  <thead>\n",
       "    <tr style=\"text-align: right;\">\n",
       "      <th></th>\n",
       "      <th>x</th>\n",
       "      <th>k</th>\n",
       "      <th>n</th>\n",
       "      <th>rate</th>\n",
       "    </tr>\n",
       "  </thead>\n",
       "  <tbody>\n",
       "    <tr>\n",
       "      <th>0</th>\n",
       "      <td>0</td>\n",
       "      <td>225</td>\n",
       "      <td>35353</td>\n",
       "      <td>63.643821</td>\n",
       "    </tr>\n",
       "    <tr>\n",
       "      <th>1</th>\n",
       "      <td>1</td>\n",
       "      <td>240</td>\n",
       "      <td>34405</td>\n",
       "      <td>69.757303</td>\n",
       "    </tr>\n",
       "    <tr>\n",
       "      <th>2</th>\n",
       "      <td>2</td>\n",
       "      <td>232</td>\n",
       "      <td>31285</td>\n",
       "      <td>74.156944</td>\n",
       "    </tr>\n",
       "    <tr>\n",
       "      <th>3</th>\n",
       "      <td>3</td>\n",
       "      <td>243</td>\n",
       "      <td>31617</td>\n",
       "      <td>76.857387</td>\n",
       "    </tr>\n",
       "    <tr>\n",
       "      <th>4</th>\n",
       "      <td>4</td>\n",
       "      <td>265</td>\n",
       "      <td>32690</td>\n",
       "      <td>81.064546</td>\n",
       "    </tr>\n",
       "    <tr>\n",
       "      <th>5</th>\n",
       "      <td>5</td>\n",
       "      <td>280</td>\n",
       "      <td>31238</td>\n",
       "      <td>89.634420</td>\n",
       "    </tr>\n",
       "    <tr>\n",
       "      <th>6</th>\n",
       "      <td>6</td>\n",
       "      <td>307</td>\n",
       "      <td>34405</td>\n",
       "      <td>89.231216</td>\n",
       "    </tr>\n",
       "    <tr>\n",
       "      <th>7</th>\n",
       "      <td>7</td>\n",
       "      <td>312</td>\n",
       "      <td>34565</td>\n",
       "      <td>90.264719</td>\n",
       "    </tr>\n",
       "    <tr>\n",
       "      <th>8</th>\n",
       "      <td>8</td>\n",
       "      <td>317</td>\n",
       "      <td>34977</td>\n",
       "      <td>90.630986</td>\n",
       "    </tr>\n",
       "    <tr>\n",
       "      <th>9</th>\n",
       "      <td>9</td>\n",
       "      <td>287</td>\n",
       "      <td>34415</td>\n",
       "      <td>83.393869</td>\n",
       "    </tr>\n",
       "    <tr>\n",
       "      <th>10</th>\n",
       "      <td>10</td>\n",
       "      <td>320</td>\n",
       "      <td>36577</td>\n",
       "      <td>87.486672</td>\n",
       "    </tr>\n",
       "    <tr>\n",
       "      <th>11</th>\n",
       "      <td>11</td>\n",
       "      <td>309</td>\n",
       "      <td>36319</td>\n",
       "      <td>85.079435</td>\n",
       "    </tr>\n",
       "  </tbody>\n",
       "</table>\n",
       "</div>"
      ],
      "text/plain": [
       "     x    k      n       rate\n",
       "0    0  225  35353  63.643821\n",
       "1    1  240  34405  69.757303\n",
       "2    2  232  31285  74.156944\n",
       "3    3  243  31617  76.857387\n",
       "4    4  265  32690  81.064546\n",
       "5    5  280  31238  89.634420\n",
       "6    6  307  34405  89.231216\n",
       "7    7  312  34565  90.264719\n",
       "8    8  317  34977  90.630986\n",
       "9    9  287  34415  83.393869\n",
       "10  10  320  36577  87.486672\n",
       "11  11  309  36319  85.079435"
      ]
     },
     "execution_count": 247,
     "metadata": {},
     "output_type": "execute_result"
    }
   ],
   "source": [
    "adhd = pd.DataFrame(dict(x=x, k=k, n=n))\n",
    "adhd['rate'] = adhd['k'] / adhd['n'] * 10000\n",
    "adhd"
   ]
  },
  {
   "cell_type": "code",
   "execution_count": 249,
   "metadata": {},
   "outputs": [],
   "source": [
    "def plot_adhd(adhd):\n",
    "    plt.plot(adhd['x'], adhd['rate'], 'o', \n",
    "             label='data', color='C0', alpha=0.4)\n",
    "    \n",
    "    plt.axvline(5.5, color='gray', alpha=0.2)\n",
    "    plt.text(6, 64, 'Younger than average')\n",
    "    plt.text(5, 64, 'Older than average', horizontalalignment='right')\n",
    "\n",
    "    u.decorate(xlabel='Birth date, months after cutoff',\n",
    "             ylabel='Diagnosis rate per 10,000')"
   ]
  },
  {
   "cell_type": "code",
   "execution_count": 250,
   "metadata": {},
   "outputs": [
    {
     "data": {
      "image/png": "[encoded data removed]",
      "text/plain": [
       "<Figure size 432x288 with 1 Axes>"
      ]
     },
     "metadata": {
      "needs_background": "light"
     },
     "output_type": "display_data"
    }
   ],
   "source": [
    "plot_adhd(adhd)"
   ]
  },
  {
   "cell_type": "markdown",
   "metadata": {},
   "source": [
    "For the first 9 months, from September to May, we see what we would expect if some of the excess diagnoses are due to “age-based variation in behavior”. For each month of difference in age, we see an increase in the number of diagnoses.\n",
    "\n",
    "This pattern breaks down for the last three months, June, July, and August. This might be explained by random variation, but it also might be due to parental manipulation; if some parents hold back children born near the deadline, the observations for these month would include a mixture of children who are relatively old for their grade and therefore less likely to be diagnosed.\n",
    "\n",
    "Unfortunately, the dataset includes only month of birth, not year, so we don’t know the actual ages of these students when they started school. However, we can use the first nine months to estimate the effect of age on diagnosis rate; then we can think about what to do with the other three months.\n",
    "\n",
    " 1) Make a joint prior distribution and update it using the data for the first nine months.\n",
    " 2) Then draw a sample from the posterior distribution and use it to compute the median probability of diagnosis for each month and a 90% credible interval.\n",
    " 3) As a bonus exercise, do a second update using the data from the last three months, but treating the observed number of diagnoses as a lower bound on the number of diagnoses there would be if no children were kept back."
   ]
  },
  {
   "cell_type": "code",
   "execution_count": 286,
   "metadata": {},
   "outputs": [],
   "source": [
    "prior_inter = u.make_uniform(\n",
    "    np.linspace(-5.2, -4.6, num=51),\n",
    "    'intercept'\n",
    ")\n",
    "prior_month = u.make_uniform(\n",
    "    np.linspace(-0.0, 0.08, 51),\n",
    "    'month'\n",
    ")\n",
    "prior_joint = u.make_joint(\n",
    "    prior_inter, prior_month\n",
    ")"
   ]
  },
  {
   "cell_type": "code",
   "execution_count": 287,
   "metadata": {},
   "outputs": [
    {
     "data": {
      "text/html": [
       "<div>\n",
       "<style scoped>\n",
       "    .dataframe tbody tr th:only-of-type {\n",
       "        vertical-align: middle;\n",
       "    }\n",
       "\n",
       "    .dataframe tbody tr th {\n",
       "        vertical-align: top;\n",
       "    }\n",
       "\n",
       "    .dataframe thead th {\n",
       "        text-align: right;\n",
       "    }\n",
       "</style>\n",
       "<table border=\"1\" class=\"dataframe\">\n",
       "  <thead>\n",
       "    <tr style=\"text-align: right;\">\n",
       "      <th></th>\n",
       "      <th></th>\n",
       "      <th>probs</th>\n",
       "    </tr>\n",
       "    <tr>\n",
       "      <th>month</th>\n",
       "      <th>intercept</th>\n",
       "      <th></th>\n",
       "    </tr>\n",
       "  </thead>\n",
       "  <tbody>\n",
       "    <tr>\n",
       "      <th rowspan=\"5\" valign=\"top\">0.00</th>\n",
       "      <th>-5.200</th>\n",
       "      <td>0.000384</td>\n",
       "    </tr>\n",
       "    <tr>\n",
       "      <th>-5.188</th>\n",
       "      <td>0.000384</td>\n",
       "    </tr>\n",
       "    <tr>\n",
       "      <th>-5.176</th>\n",
       "      <td>0.000384</td>\n",
       "    </tr>\n",
       "    <tr>\n",
       "      <th>-5.164</th>\n",
       "      <td>0.000384</td>\n",
       "    </tr>\n",
       "    <tr>\n",
       "      <th>-5.152</th>\n",
       "      <td>0.000384</td>\n",
       "    </tr>\n",
       "    <tr>\n",
       "      <th>...</th>\n",
       "      <th>...</th>\n",
       "      <td>...</td>\n",
       "    </tr>\n",
       "    <tr>\n",
       "      <th rowspan=\"5\" valign=\"top\">0.08</th>\n",
       "      <th>-4.648</th>\n",
       "      <td>0.000384</td>\n",
       "    </tr>\n",
       "    <tr>\n",
       "      <th>-4.636</th>\n",
       "      <td>0.000384</td>\n",
       "    </tr>\n",
       "    <tr>\n",
       "      <th>-4.624</th>\n",
       "      <td>0.000384</td>\n",
       "    </tr>\n",
       "    <tr>\n",
       "      <th>-4.612</th>\n",
       "      <td>0.000384</td>\n",
       "    </tr>\n",
       "    <tr>\n",
       "      <th>-4.600</th>\n",
       "      <td>0.000384</td>\n",
       "    </tr>\n",
       "  </tbody>\n",
       "</table>\n",
       "<p>2601 rows × 1 columns</p>\n",
       "</div>"
      ],
      "text/plain": [
       "month  intercept\n",
       "0.00   -5.200       0.000384\n",
       "       -5.188       0.000384\n",
       "       -5.176       0.000384\n",
       "       -5.164       0.000384\n",
       "       -5.152       0.000384\n",
       "                      ...   \n",
       "0.08   -4.648       0.000384\n",
       "       -4.636       0.000384\n",
       "       -4.624       0.000384\n",
       "       -4.612       0.000384\n",
       "       -4.600       0.000384\n",
       "Name: , Length: 2601, dtype: float64"
      ]
     },
     "execution_count": 287,
     "metadata": {},
     "output_type": "execute_result"
    }
   ],
   "source": [
    "prior_pmf = ed.Pmf(prior_joint.stack())\n",
    "prior_pmf"
   ]
  },
  {
   "cell_type": "code",
   "execution_count": 298,
   "metadata": {},
   "outputs": [],
   "source": [
    "likelihood = prior_pmf.copy()\n",
    "xs = np.arange(9)\n",
    "ks = k[:9]\n",
    "ns = n[:9]\n",
    "for m, i in prior_pmf.index:\n",
    "    ps = expit(i + m*xs)\n",
    "    likes = stat.binom.pmf(ks, ns, ps)\n",
    "    likelihood[m, i] = likes.prod()"
   ]
  },
  {
   "cell_type": "code",
   "execution_count": 299,
   "metadata": {},
   "outputs": [
    {
     "data": {
      "text/plain": [
       "1.3624320717800662e-17"
      ]
     },
     "execution_count": 299,
     "metadata": {},
     "output_type": "execute_result"
    }
   ],
   "source": [
    "posterior = prior_pmf.copy()\n",
    "\n",
    "posterior *= likelihood\n",
    "posterior.normalize()"
   ]
  },
  {
   "cell_type": "code",
   "execution_count": 300,
   "metadata": {},
   "outputs": [
    {
     "data": {
      "text/plain": [
       "<matplotlib.contour.QuadContourSet at 0x1c7f89f7640>"
      ]
     },
     "execution_count": 300,
     "metadata": {},
     "output_type": "execute_result"
    },
    {
     "data": {
      "image/png": "[encoded data removed]",
      "text/plain": [
       "<Figure size 432x288 with 1 Axes>"
      ]
     },
     "metadata": {
      "needs_background": "light"
     },
     "output_type": "display_data"
    }
   ],
   "source": [
    "u.plot_contour(posterior.unstack())"
   ]
  },
  {
   "cell_type": "code",
   "execution_count": 301,
   "metadata": {},
   "outputs": [
    {
     "data": {
      "text/plain": [
       "(0.0448, -4.996)"
      ]
     },
     "execution_count": 301,
     "metadata": {},
     "output_type": "execute_result"
    }
   ],
   "source": [
    "posterior.max_prob()"
   ]
  },
  {
   "cell_type": "code",
   "execution_count": 305,
   "metadata": {},
   "outputs": [
    {
     "data": {
      "text/plain": [
       "0.983765899976283"
      ]
     },
     "execution_count": 305,
     "metadata": {},
     "output_type": "execute_result"
    }
   ],
   "source": [
    "posterior2 = posterior.copy()\n",
    "\n",
    "xs = np.arange(9, 12)\n",
    "ks = k[9:]\n",
    "ns = n[9:]\n",
    "for m, i in prior_pmf.index:\n",
    "    ps = expit(i + m*xs)\n",
    "    likes = stat.binom.sf(ks, ns, ps)\n",
    "    likelihood[m, i] = likes.prod()\n",
    "\n",
    "posterior2 *= likelihood\n",
    "posterior2.normalize()"
   ]
  },
  {
   "cell_type": "code",
   "execution_count": 306,
   "metadata": {},
   "outputs": [
    {
     "name": "stdout",
     "output_type": "stream",
     "text": [
      "(0.0448, -4.996)\n"
     ]
    },
    {
     "data": {
      "image/png": "[encoded data removed]",
      "text/plain": [
       "<Figure size 432x288 with 1 Axes>"
      ]
     },
     "metadata": {
      "needs_background": "light"
     },
     "output_type": "display_data"
    }
   ],
   "source": [
    "u.plot_contour(posterior2.unstack())\n",
    "print(posterior2.max_prob())"
   ]
  },
  {
   "cell_type": "code",
   "execution_count": 310,
   "metadata": {},
   "outputs": [
    {
     "data": {
      "text/plain": [
       "(-4.999322906782618, 0.044607616771983744)"
      ]
     },
     "execution_count": 310,
     "metadata": {},
     "output_type": "execute_result"
    }
   ],
   "source": [
    "posterior_un = posterior2.unstack()\n",
    "\n",
    "marginal_inter = u.marginal(posterior_un, 0)\n",
    "marginal_slope = u.marginal(posterior_un, 1)\n",
    "\n",
    "marginal_inter.mean(), marginal_slope.mean()"
   ]
  },
  {
   "cell_type": "code",
   "execution_count": 316,
   "metadata": {},
   "outputs": [
    {
     "data": {
      "image/png": "[encoded data removed]",
      "text/plain": [
       "<Figure size 432x288 with 1 Axes>"
      ]
     },
     "metadata": {
      "needs_background": "light"
     },
     "output_type": "display_data"
    },
    {
     "data": {
      "text/plain": [
       "<AxesSubplot: xlabel='month'>"
      ]
     },
     "execution_count": 316,
     "metadata": {},
     "output_type": "execute_result"
    },
    {
     "data": {
      "image/png": "[encoded data removed]",
      "text/plain": [
       "<Figure size 432x288 with 1 Axes>"
      ]
     },
     "metadata": {
      "needs_background": "light"
     },
     "output_type": "display_data"
    }
   ],
   "source": [
    "marginal_inter.transform(expit).plot()\n",
    "plt.show()\n",
    "plt.close()\n",
    "\n",
    "marginal_slope.transform(np.exp).plot()"
   ]
  },
  {
   "cell_type": "code",
   "execution_count": 320,
   "metadata": {},
   "outputs": [
    {
     "data": {
      "text/plain": [
       "empiricaldist.empiricaldist.Pmf"
      ]
     },
     "execution_count": 320,
     "metadata": {},
     "output_type": "execute_result"
    }
   ],
   "source": [
    "type(posterior2)"
   ]
  },
  {
   "cell_type": "code",
   "execution_count": 332,
   "metadata": {},
   "outputs": [],
   "source": [
    "sample = posterior2.choice(200)\n",
    "# sample_s = sample.stack()"
   ]
  },
  {
   "cell_type": "code",
   "execution_count": 333,
   "metadata": {},
   "outputs": [],
   "source": [
    "pred_dist = np.empty(\n",
    "    (len(sample), len(x))\n",
    ")\n",
    "\n",
    "for i, (b1, b0) in enumerate(sample):\n",
    "    pred_dist[i] = expit(b0 + x*b1)"
   ]
  },
  {
   "cell_type": "code",
   "execution_count": 334,
   "metadata": {},
   "outputs": [],
   "source": [
    "low, median, high = np.percentile(pred_dist, [5, 50, 95], axis=0)"
   ]
  },
  {
   "cell_type": "code",
   "execution_count": 335,
   "metadata": {},
   "outputs": [
    {
     "data": {
      "image/png": "[encoded data removed]",
      "text/plain": [
       "<Figure size 432x288 with 1 Axes>"
      ]
     },
     "metadata": {
      "needs_background": "light"
     },
     "output_type": "display_data"
    }
   ],
   "source": [
    "plt.plot(\n",
    "    x, median*10e3, color='red'\n",
    ")\n",
    "plt.fill_between(x, low*10e3, high*10e3, alpha=0.5)\n",
    "\n",
    "plot_adhd(adhd)"
   ]
  },
  {
   "cell_type": "code",
   "execution_count": 331,
   "metadata": {},
   "outputs": [
    {
     "data": {
      "image/png": "[encoded data removed]",
      "text/plain": [
       "<Figure size 432x288 with 1 Axes>"
      ]
     },
     "metadata": {
      "needs_background": "light"
     },
     "output_type": "display_data"
    }
   ],
   "source": [
    "plt.plot(\n",
    "    x, median*10e3, color='red'\n",
    ")\n",
    "plt.fill_between(x, low*10e3, high*10e3, alpha=0.5)\n",
    "\n",
    "plot_adhd(adhd)"
   ]
  },
  {
   "cell_type": "code",
   "execution_count": 350,
   "metadata": {},
   "outputs": [],
   "source": [
    "def solve_for_prob(p):\n",
    "    \"\"\"return log odds for probability\n",
    "\n",
    "    Args:\n",
    "        p (float): probability\n",
    "\n",
    "    Returns:\n",
    "        float: log odds\n",
    "    \"\"\"\n",
    "    return -np.log((1-p)/p)"
   ]
  },
  {
   "cell_type": "code",
   "execution_count": 565,
   "metadata": {},
   "outputs": [
    {
     "data": {
      "text/plain": [
       "-0.20892047450423812"
      ]
     },
     "execution_count": 565,
     "metadata": {},
     "output_type": "execute_result"
    }
   ],
   "source": [
    "prior = solve_for_prob(0.082)\n",
    "\n",
    "update = solve_for_prob(312/34565)\n",
    "\n",
    "posterior = prior + np.log(0.082/(312/34565))\n",
    "posterior"
   ]
  },
  {
   "cell_type": "code",
   "execution_count": 566,
   "metadata": {},
   "outputs": [
    {
     "data": {
      "text/plain": [
       "(-0.20892047450423812, 0.447959033138841)"
      ]
     },
     "execution_count": 566,
     "metadata": {},
     "output_type": "execute_result"
    }
   ],
   "source": [
    "prior + np.log(0.082/(312/34565)), expit(prior + np.log(0.082/(312/34565)))"
   ]
  },
  {
   "cell_type": "code",
   "execution_count": 567,
   "metadata": {},
   "outputs": [
    {
     "name": "stdout",
     "output_type": "stream",
     "text": [
      "0.008176677642147549 0.0008514296829779242\n"
     ]
    }
   ],
   "source": [
    "ps = k/n\n",
    "print(ps.mean(), ps.std())\n",
    "prior_dist = stat.norm(ps.mean(), ps.std())"
   ]
  },
  {
   "cell_type": "code",
   "execution_count": 568,
   "metadata": {},
   "outputs": [
    {
     "data": {
      "text/plain": [
       "<AxesSubplot: >"
      ]
     },
     "execution_count": 568,
     "metadata": {},
     "output_type": "execute_result"
    },
    {
     "data": {
      "image/png": "[encoded data removed]",
      "text/plain": [
       "<Figure size 432x288 with 1 Axes>"
      ]
     },
     "metadata": {
      "needs_background": "light"
     },
     "output_type": "display_data"
    }
   ],
   "source": [
    "prior_pmf = u.pmf_from_dist(prior_dist, np.linspace(0.0005, 0.016, 100))\n",
    "prior_pmf.plot()"
   ]
  },
  {
   "cell_type": "code",
   "execution_count": 569,
   "metadata": {},
   "outputs": [
    {
     "data": {
      "text/plain": [
       "(0.0008514296829779242, 0.008176677642147549)"
      ]
     },
     "execution_count": 569,
     "metadata": {},
     "output_type": "execute_result"
    }
   ],
   "source": [
    "ps.std(), ps.mean()"
   ]
  },
  {
   "cell_type": "code",
   "execution_count": 570,
   "metadata": {},
   "outputs": [
    {
     "data": {
      "text/html": [
       "<div>\n",
       "<style scoped>\n",
       "    .dataframe tbody tr th:only-of-type {\n",
       "        vertical-align: middle;\n",
       "    }\n",
       "\n",
       "    .dataframe tbody tr th {\n",
       "        vertical-align: top;\n",
       "    }\n",
       "\n",
       "    .dataframe thead th {\n",
       "        text-align: right;\n",
       "    }\n",
       "</style>\n",
       "<table border=\"1\" class=\"dataframe\">\n",
       "  <thead>\n",
       "    <tr style=\"text-align: right;\">\n",
       "      <th>mean</th>\n",
       "      <th>0.000500</th>\n",
       "      <th>0.000657</th>\n",
       "      <th>0.000813</th>\n",
       "      <th>0.000970</th>\n",
       "      <th>0.001126</th>\n",
       "      <th>0.001283</th>\n",
       "      <th>0.001439</th>\n",
       "      <th>0.001596</th>\n",
       "      <th>0.001753</th>\n",
       "      <th>0.001909</th>\n",
       "      <th>...</th>\n",
       "      <th>0.014591</th>\n",
       "      <th>0.014747</th>\n",
       "      <th>0.014904</th>\n",
       "      <th>0.015061</th>\n",
       "      <th>0.015217</th>\n",
       "      <th>0.015374</th>\n",
       "      <th>0.015530</th>\n",
       "      <th>0.015687</th>\n",
       "      <th>0.015843</th>\n",
       "      <th>0.016000</th>\n",
       "    </tr>\n",
       "    <tr>\n",
       "      <th>std</th>\n",
       "      <th></th>\n",
       "      <th></th>\n",
       "      <th></th>\n",
       "      <th></th>\n",
       "      <th></th>\n",
       "      <th></th>\n",
       "      <th></th>\n",
       "      <th></th>\n",
       "      <th></th>\n",
       "      <th></th>\n",
       "      <th></th>\n",
       "      <th></th>\n",
       "      <th></th>\n",
       "      <th></th>\n",
       "      <th></th>\n",
       "      <th></th>\n",
       "      <th></th>\n",
       "      <th></th>\n",
       "      <th></th>\n",
       "      <th></th>\n",
       "      <th></th>\n",
       "    </tr>\n",
       "  </thead>\n",
       "  <tbody>\n",
       "    <tr>\n",
       "      <th>0.000070</th>\n",
       "      <td>0.0001</td>\n",
       "      <td>0.0001</td>\n",
       "      <td>0.0001</td>\n",
       "      <td>0.0001</td>\n",
       "      <td>0.0001</td>\n",
       "      <td>0.0001</td>\n",
       "      <td>0.0001</td>\n",
       "      <td>0.0001</td>\n",
       "      <td>0.0001</td>\n",
       "      <td>0.0001</td>\n",
       "      <td>...</td>\n",
       "      <td>0.0001</td>\n",
       "      <td>0.0001</td>\n",
       "      <td>0.0001</td>\n",
       "      <td>0.0001</td>\n",
       "      <td>0.0001</td>\n",
       "      <td>0.0001</td>\n",
       "      <td>0.0001</td>\n",
       "      <td>0.0001</td>\n",
       "      <td>0.0001</td>\n",
       "      <td>0.0001</td>\n",
       "    </tr>\n",
       "    <tr>\n",
       "      <th>0.000079</th>\n",
       "      <td>0.0001</td>\n",
       "      <td>0.0001</td>\n",
       "      <td>0.0001</td>\n",
       "      <td>0.0001</td>\n",
       "      <td>0.0001</td>\n",
       "      <td>0.0001</td>\n",
       "      <td>0.0001</td>\n",
       "      <td>0.0001</td>\n",
       "      <td>0.0001</td>\n",
       "      <td>0.0001</td>\n",
       "      <td>...</td>\n",
       "      <td>0.0001</td>\n",
       "      <td>0.0001</td>\n",
       "      <td>0.0001</td>\n",
       "      <td>0.0001</td>\n",
       "      <td>0.0001</td>\n",
       "      <td>0.0001</td>\n",
       "      <td>0.0001</td>\n",
       "      <td>0.0001</td>\n",
       "      <td>0.0001</td>\n",
       "      <td>0.0001</td>\n",
       "    </tr>\n",
       "    <tr>\n",
       "      <th>0.000088</th>\n",
       "      <td>0.0001</td>\n",
       "      <td>0.0001</td>\n",
       "      <td>0.0001</td>\n",
       "      <td>0.0001</td>\n",
       "      <td>0.0001</td>\n",
       "      <td>0.0001</td>\n",
       "      <td>0.0001</td>\n",
       "      <td>0.0001</td>\n",
       "      <td>0.0001</td>\n",
       "      <td>0.0001</td>\n",
       "      <td>...</td>\n",
       "      <td>0.0001</td>\n",
       "      <td>0.0001</td>\n",
       "      <td>0.0001</td>\n",
       "      <td>0.0001</td>\n",
       "      <td>0.0001</td>\n",
       "      <td>0.0001</td>\n",
       "      <td>0.0001</td>\n",
       "      <td>0.0001</td>\n",
       "      <td>0.0001</td>\n",
       "      <td>0.0001</td>\n",
       "    </tr>\n",
       "    <tr>\n",
       "      <th>0.000097</th>\n",
       "      <td>0.0001</td>\n",
       "      <td>0.0001</td>\n",
       "      <td>0.0001</td>\n",
       "      <td>0.0001</td>\n",
       "      <td>0.0001</td>\n",
       "      <td>0.0001</td>\n",
       "      <td>0.0001</td>\n",
       "      <td>0.0001</td>\n",
       "      <td>0.0001</td>\n",
       "      <td>0.0001</td>\n",
       "      <td>...</td>\n",
       "      <td>0.0001</td>\n",
       "      <td>0.0001</td>\n",
       "      <td>0.0001</td>\n",
       "      <td>0.0001</td>\n",
       "      <td>0.0001</td>\n",
       "      <td>0.0001</td>\n",
       "      <td>0.0001</td>\n",
       "      <td>0.0001</td>\n",
       "      <td>0.0001</td>\n",
       "      <td>0.0001</td>\n",
       "    </tr>\n",
       "    <tr>\n",
       "      <th>0.000106</th>\n",
       "      <td>0.0001</td>\n",
       "      <td>0.0001</td>\n",
       "      <td>0.0001</td>\n",
       "      <td>0.0001</td>\n",
       "      <td>0.0001</td>\n",
       "      <td>0.0001</td>\n",
       "      <td>0.0001</td>\n",
       "      <td>0.0001</td>\n",
       "      <td>0.0001</td>\n",
       "      <td>0.0001</td>\n",
       "      <td>...</td>\n",
       "      <td>0.0001</td>\n",
       "      <td>0.0001</td>\n",
       "      <td>0.0001</td>\n",
       "      <td>0.0001</td>\n",
       "      <td>0.0001</td>\n",
       "      <td>0.0001</td>\n",
       "      <td>0.0001</td>\n",
       "      <td>0.0001</td>\n",
       "      <td>0.0001</td>\n",
       "      <td>0.0001</td>\n",
       "    </tr>\n",
       "    <tr>\n",
       "      <th>...</th>\n",
       "      <td>...</td>\n",
       "      <td>...</td>\n",
       "      <td>...</td>\n",
       "      <td>...</td>\n",
       "      <td>...</td>\n",
       "      <td>...</td>\n",
       "      <td>...</td>\n",
       "      <td>...</td>\n",
       "      <td>...</td>\n",
       "      <td>...</td>\n",
       "      <td>...</td>\n",
       "      <td>...</td>\n",
       "      <td>...</td>\n",
       "      <td>...</td>\n",
       "      <td>...</td>\n",
       "      <td>...</td>\n",
       "      <td>...</td>\n",
       "      <td>...</td>\n",
       "      <td>...</td>\n",
       "      <td>...</td>\n",
       "      <td>...</td>\n",
       "    </tr>\n",
       "    <tr>\n",
       "      <th>0.000914</th>\n",
       "      <td>0.0001</td>\n",
       "      <td>0.0001</td>\n",
       "      <td>0.0001</td>\n",
       "      <td>0.0001</td>\n",
       "      <td>0.0001</td>\n",
       "      <td>0.0001</td>\n",
       "      <td>0.0001</td>\n",
       "      <td>0.0001</td>\n",
       "      <td>0.0001</td>\n",
       "      <td>0.0001</td>\n",
       "      <td>...</td>\n",
       "      <td>0.0001</td>\n",
       "      <td>0.0001</td>\n",
       "      <td>0.0001</td>\n",
       "      <td>0.0001</td>\n",
       "      <td>0.0001</td>\n",
       "      <td>0.0001</td>\n",
       "      <td>0.0001</td>\n",
       "      <td>0.0001</td>\n",
       "      <td>0.0001</td>\n",
       "      <td>0.0001</td>\n",
       "    </tr>\n",
       "    <tr>\n",
       "      <th>0.000923</th>\n",
       "      <td>0.0001</td>\n",
       "      <td>0.0001</td>\n",
       "      <td>0.0001</td>\n",
       "      <td>0.0001</td>\n",
       "      <td>0.0001</td>\n",
       "      <td>0.0001</td>\n",
       "      <td>0.0001</td>\n",
       "      <td>0.0001</td>\n",
       "      <td>0.0001</td>\n",
       "      <td>0.0001</td>\n",
       "      <td>...</td>\n",
       "      <td>0.0001</td>\n",
       "      <td>0.0001</td>\n",
       "      <td>0.0001</td>\n",
       "      <td>0.0001</td>\n",
       "      <td>0.0001</td>\n",
       "      <td>0.0001</td>\n",
       "      <td>0.0001</td>\n",
       "      <td>0.0001</td>\n",
       "      <td>0.0001</td>\n",
       "      <td>0.0001</td>\n",
       "    </tr>\n",
       "    <tr>\n",
       "      <th>0.000932</th>\n",
       "      <td>0.0001</td>\n",
       "      <td>0.0001</td>\n",
       "      <td>0.0001</td>\n",
       "      <td>0.0001</td>\n",
       "      <td>0.0001</td>\n",
       "      <td>0.0001</td>\n",
       "      <td>0.0001</td>\n",
       "      <td>0.0001</td>\n",
       "      <td>0.0001</td>\n",
       "      <td>0.0001</td>\n",
       "      <td>...</td>\n",
       "      <td>0.0001</td>\n",
       "      <td>0.0001</td>\n",
       "      <td>0.0001</td>\n",
       "      <td>0.0001</td>\n",
       "      <td>0.0001</td>\n",
       "      <td>0.0001</td>\n",
       "      <td>0.0001</td>\n",
       "      <td>0.0001</td>\n",
       "      <td>0.0001</td>\n",
       "      <td>0.0001</td>\n",
       "    </tr>\n",
       "    <tr>\n",
       "      <th>0.000941</th>\n",
       "      <td>0.0001</td>\n",
       "      <td>0.0001</td>\n",
       "      <td>0.0001</td>\n",
       "      <td>0.0001</td>\n",
       "      <td>0.0001</td>\n",
       "      <td>0.0001</td>\n",
       "      <td>0.0001</td>\n",
       "      <td>0.0001</td>\n",
       "      <td>0.0001</td>\n",
       "      <td>0.0001</td>\n",
       "      <td>...</td>\n",
       "      <td>0.0001</td>\n",
       "      <td>0.0001</td>\n",
       "      <td>0.0001</td>\n",
       "      <td>0.0001</td>\n",
       "      <td>0.0001</td>\n",
       "      <td>0.0001</td>\n",
       "      <td>0.0001</td>\n",
       "      <td>0.0001</td>\n",
       "      <td>0.0001</td>\n",
       "      <td>0.0001</td>\n",
       "    </tr>\n",
       "    <tr>\n",
       "      <th>0.000950</th>\n",
       "      <td>0.0001</td>\n",
       "      <td>0.0001</td>\n",
       "      <td>0.0001</td>\n",
       "      <td>0.0001</td>\n",
       "      <td>0.0001</td>\n",
       "      <td>0.0001</td>\n",
       "      <td>0.0001</td>\n",
       "      <td>0.0001</td>\n",
       "      <td>0.0001</td>\n",
       "      <td>0.0001</td>\n",
       "      <td>...</td>\n",
       "      <td>0.0001</td>\n",
       "      <td>0.0001</td>\n",
       "      <td>0.0001</td>\n",
       "      <td>0.0001</td>\n",
       "      <td>0.0001</td>\n",
       "      <td>0.0001</td>\n",
       "      <td>0.0001</td>\n",
       "      <td>0.0001</td>\n",
       "      <td>0.0001</td>\n",
       "      <td>0.0001</td>\n",
       "    </tr>\n",
       "  </tbody>\n",
       "</table>\n",
       "<p>100 rows × 100 columns</p>\n",
       "</div>"
      ],
      "text/plain": [
       "mean      0.000500  0.000657  0.000813  0.000970  0.001126  0.001283  \\\n",
       "std                                                                    \n",
       "0.000070    0.0001    0.0001    0.0001    0.0001    0.0001    0.0001   \n",
       "0.000079    0.0001    0.0001    0.0001    0.0001    0.0001    0.0001   \n",
       "0.000088    0.0001    0.0001    0.0001    0.0001    0.0001    0.0001   \n",
       "0.000097    0.0001    0.0001    0.0001    0.0001    0.0001    0.0001   \n",
       "0.000106    0.0001    0.0001    0.0001    0.0001    0.0001    0.0001   \n",
       "...            ...       ...       ...       ...       ...       ...   \n",
       "0.000914    0.0001    0.0001    0.0001    0.0001    0.0001    0.0001   \n",
       "0.000923    0.0001    0.0001    0.0001    0.0001    0.0001    0.0001   \n",
       "0.000932    0.0001    0.0001    0.0001    0.0001    0.0001    0.0001   \n",
       "0.000941    0.0001    0.0001    0.0001    0.0001    0.0001    0.0001   \n",
       "0.000950    0.0001    0.0001    0.0001    0.0001    0.0001    0.0001   \n",
       "\n",
       "mean      0.001439  0.001596  0.001753  0.001909  ...  0.014591  0.014747  \\\n",
       "std                                               ...                       \n",
       "0.000070    0.0001    0.0001    0.0001    0.0001  ...    0.0001    0.0001   \n",
       "0.000079    0.0001    0.0001    0.0001    0.0001  ...    0.0001    0.0001   \n",
       "0.000088    0.0001    0.0001    0.0001    0.0001  ...    0.0001    0.0001   \n",
       "0.000097    0.0001    0.0001    0.0001    0.0001  ...    0.0001    0.0001   \n",
       "0.000106    0.0001    0.0001    0.0001    0.0001  ...    0.0001    0.0001   \n",
       "...            ...       ...       ...       ...  ...       ...       ...   \n",
       "0.000914    0.0001    0.0001    0.0001    0.0001  ...    0.0001    0.0001   \n",
       "0.000923    0.0001    0.0001    0.0001    0.0001  ...    0.0001    0.0001   \n",
       "0.000932    0.0001    0.0001    0.0001    0.0001  ...    0.0001    0.0001   \n",
       "0.000941    0.0001    0.0001    0.0001    0.0001  ...    0.0001    0.0001   \n",
       "0.000950    0.0001    0.0001    0.0001    0.0001  ...    0.0001    0.0001   \n",
       "\n",
       "mean      0.014904  0.015061  0.015217  0.015374  0.015530  0.015687  \\\n",
       "std                                                                    \n",
       "0.000070    0.0001    0.0001    0.0001    0.0001    0.0001    0.0001   \n",
       "0.000079    0.0001    0.0001    0.0001    0.0001    0.0001    0.0001   \n",
       "0.000088    0.0001    0.0001    0.0001    0.0001    0.0001    0.0001   \n",
       "0.000097    0.0001    0.0001    0.0001    0.0001    0.0001    0.0001   \n",
       "0.000106    0.0001    0.0001    0.0001    0.0001    0.0001    0.0001   \n",
       "...            ...       ...       ...       ...       ...       ...   \n",
       "0.000914    0.0001    0.0001    0.0001    0.0001    0.0001    0.0001   \n",
       "0.000923    0.0001    0.0001    0.0001    0.0001    0.0001    0.0001   \n",
       "0.000932    0.0001    0.0001    0.0001    0.0001    0.0001    0.0001   \n",
       "0.000941    0.0001    0.0001    0.0001    0.0001    0.0001    0.0001   \n",
       "0.000950    0.0001    0.0001    0.0001    0.0001    0.0001    0.0001   \n",
       "\n",
       "mean      0.015843  0.016000  \n",
       "std                           \n",
       "0.000070    0.0001    0.0001  \n",
       "0.000079    0.0001    0.0001  \n",
       "0.000088    0.0001    0.0001  \n",
       "0.000097    0.0001    0.0001  \n",
       "0.000106    0.0001    0.0001  \n",
       "...            ...       ...  \n",
       "0.000914    0.0001    0.0001  \n",
       "0.000923    0.0001    0.0001  \n",
       "0.000932    0.0001    0.0001  \n",
       "0.000941    0.0001    0.0001  \n",
       "0.000950    0.0001    0.0001  \n",
       "\n",
       "[100 rows x 100 columns]"
      ]
     },
     "execution_count": 570,
     "metadata": {},
     "output_type": "execute_result"
    }
   ],
   "source": [
    "prior_joint = u.make_joint(\n",
    "    u.make_uniform(np.linspace(0.0005, 0.016, 100), 'mean'),\n",
    "    u.make_uniform(np.linspace(0.0003514*0.2, 0.00095, 100), 'std'),\n",
    ")\n",
    "data = k[9:] / n[9:]\n",
    "prior_joint"
   ]
  },
  {
   "cell_type": "code",
   "execution_count": 571,
   "metadata": {},
   "outputs": [],
   "source": [
    "mesh_mu, mesh_std, data_mesh = np.meshgrid(prior_joint.columns, prior_joint.index, data)"
   ]
  },
  {
   "cell_type": "code",
   "execution_count": 572,
   "metadata": {},
   "outputs": [
    {
     "data": {
      "text/plain": [
       "(100, 100, 3)"
      ]
     },
     "execution_count": 572,
     "metadata": {},
     "output_type": "execute_result"
    }
   ],
   "source": [
    "densities = stat.norm(mesh_mu, mesh_std).pdf(data_mesh)\n",
    "densities.shape"
   ]
  },
  {
   "cell_type": "code",
   "execution_count": 573,
   "metadata": {},
   "outputs": [
    {
     "data": {
      "text/plain": [
       "(100, 100)"
      ]
     },
     "execution_count": 573,
     "metadata": {},
     "output_type": "execute_result"
    }
   ],
   "source": [
    "dens = densities.prod(axis=2)\n",
    "dens.shape"
   ]
  },
  {
   "cell_type": "code",
   "execution_count": 574,
   "metadata": {},
   "outputs": [
    {
     "data": {
      "text/plain": [
       "21619942.29081357"
      ]
     },
     "execution_count": 574,
     "metadata": {},
     "output_type": "execute_result"
    }
   ],
   "source": [
    "posterior_joint = prior_joint.copy()\n",
    "\n",
    "posterior_joint *= densities.prod(axis=2)\n",
    "u.normalize(posterior_joint)"
   ]
  },
  {
   "cell_type": "code",
   "execution_count": 575,
   "metadata": {},
   "outputs": [
    {
     "data": {
      "text/plain": [
       "<matplotlib.contour.QuadContourSet at 0x1c7fb31ea30>"
      ]
     },
     "execution_count": 575,
     "metadata": {},
     "output_type": "execute_result"
    },
    {
     "data": {
      "image/png": "[encoded data removed]",
      "text/plain": [
       "<Figure size 432x288 with 1 Axes>"
      ]
     },
     "metadata": {
      "needs_background": "light"
     },
     "output_type": "display_data"
    }
   ],
   "source": [
    "u.plot_contour(posterior_joint)"
   ]
  },
  {
   "cell_type": "code",
   "execution_count": 576,
   "metadata": {},
   "outputs": [],
   "source": [
    "marginal_mu = u.marginal(posterior_joint, 0)\n",
    "marginal_std = u.marginal(posterior_joint, 1)"
   ]
  },
  {
   "cell_type": "code",
   "execution_count": 577,
   "metadata": {},
   "outputs": [
    {
     "name": "stdout",
     "output_type": "stream",
     "text": [
      "0.008484848484848484\n"
     ]
    },
    {
     "data": {
      "image/png": "[encoded data removed]",
      "text/plain": [
       "<Figure size 432x288 with 1 Axes>"
      ]
     },
     "metadata": {
      "needs_background": "light"
     },
     "output_type": "display_data"
    },
    {
     "name": "stdout",
     "output_type": "stream",
     "text": [
      "0.00020357090909090908 0.00038758170205191304\n"
     ]
    },
    {
     "data": {
      "image/png": "[encoded data removed]",
      "text/plain": [
       "<Figure size 432x288 with 1 Axes>"
      ]
     },
     "metadata": {
      "needs_background": "light"
     },
     "output_type": "display_data"
    }
   ],
   "source": [
    "marginal_mu.plot()\n",
    "print(marginal_mu.max_prob())\n",
    "marginal_mu.plot()\n",
    "plt.show()\n",
    "plt.close()\n",
    "\n",
    "marginal_std.plot()\n",
    "print(marginal_std.max_prob(), marginal_std.mean())\n",
    "marginal_std.plot()\n",
    "plt.show()\n",
    "plt.close()\n"
   ]
  },
  {
   "cell_type": "code",
   "execution_count": 578,
   "metadata": {},
   "outputs": [
    {
     "data": {
      "text/plain": [
       "<matplotlib.legend.Legend at 0x1c7fe86f220>"
      ]
     },
     "execution_count": 578,
     "metadata": {},
     "output_type": "execute_result"
    },
    {
     "data": {
      "image/png": "[encoded data removed]",
      "text/plain": [
       "<Figure size 432x288 with 1 Axes>"
      ]
     },
     "metadata": {
      "needs_background": "light"
     },
     "output_type": "display_data"
    }
   ],
   "source": [
    "\n",
    "prior_pmf.plot(label='prior')\n",
    "marginal_mu.plot(label='posterior')\n",
    "plt.legend()"
   ]
  },
  {
   "cell_type": "code",
   "execution_count": 579,
   "metadata": {},
   "outputs": [
    {
     "data": {
      "text/html": [
       "<div>\n",
       "<style scoped>\n",
       "    .dataframe tbody tr th:only-of-type {\n",
       "        vertical-align: middle;\n",
       "    }\n",
       "\n",
       "    .dataframe tbody tr th {\n",
       "        vertical-align: top;\n",
       "    }\n",
       "\n",
       "    .dataframe thead th {\n",
       "        text-align: right;\n",
       "    }\n",
       "</style>\n",
       "<table border=\"1\" class=\"dataframe\">\n",
       "  <thead>\n",
       "    <tr style=\"text-align: right;\">\n",
       "      <th></th>\n",
       "      <th></th>\n",
       "      <th>probs</th>\n",
       "    </tr>\n",
       "    <tr>\n",
       "      <th>std</th>\n",
       "      <th>mean</th>\n",
       "      <th></th>\n",
       "    </tr>\n",
       "  </thead>\n",
       "  <tbody>\n",
       "    <tr>\n",
       "      <th rowspan=\"5\" valign=\"top\">0.00007</th>\n",
       "      <th>0.000500</th>\n",
       "      <td>0.000000e+00</td>\n",
       "    </tr>\n",
       "    <tr>\n",
       "      <th>0.000657</th>\n",
       "      <td>0.000000e+00</td>\n",
       "    </tr>\n",
       "    <tr>\n",
       "      <th>0.000813</th>\n",
       "      <td>0.000000e+00</td>\n",
       "    </tr>\n",
       "    <tr>\n",
       "      <th>0.000970</th>\n",
       "      <td>0.000000e+00</td>\n",
       "    </tr>\n",
       "    <tr>\n",
       "      <th>0.001126</th>\n",
       "      <td>0.000000e+00</td>\n",
       "    </tr>\n",
       "    <tr>\n",
       "      <th>...</th>\n",
       "      <th>...</th>\n",
       "      <td>...</td>\n",
       "    </tr>\n",
       "    <tr>\n",
       "      <th rowspan=\"5\" valign=\"top\">0.00095</th>\n",
       "      <th>0.015374</th>\n",
       "      <td>5.326467e-38</td>\n",
       "    </tr>\n",
       "    <tr>\n",
       "      <th>0.015530</th>\n",
       "      <td>1.453274e-39</td>\n",
       "    </tr>\n",
       "    <tr>\n",
       "      <th>0.015687</th>\n",
       "      <td>3.654835e-41</td>\n",
       "    </tr>\n",
       "    <tr>\n",
       "      <th>0.015843</th>\n",
       "      <td>8.472287e-43</td>\n",
       "    </tr>\n",
       "    <tr>\n",
       "      <th>0.016000</th>\n",
       "      <td>1.810281e-44</td>\n",
       "    </tr>\n",
       "  </tbody>\n",
       "</table>\n",
       "<p>10000 rows × 1 columns</p>\n",
       "</div>"
      ],
      "text/plain": [
       "std      mean    \n",
       "0.00007  0.000500    0.000000e+00\n",
       "         0.000657    0.000000e+00\n",
       "         0.000813    0.000000e+00\n",
       "         0.000970    0.000000e+00\n",
       "         0.001126    0.000000e+00\n",
       "                         ...     \n",
       "0.00095  0.015374    5.326467e-38\n",
       "         0.015530    1.453274e-39\n",
       "         0.015687    3.654835e-41\n",
       "         0.015843    8.472287e-43\n",
       "         0.016000    1.810281e-44\n",
       "Name: , Length: 10000, dtype: float64"
      ]
     },
     "execution_count": 579,
     "metadata": {},
     "output_type": "execute_result"
    }
   ],
   "source": [
    "posterior_pmf = ed.Pmf(posterior_joint.stack())\n",
    "sample = posterior_pmf.choice(200)\n",
    "posterior_pmf"
   ]
  },
  {
   "cell_type": "code",
   "execution_count": 580,
   "metadata": {},
   "outputs": [],
   "source": [
    "like_h0 = stat.norm(0.0082, 0.000851).pdf(312/34565)\n",
    "like_h1 = stat.norm(marginal_mu.max_prob(), marginal_std.mean()).pdf(312/34565)"
   ]
  },
  {
   "cell_type": "code",
   "execution_count": 583,
   "metadata": {},
   "outputs": [
    {
     "data": {
      "text/plain": [
       "(0.7545343412272351, 1.3253207247976546, 0.790065574419668)"
      ]
     },
     "execution_count": 583,
     "metadata": {},
     "output_type": "execute_result"
    }
   ],
   "source": [
    "like_h0/like_h1, like_h1/like_h0, expit(like_h1/like_h0)"
   ]
  },
  {
   "cell_type": "code",
   "execution_count": null,
   "metadata": {},
   "outputs": [],
   "source": []
  },
  {
   "cell_type": "code",
   "execution_count": null,
   "metadata": {},
   "outputs": [],
   "source": []
  },
  {
   "cell_type": "code",
   "execution_count": 470,
   "metadata": {},
   "outputs": [],
   "source": [
    "mu = marginal_mu.max_prob()\n",
    "std = marginal_std.mean()\n",
    "\n",
    "xs = np.linspace(mu-4*std, mu+4*std, 200)"
   ]
  },
  {
   "cell_type": "code",
   "execution_count": 477,
   "metadata": {},
   "outputs": [],
   "source": [
    "a = np.empty((200, 200))\n",
    "\n",
    "for i, (s, m) in enumerate(sample):\n",
    "    densities = stat.norm(m, s).pdf(xs)\n",
    "    a[i] = densities"
   ]
  },
  {
   "cell_type": "code",
   "execution_count": 486,
   "metadata": {},
   "outputs": [
    {
     "data": {
      "text/plain": [
       "(200, 200)"
      ]
     },
     "execution_count": 486,
     "metadata": {},
     "output_type": "execute_result"
    }
   ],
   "source": [
    "a.shape"
   ]
  },
  {
   "cell_type": "code",
   "execution_count": 505,
   "metadata": {},
   "outputs": [
    {
     "name": "stderr",
     "output_type": "stream",
     "text": [
      "c:\\Users\\marek.kancir\\Anaconda3\\envs\\scraping_env\\lib\\site-packages\\numpy\\core\\_methods.py:51: RuntimeWarning: overflow encountered in reduce\n",
      "  return umr_prod(a, axis, dtype, out, keepdims, initial, where)\n"
     ]
    },
    {
     "data": {
      "text/plain": [
       "inf"
      ]
     },
     "execution_count": 505,
     "metadata": {},
     "output_type": "execute_result"
    }
   ],
   "source": [
    "test = ed.Pmf(a.prod(axis=0), xs)\n",
    "test.normalize()"
   ]
  },
  {
   "cell_type": "code",
   "execution_count": null,
   "metadata": {},
   "outputs": [],
   "source": []
  },
  {
   "cell_type": "code",
   "execution_count": 243,
   "metadata": {},
   "outputs": [],
   "source": [
    "from typing import Iterable\n",
    "import re\n",
    "\n",
    "def check_ending(url):\n",
    "    if isinstance(url, str):\n",
    "        if url.endswith('/'):\n",
    "            return url\n",
    "        else:\n",
    "            if url == '':\n",
    "                return ''\n",
    "            return url + '/'\n",
    "    elif url is None:\n",
    "        return ''\n",
    "    else:\n",
    "        raise TypeError(f'URL should be string type. Passed {type(url)}')\n",
    "def build_url(url_root, url_spec=None, query=[]):\n",
    "    url_root, url_spec = check_ending(url_root), check_ending(url_spec)\n",
    "    if isinstance(query, Iterable):\n",
    "        if len(query)>0:\n",
    "            query_full ='?' + '&'.join(query)\n",
    "            url_spec = re.sub(r'/{2,}', r'/', url_spec)[:-1]\n",
    "        else:\n",
    "            query_full = ''\n",
    "    else:\n",
    "        raise TypeError(f'query should be iterable! You passed {type(query)}')\n",
    "    return re.sub(r'([a-zA-Z])/{2,}', r'\\1/', f'{url_root}{url_spec}{query_full}')"
   ]
  },
  {
   "cell_type": "code",
   "execution_count": 244,
   "metadata": {},
   "outputs": [
    {
     "data": {
      "text/plain": [
       "'http://www.somerandom.com/some/subPage?param=1&something=true'"
      ]
     },
     "execution_count": 244,
     "metadata": {},
     "output_type": "execute_result"
    }
   ],
   "source": [
    "build_url('http://www.somerandom.com////', '//some//subPage///', ['param=1', 'something=true'])"
   ]
  },
  {
   "cell_type": "code",
   "execution_count": 245,
   "metadata": {},
   "outputs": [
    {
     "data": {
      "text/plain": [
       "'http://www.somerandom.com/some/subPage/'"
      ]
     },
     "execution_count": 245,
     "metadata": {},
     "output_type": "execute_result"
    }
   ],
   "source": [
    "build_url('http://www.somerandom.com////', '//some//subPage///')"
   ]
  },
  {
   "cell_type": "code",
   "execution_count": 176,
   "metadata": {},
   "outputs": [],
   "source": [
    "s= '//'"
   ]
  },
  {
   "cell_type": "code",
   "execution_count": 184,
   "metadata": {},
   "outputs": [
    {
     "data": {
      "text/plain": [
       "'/'"
      ]
     },
     "execution_count": 184,
     "metadata": {},
     "output_type": "execute_result"
    }
   ],
   "source": [
    "re.sub('\\/+', '/', s)"
   ]
  }
 ],
 "metadata": {
  "kernelspec": {
   "display_name": "Python 3.8.13 ('stock_env')",
   "language": "python",
   "name": "python3"
  },
  "language_info": {
   "codemirror_mode": {
    "name": "ipython",
    "version": 3
   },
   "file_extension": ".py",
   "mimetype": "text/x-python",
   "name": "python",
   "nbconvert_exporter": "python",
   "pygments_lexer": "ipython3",
   "version": "3.8.13"
  },
  "orig_nbformat": 4,
  "vscode": {
   "interpreter": {
    "hash": "82412ded204c99d8179b4b1ee3f42de77e30b86b122ca2fd6741c7dd5e56f54e"
   }
  }
 },
 "nbformat": 4,
 "nbformat_minor": 2
}
