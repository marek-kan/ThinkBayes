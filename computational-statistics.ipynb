{
 "cells": [
  {
   "cell_type": "markdown",
   "metadata": {},
   "source": [
    "### Cookie problem"
   ]
  },
  {
   "cell_type": "markdown",
   "metadata": {},
   "source": [
    "using CammelCase because of author"
   ]
  },
  {
   "cell_type": "code",
   "execution_count": 10,
   "metadata": {},
   "outputs": [],
   "source": [
    "from code_.thinkbayes import Pmf"
   ]
  },
  {
   "cell_type": "code",
   "execution_count": 17,
   "metadata": {},
   "outputs": [
    {
     "data": {
      "text/plain": [
       "{'B1': 0.5, 'B2': 0.5}"
      ]
     },
     "execution_count": 17,
     "metadata": {},
     "output_type": "execute_result"
    }
   ],
   "source": [
    "pmf = Pmf()\n",
    "\n",
    "# priors\n",
    "pmf.Set('B1', 0.5)\n",
    "pmf.Set('B2', 0.5)\n",
    "pmf.GetDict()"
   ]
  },
  {
   "cell_type": "code",
   "execution_count": 18,
   "metadata": {},
   "outputs": [
    {
     "name": "stdout",
     "output_type": "stream",
     "text": [
      "{'B1': 0.6000000000000001, 'B2': 0.4}\n",
      "0.6000000000000001\n"
     ]
    }
   ],
   "source": [
    "# update based on new data (prior * likelihood)\n",
    "pmf.Mult('B1', 3/4)\n",
    "pmf.Mult('B2', 1/2)\n",
    "# After this update, the distribution is no longer normalized, but because these hypotheses\n",
    "# are mutually exclusive and collectively exhaustive, we can renormalize:\n",
    "pmf.Normalize()\n",
    "print(pmf.GetDict())\n",
    "print(pmf.Prob('B1'))"
   ]
  },
  {
   "cell_type": "code",
   "execution_count": 26,
   "metadata": {},
   "outputs": [],
   "source": [
    "class Cookie(Pmf):\n",
    "    def __init__(self, hypotheses, mixes=None):\n",
    "        # calculate prior\n",
    "        Pmf.__init__(self)\n",
    "        for H in hypotheses:\n",
    "            self.Set(H, 1)\n",
    "        self.Normalize()\n",
    "\n",
    "        if mixes is None:\n",
    "            self.mixes = {\n",
    "                'B1': dict(vanilla=0.75, chocolate=0.25),\n",
    "                'B2': dict(vanilla=0.5, chocolate=0.5),\n",
    "            }\n",
    "        else:\n",
    "            self.mixes = mixes\n",
    "    \n",
    "    def Likelihood(self, data, hypothesis):\n",
    "        mix = self.mixes[hypothesis]\n",
    "        likelihood = mix[data]\n",
    "        return likelihood\n",
    "    \n",
    "    def Update(self, data):\n",
    "        for H in self.Values():\n",
    "            likelihood = self.Likelihood(data, H)\n",
    "            self.Mult(H, likelihood)\n",
    "        self.Normalize()\n",
    "        return\n",
    "    "
   ]
  },
  {
   "cell_type": "code",
   "execution_count": 27,
   "metadata": {},
   "outputs": [
    {
     "data": {
      "text/plain": [
       "{'B1': 0.5, 'B2': 0.5}"
      ]
     },
     "execution_count": 27,
     "metadata": {},
     "output_type": "execute_result"
    }
   ],
   "source": [
    "cookies = Cookie(\n",
    "    ['B1', 'B2']\n",
    ")\n",
    "cookies.GetDict()"
   ]
  },
  {
   "cell_type": "code",
   "execution_count": 28,
   "metadata": {},
   "outputs": [
    {
     "data": {
      "text/plain": [
       "{'B1': 0.6000000000000001, 'B2': 0.4}"
      ]
     },
     "execution_count": 28,
     "metadata": {},
     "output_type": "execute_result"
    }
   ],
   "source": [
    "# we picked vanilla cookie from a bowl\n",
    "cookies.Update('vanilla')\n",
    "cookies.GetDict()"
   ]
  },
  {
   "cell_type": "code",
   "execution_count": 29,
   "metadata": {},
   "outputs": [
    {
     "data": {
      "text/plain": [
       "{'B1': 0.4285714285714286, 'B2': 0.5714285714285714}"
      ]
     },
     "execution_count": 29,
     "metadata": {},
     "output_type": "execute_result"
    }
   ],
   "source": [
    "# we picked chocolate cookie from a bowl\n",
    "cookies.Update('chocolate')\n",
    "cookies.GetDict()"
   ]
  },
  {
   "cell_type": "markdown",
   "metadata": {},
   "source": [
    "## Monty Hall Problem"
   ]
  },
  {
   "cell_type": "code",
   "execution_count": null,
   "metadata": {},
   "outputs": [],
   "source": []
  }
 ],
 "metadata": {
  "kernelspec": {
   "display_name": "Python 3.8.13 ('stock_env')",
   "language": "python",
   "name": "python3"
  },
  "language_info": {
   "codemirror_mode": {
    "name": "ipython",
    "version": 3
   },
   "file_extension": ".py",
   "mimetype": "text/x-python",
   "name": "python",
   "nbconvert_exporter": "python",
   "pygments_lexer": "ipython3",
   "version": "3.8.13"
  },
  "orig_nbformat": 4,
  "vscode": {
   "interpreter": {
    "hash": "82412ded204c99d8179b4b1ee3f42de77e30b86b122ca2fd6741c7dd5e56f54e"
   }
  }
 },
 "nbformat": 4,
 "nbformat_minor": 2
}
