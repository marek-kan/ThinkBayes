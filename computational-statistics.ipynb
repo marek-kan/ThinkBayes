{
 "cells": [
  {
   "cell_type": "markdown",
   "metadata": {},
   "source": [
    "### Cookie problem"
   ]
  },
  {
   "cell_type": "markdown",
   "metadata": {},
   "source": [
    "using CammelCase because of author"
   ]
  },
  {
   "cell_type": "code",
   "execution_count": 79,
   "metadata": {},
   "outputs": [],
   "source": [
    "from code_.thinkbayes import Pmf, Suite"
   ]
  },
  {
   "cell_type": "code",
   "execution_count": 17,
   "metadata": {},
   "outputs": [
    {
     "data": {
      "text/plain": [
       "{'B1': 0.5, 'B2': 0.5}"
      ]
     },
     "execution_count": 17,
     "metadata": {},
     "output_type": "execute_result"
    }
   ],
   "source": [
    "pmf = Pmf()\n",
    "\n",
    "# priors\n",
    "pmf.Set('B1', 0.5)\n",
    "pmf.Set('B2', 0.5)\n",
    "pmf.GetDict()"
   ]
  },
  {
   "cell_type": "code",
   "execution_count": 18,
   "metadata": {},
   "outputs": [
    {
     "name": "stdout",
     "output_type": "stream",
     "text": [
      "{'B1': 0.6000000000000001, 'B2': 0.4}\n",
      "0.6000000000000001\n"
     ]
    }
   ],
   "source": [
    "# update based on new data (prior * likelihood)\n",
    "pmf.Mult('B1', 3/4)\n",
    "pmf.Mult('B2', 1/2)\n",
    "# After this update, the distribution is no longer normalized, but because these hypotheses\n",
    "# are mutually exclusive and collectively exhaustive, we can renormalize:\n",
    "pmf.Normalize()\n",
    "print(pmf.GetDict())\n",
    "print(pmf.Prob('B1'))"
   ]
  },
  {
   "cell_type": "code",
   "execution_count": 26,
   "metadata": {},
   "outputs": [],
   "source": [
    "class Cookie(Pmf):\n",
    "    def __init__(self, hypotheses, mixes=None):\n",
    "        # calculate prior\n",
    "        Pmf.__init__(self)\n",
    "        for H in hypotheses:\n",
    "            self.Set(H, 1)\n",
    "        self.Normalize()\n",
    "\n",
    "        if mixes is None:\n",
    "            self.mixes = {\n",
    "                'B1': dict(vanilla=0.75, chocolate=0.25),\n",
    "                'B2': dict(vanilla=0.5, chocolate=0.5),\n",
    "            }\n",
    "        else:\n",
    "            self.mixes = mixes\n",
    "    \n",
    "    def Likelihood(self, data, hypothesis):\n",
    "        mix = self.mixes[hypothesis]\n",
    "        likelihood = mix[data]\n",
    "        return likelihood\n",
    "    \n",
    "    def Update(self, data):\n",
    "        for H in self.Values():\n",
    "            likelihood = self.Likelihood(data, H)\n",
    "            self.Mult(H, likelihood)\n",
    "        self.Normalize()\n",
    "        return\n",
    "    "
   ]
  },
  {
   "cell_type": "code",
   "execution_count": 27,
   "metadata": {},
   "outputs": [
    {
     "data": {
      "text/plain": [
       "{'B1': 0.5, 'B2': 0.5}"
      ]
     },
     "execution_count": 27,
     "metadata": {},
     "output_type": "execute_result"
    }
   ],
   "source": [
    "cookies = Cookie(\n",
    "    ['B1', 'B2']\n",
    ")\n",
    "cookies.GetDict()"
   ]
  },
  {
   "cell_type": "code",
   "execution_count": 28,
   "metadata": {},
   "outputs": [
    {
     "data": {
      "text/plain": [
       "{'B1': 0.6000000000000001, 'B2': 0.4}"
      ]
     },
     "execution_count": 28,
     "metadata": {},
     "output_type": "execute_result"
    }
   ],
   "source": [
    "# we picked vanilla cookie from a bowl\n",
    "cookies.Update('vanilla')\n",
    "cookies.GetDict()"
   ]
  },
  {
   "cell_type": "code",
   "execution_count": 29,
   "metadata": {},
   "outputs": [
    {
     "data": {
      "text/plain": [
       "{'B1': 0.4285714285714286, 'B2': 0.5714285714285714}"
      ]
     },
     "execution_count": 29,
     "metadata": {},
     "output_type": "execute_result"
    }
   ],
   "source": [
    "# we picked chocolate cookie from a bowl\n",
    "cookies.Update('chocolate')\n",
    "cookies.GetDict()"
   ]
  },
  {
   "cell_type": "markdown",
   "metadata": {},
   "source": [
    "# Monty Hall Problem"
   ]
  },
  {
   "cell_type": "code",
   "execution_count": 72,
   "metadata": {},
   "outputs": [
    {
     "name": "stdout",
     "output_type": "stream",
     "text": [
      "['C', 'B']\n"
     ]
    }
   ],
   "source": [
    "# empirically simulate, we pick door A\n",
    "import numpy as np\n",
    "\n",
    "doors = {'A', 'B', 'C'}\n",
    "pick = 'A'\n",
    "\n",
    "monty_doors = list(doors - {'A'})\n",
    "steps = 5000\n",
    "print(monty_doors)"
   ]
  },
  {
   "cell_type": "code",
   "execution_count": 74,
   "metadata": {},
   "outputs": [],
   "source": [
    "def pick_monty_action(pick:str, car_door:str, doors:list):\n",
    "    if pick == car_door:\n",
    "        res = np.random.choice(doors)\n",
    "    elif pick != car_door:\n",
    "        posibilities = list(\n",
    "            set(doors) - set(car_door)\n",
    "        )\n",
    "        res = np.random.choice(posibilities)\n",
    "    return res"
   ]
  },
  {
   "cell_type": "code",
   "execution_count": 78,
   "metadata": {},
   "outputs": [
    {
     "data": {
      "text/plain": [
       "'B'"
      ]
     },
     "execution_count": 78,
     "metadata": {},
     "output_type": "execute_result"
    }
   ],
   "source": [
    "pick_monty_action('A', 'A', ['B', 'C'])"
   ]
  },
  {
   "cell_type": "code",
   "execution_count": 76,
   "metadata": {},
   "outputs": [],
   "source": [
    "results = {\n",
    "    # key is monty action; stick/switch is player action with win count\n",
    "    'B': {'stick': 0, 'switch': 0},\n",
    "    'C': {'stick': 0, 'switch': 0}\n",
    "}\n",
    "\n",
    "\n",
    "for i in range(steps):\n",
    "    car_is_behind = np.random.choice(list(doors))\n",
    "    monty_action = pick_monty_action(\n",
    "        pick, car_is_behind, monty_doors\n",
    "    )\n",
    "\n",
    "    if car_is_behind == pick:\n",
    "        results[monty_action]['stick'] += 1\n",
    "    else:\n",
    "        results[monty_action]['switch'] += 1\n",
    "\n",
    "# normalize results to 0, 1 interval\n",
    "for MA in results:\n",
    "    norm = results[MA]['stick'] + results[MA]['switch']\n",
    "    for k, v in results[MA].items():\n",
    "        results[MA][k] /= norm"
   ]
  },
  {
   "cell_type": "code",
   "execution_count": 77,
   "metadata": {},
   "outputs": [
    {
     "data": {
      "text/plain": [
       "{'B': {'stick': 0.31983967935871743, 'switch': 0.6801603206412825},\n",
       " 'C': {'stick': 0.3341317365269461, 'switch': 0.665868263473054}}"
      ]
     },
     "execution_count": 77,
     "metadata": {},
     "output_type": "execute_result"
    }
   ],
   "source": [
    "results"
   ]
  },
  {
   "cell_type": "markdown",
   "metadata": {},
   "source": [
    "# M&M"
   ]
  },
  {
   "cell_type": "code",
   "execution_count": 82,
   "metadata": {},
   "outputs": [],
   "source": [
    "mix94 = dict(\n",
    "    brown=30,\n",
    "    yellow=20,\n",
    "    red=20,\n",
    "    green=10,\n",
    "    orange=10,\n",
    "    tan=10\n",
    ")\n",
    "mix96 = dict(\n",
    "    blue=24,\n",
    "    green=20,\n",
    "    orange=16,\n",
    "    yellow=14,\n",
    "    red=13,\n",
    "    brown=13\n",
    ")\n",
    "hypoA = dict(bag1=mix94, bag2=mix96)\n",
    "hypoB = dict(bag1=mix96, bag2=mix94)\n",
    "hypotheses = dict(A=hypoA, B=hypoB)"
   ]
  },
  {
   "cell_type": "code",
   "execution_count": 85,
   "metadata": {},
   "outputs": [],
   "source": [
    "class M_and_M(Suite):\n",
    "    def __init__(self, hypotheses):\n",
    "        Suite.__init__(self)\n",
    "        self.hypotheses = hypotheses\n",
    "        for H in hypotheses:\n",
    "            self.Set(H, 1)\n",
    "        self.Normalize()\n",
    "        print(self.GetDict())\n",
    "\n",
    "    def Likelihood(self, data, hypo):\n",
    "        bag, color = data\n",
    "        mix = self.hypotheses[hypo][bag]\n",
    "        like = mix[color]\n",
    "        return like"
   ]
  },
  {
   "cell_type": "code",
   "execution_count": 86,
   "metadata": {},
   "outputs": [
    {
     "name": "stdout",
     "output_type": "stream",
     "text": [
      "{'A': 0.5, 'B': 0.5}\n"
     ]
    }
   ],
   "source": [
    "mam = M_and_M(hypotheses)"
   ]
  },
  {
   "cell_type": "code",
   "execution_count": 87,
   "metadata": {},
   "outputs": [
    {
     "name": "stdout",
     "output_type": "stream",
     "text": [
      "A 0.7407407407407407\n",
      "B 0.2592592592592592\n"
     ]
    }
   ],
   "source": [
    "mam.Update(('bag1', 'yellow'))\n",
    "mam.Update(('bag2', 'green'))\n",
    "mam.Print()"
   ]
  },
  {
   "cell_type": "code",
   "execution_count": null,
   "metadata": {},
   "outputs": [],
   "source": []
  },
  {
   "cell_type": "code",
   "execution_count": null,
   "metadata": {},
   "outputs": [],
   "source": []
  },
  {
   "cell_type": "code",
   "execution_count": null,
   "metadata": {},
   "outputs": [],
   "source": []
  },
  {
   "cell_type": "markdown",
   "metadata": {},
   "source": []
  }
 ],
 "metadata": {
  "kernelspec": {
   "display_name": "Python 3.8.13 ('stock_env')",
   "language": "python",
   "name": "python3"
  },
  "language_info": {
   "codemirror_mode": {
    "name": "ipython",
    "version": 3
   },
   "file_extension": ".py",
   "mimetype": "text/x-python",
   "name": "python",
   "nbconvert_exporter": "python",
   "pygments_lexer": "ipython3",
   "version": "3.8.13"
  },
  "orig_nbformat": 4,
  "vscode": {
   "interpreter": {
    "hash": "82412ded204c99d8179b4b1ee3f42de77e30b86b122ca2fd6741c7dd5e56f54e"
   }
  }
 },
 "nbformat": 4,
 "nbformat_minor": 2
}
