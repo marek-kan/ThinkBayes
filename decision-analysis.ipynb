{
 "cells": [
  {
   "cell_type": "code",
   "execution_count": 1,
   "metadata": {},
   "outputs": [],
   "source": [
    "import pandas as pd\n",
    "import numpy as np\n",
    "from code_ import thinkbayes"
   ]
  },
  {
   "cell_type": "markdown",
   "metadata": {},
   "source": [
    "On November 1, 2007, contestants named Letia and Nathaniel appeared on The Price\n",
    "is Right, an American game show. They competed in a game called The Showcase, where\n",
    "the objective is to guess the price of a showcase of prizes. The contestant who comes\n",
    "closest to the actual price of the showcase, without going over, wins the prizes.\n",
    "\n",
    "For a Bayesian thinker, this scenario suggests several questions:\n",
    "1. Before seeing the prizes, what prior beliefs should the contestant have about the\n",
    "price of the showcase?\n",
    "2. After seeing the prizes, how should the contestant update those beliefs?\n",
    "3. Based on the posterior distribution, what should the contestant bid?"
   ]
  },
  {
   "cell_type": "code",
   "execution_count": 28,
   "metadata": {},
   "outputs": [],
   "source": [
    "def process_df(df, year=None):\n",
    "    df = df.T\n",
    "    df.columns = df.iloc[0]\n",
    "    df = df.iloc[1:]\n",
    "    if year is not None:\n",
    "        df.index = df.index + f' {year}'\n",
    "    df[['Showcase 1', 'Showcase 2', 'Bid 1', 'Bid 2','Difference 1', 'Difference 2']] = (\n",
    "            df[['Showcase 1', 'Showcase 2', 'Bid 1', 'Bid 2',\n",
    "            'Difference 1', 'Difference 2'\n",
    "        ]].astype(float)\n",
    "    )\n",
    "    return df"
   ]
  },
  {
   "cell_type": "code",
   "execution_count": 29,
   "metadata": {},
   "outputs": [
    {
     "name": "stderr",
     "output_type": "stream",
     "text": [
      "/tmp/ipykernel_10066/569742392.py:3: FutureWarning: The frame.append method is deprecated and will be removed from pandas in a future version. Use pandas.concat instead.\n",
      "  df = df_2011.append(df_2012)\n"
     ]
    },
    {
     "data": {
      "text/html": [
       "<div>\n",
       "<style scoped>\n",
       "    .dataframe tbody tr th:only-of-type {\n",
       "        vertical-align: middle;\n",
       "    }\n",
       "\n",
       "    .dataframe tbody tr th {\n",
       "        vertical-align: top;\n",
       "    }\n",
       "\n",
       "    .dataframe thead th {\n",
       "        text-align: right;\n",
       "    }\n",
       "</style>\n",
       "<table border=\"1\" class=\"dataframe\">\n",
       "  <thead>\n",
       "    <tr style=\"text-align: right;\">\n",
       "      <th>Date</th>\n",
       "      <th>Duno</th>\n",
       "      <th>Showcase 1</th>\n",
       "      <th>Showcase 2</th>\n",
       "      <th>Bid 1</th>\n",
       "      <th>Bid 2</th>\n",
       "      <th>Difference 1</th>\n",
       "      <th>Difference 2</th>\n",
       "    </tr>\n",
       "  </thead>\n",
       "  <tbody>\n",
       "    <tr>\n",
       "      <th>Sep. 19 2011</th>\n",
       "      <td>5631K</td>\n",
       "      <td>50969.0</td>\n",
       "      <td>45429.0</td>\n",
       "      <td>42000.0</td>\n",
       "      <td>34000.0</td>\n",
       "      <td>8969.0</td>\n",
       "      <td>11429.0</td>\n",
       "    </tr>\n",
       "    <tr>\n",
       "      <th>Sep. 20 2011</th>\n",
       "      <td>5632K</td>\n",
       "      <td>21901.0</td>\n",
       "      <td>34061.0</td>\n",
       "      <td>14000.0</td>\n",
       "      <td>59900.0</td>\n",
       "      <td>7901.0</td>\n",
       "      <td>-25839.0</td>\n",
       "    </tr>\n",
       "    <tr>\n",
       "      <th>Sep. 21 2011</th>\n",
       "      <td>5633K</td>\n",
       "      <td>32815.0</td>\n",
       "      <td>53186.0</td>\n",
       "      <td>32000.0</td>\n",
       "      <td>45000.0</td>\n",
       "      <td>815.0</td>\n",
       "      <td>8186.0</td>\n",
       "    </tr>\n",
       "    <tr>\n",
       "      <th>Sep. 22 2011</th>\n",
       "      <td>5634K</td>\n",
       "      <td>44432.0</td>\n",
       "      <td>31428.0</td>\n",
       "      <td>27000.0</td>\n",
       "      <td>38000.0</td>\n",
       "      <td>17432.0</td>\n",
       "      <td>-6572.0</td>\n",
       "    </tr>\n",
       "    <tr>\n",
       "      <th>Sep. 23 2011</th>\n",
       "      <td>5635K</td>\n",
       "      <td>24273.0</td>\n",
       "      <td>22320.0</td>\n",
       "      <td>18750.0</td>\n",
       "      <td>23000.0</td>\n",
       "      <td>5523.0</td>\n",
       "      <td>-680.0</td>\n",
       "    </tr>\n",
       "  </tbody>\n",
       "</table>\n",
       "</div>"
      ],
      "text/plain": [
       "Date           Duno  Showcase 1  Showcase 2    Bid 1    Bid 2  Difference 1  \\\n",
       "Sep. 19 2011  5631K     50969.0     45429.0  42000.0  34000.0        8969.0   \n",
       "Sep. 20 2011  5632K     21901.0     34061.0  14000.0  59900.0        7901.0   \n",
       "Sep. 21 2011  5633K     32815.0     53186.0  32000.0  45000.0         815.0   \n",
       "Sep. 22 2011  5634K     44432.0     31428.0  27000.0  38000.0       17432.0   \n",
       "Sep. 23 2011  5635K     24273.0     22320.0  18750.0  23000.0        5523.0   \n",
       "\n",
       "Date          Difference 2  \n",
       "Sep. 19 2011       11429.0  \n",
       "Sep. 20 2011      -25839.0  \n",
       "Sep. 21 2011        8186.0  \n",
       "Sep. 22 2011       -6572.0  \n",
       "Sep. 23 2011        -680.0  "
      ]
     },
     "execution_count": 29,
     "metadata": {},
     "output_type": "execute_result"
    }
   ],
   "source": [
    "df_2011 = process_df(pd.read_csv('code_/showcases.2011.csv'), year=2011)\n",
    "df_2012 = process_df(pd.read_csv('code_/showcases.2012.csv'), year=2012)\n",
    "df = df_2011.append(df_2012)\n",
    "# del(df_2011, df_2012)\n",
    "df.head()\n",
    "# df_2011.head()"
   ]
  },
  {
   "cell_type": "code",
   "execution_count": 34,
   "metadata": {},
   "outputs": [
    {
     "data": {
      "text/plain": [
       "<AxesSubplot:ylabel='Density'>"
      ]
     },
     "execution_count": 34,
     "metadata": {},
     "output_type": "execute_result"
    },
    {
     "data": {
      "image/png": "[encoded data removed]",
      "text/plain": [
       "<Figure size 640x480 with 1 Axes>"
      ]
     },
     "metadata": {},
     "output_type": "display_data"
    }
   ],
   "source": [
    "df[['Showcase 1', 'Showcase 2']].plot(kind='kde', alpha=0.7)#, bins=20)"
   ]
  },
  {
   "cell_type": "code",
   "execution_count": 35,
   "metadata": {},
   "outputs": [
    {
     "data": {
      "text/html": [
       "<div>\n",
       "<style scoped>\n",
       "    .dataframe tbody tr th:only-of-type {\n",
       "        vertical-align: middle;\n",
       "    }\n",
       "\n",
       "    .dataframe tbody tr th {\n",
       "        vertical-align: top;\n",
       "    }\n",
       "\n",
       "    .dataframe thead th {\n",
       "        text-align: right;\n",
       "    }\n",
       "</style>\n",
       "<table border=\"1\" class=\"dataframe\">\n",
       "  <thead>\n",
       "    <tr style=\"text-align: right;\">\n",
       "      <th>Date</th>\n",
       "      <th>Showcase 1</th>\n",
       "      <th>Showcase 2</th>\n",
       "      <th>Bid 1</th>\n",
       "      <th>Bid 2</th>\n",
       "      <th>Difference 1</th>\n",
       "      <th>Difference 2</th>\n",
       "    </tr>\n",
       "  </thead>\n",
       "  <tbody>\n",
       "    <tr>\n",
       "      <th>count</th>\n",
       "      <td>313.000000</td>\n",
       "      <td>313.000000</td>\n",
       "      <td>313.000000</td>\n",
       "      <td>313.000000</td>\n",
       "      <td>313.000000</td>\n",
       "      <td>313.000000</td>\n",
       "    </tr>\n",
       "    <tr>\n",
       "      <th>mean</th>\n",
       "      <td>30299.488818</td>\n",
       "      <td>31047.680511</td>\n",
       "      <td>26183.092652</td>\n",
       "      <td>27371.789137</td>\n",
       "      <td>4116.396166</td>\n",
       "      <td>3675.891374</td>\n",
       "    </tr>\n",
       "    <tr>\n",
       "      <th>std</th>\n",
       "      <td>7145.705405</td>\n",
       "      <td>8293.059002</td>\n",
       "      <td>6470.507122</td>\n",
       "      <td>6303.572665</td>\n",
       "      <td>6899.909806</td>\n",
       "      <td>6886.260711</td>\n",
       "    </tr>\n",
       "    <tr>\n",
       "      <th>min</th>\n",
       "      <td>19563.000000</td>\n",
       "      <td>18349.000000</td>\n",
       "      <td>5500.000000</td>\n",
       "      <td>15000.000000</td>\n",
       "      <td>-14187.000000</td>\n",
       "      <td>-25839.000000</td>\n",
       "    </tr>\n",
       "    <tr>\n",
       "      <th>25%</th>\n",
       "      <td>24866.000000</td>\n",
       "      <td>25264.000000</td>\n",
       "      <td>22000.000000</td>\n",
       "      <td>23000.000000</td>\n",
       "      <td>26.000000</td>\n",
       "      <td>-587.000000</td>\n",
       "    </tr>\n",
       "    <tr>\n",
       "      <th>50%</th>\n",
       "      <td>28958.000000</td>\n",
       "      <td>29488.000000</td>\n",
       "      <td>25620.000000</td>\n",
       "      <td>27000.000000</td>\n",
       "      <td>3902.000000</td>\n",
       "      <td>3136.000000</td>\n",
       "    </tr>\n",
       "    <tr>\n",
       "      <th>75%</th>\n",
       "      <td>34428.000000</td>\n",
       "      <td>34665.000000</td>\n",
       "      <td>29900.000000</td>\n",
       "      <td>30777.000000</td>\n",
       "      <td>7800.000000</td>\n",
       "      <td>7829.000000</td>\n",
       "    </tr>\n",
       "    <tr>\n",
       "      <th>max</th>\n",
       "      <td>58342.000000</td>\n",
       "      <td>71628.000000</td>\n",
       "      <td>50972.000000</td>\n",
       "      <td>59900.000000</td>\n",
       "      <td>31374.000000</td>\n",
       "      <td>43628.000000</td>\n",
       "    </tr>\n",
       "  </tbody>\n",
       "</table>\n",
       "</div>"
      ],
      "text/plain": [
       "Date     Showcase 1    Showcase 2         Bid 1         Bid 2  Difference 1  \\\n",
       "count    313.000000    313.000000    313.000000    313.000000    313.000000   \n",
       "mean   30299.488818  31047.680511  26183.092652  27371.789137   4116.396166   \n",
       "std     7145.705405   8293.059002   6470.507122   6303.572665   6899.909806   \n",
       "min    19563.000000  18349.000000   5500.000000  15000.000000 -14187.000000   \n",
       "25%    24866.000000  25264.000000  22000.000000  23000.000000     26.000000   \n",
       "50%    28958.000000  29488.000000  25620.000000  27000.000000   3902.000000   \n",
       "75%    34428.000000  34665.000000  29900.000000  30777.000000   7800.000000   \n",
       "max    58342.000000  71628.000000  50972.000000  59900.000000  31374.000000   \n",
       "\n",
       "Date   Difference 2  \n",
       "count    313.000000  \n",
       "mean    3675.891374  \n",
       "std     6886.260711  \n",
       "min   -25839.000000  \n",
       "25%     -587.000000  \n",
       "50%     3136.000000  \n",
       "75%     7829.000000  \n",
       "max    43628.000000  "
      ]
     },
     "execution_count": 35,
     "metadata": {},
     "output_type": "execute_result"
    }
   ],
   "source": [
    "df.describe()"
   ]
  },
  {
   "cell_type": "code",
   "execution_count": 42,
   "metadata": {},
   "outputs": [
    {
     "name": "stderr",
     "output_type": "stream",
     "text": [
      "/tmp/ipykernel_10066/3952621190.py:1: FutureWarning: The series.append method is deprecated and will be removed from pandas in a future version. Use pandas.concat instead.\n",
      "  prices = df['Showcase 1'].append(df['Showcase 2']).values\n"
     ]
    },
    {
     "data": {
      "text/plain": [
       "array([50969., 21901., 32815., 44432., 24273., 30554., 20963., 28941.,\n",
       "       25851., 28800., 37703., 34774., 25268., 44044., 32516., 30827.,\n",
       "       40374., 27698., 23590., 38625., 24026., 37449., 34268., 22281.,\n",
       "       22890., 24226., 25448., 32525., 36799., 27380., 25903., 31769.,\n",
       "       22853., 23202., 20721., 28451., 26154., 27019., 51959., 35811.,\n",
       "       24885., 24648., 30707., 23744., 45078., 20773., 30892., 29971.,\n",
       "       37423., 33593., 24866., 24628., 24827., 29248., 24818., 28762.,\n",
       "       31838., 22268., 38892., 22599., 31705., 23299., 21394., 22589.,\n",
       "       30573., 33009., 19612., 28550., 49937., 36915., 33400., 34516.,\n",
       "       31516., 51108., 23981., 26383., 39801., 39201., 19563., 20418.,\n",
       "       28465., 22356., 24150., 20425., 23926., 20860., 35526., 20912.,\n",
       "       27426., 26393., 25329., 22434., 31933., 23986., 24729., 21747.,\n",
       "       27273., 21681., 29324., 35874., 30397., 27310., 28414., 32535.,\n",
       "       22886., 29842., 35954., 27883., 31268., 21563., 39642., 21862.,\n",
       "       33499., 24313., 26809., 29674., 21711., 25618., 35504., 23327.,\n",
       "       34581., 25918., 20418., 26511., 28288., 30348., 34428., 26732.,\n",
       "       29631., 30253., 30256., 21399., 30988., 26536., 39924., 26254.,\n",
       "       29137., 32666., 30706., 34805., 33343., 29671., 20408., 30406.,\n",
       "       20990., 32391., 20828., 36439., 31785., 27663., 30291., 33480.,\n",
       "       28714., 36803., 24281., 23841., 33844., 31809., 28309., 27332.,\n",
       "       28957., 54579., 28649., 26854., 20962., 38787., 26738., 28958.,\n",
       "       28604., 25269., 30624., 25366., 31328., 36813., 31434., 30321.,\n",
       "       36414., 34736., 21707., 38297., 28996., 27690., 29426., 21711.,\n",
       "       29307., 25263., 26993., 29390., 34920., 30323., 46638., 40811.,\n",
       "       31259., 41943., 24946., 26257., 49928., 30744., 37671., 32255.,\n",
       "       21983., 40311., 28573., 28510., 27341., 29393., 24379., 24289.,\n",
       "       32784., 41995., 39939., 46829., 24413., 36607., 43902., 36820.,\n",
       "       27575., 24459., 31749., 22466., 25809., 35252., 58342., 21981.,\n",
       "       40294., 45433., 27480., 28868., 30864., 36577., 38468., 34353.,\n",
       "       26262., 23515., 41374., 22476., 27762., 28744., 46872., 32416.,\n",
       "       30296., 27813., 34608., 25540., 33795., 28981., 41280., 28400.,\n",
       "       26462., 36419., 22716., 35855., 23261., 48442., 25643., 25975.,\n",
       "       52557., 21258., 34640., 33798., 33513., 38934., 24988., 27614.,\n",
       "       31816., 39315., 30396., 37649., 22542., 22576., 27288., 40830.,\n",
       "       29943., 28583., 36407., 27791., 22703., 29633., 20869., 29412.,\n",
       "       23437., 27266., 32922., 27268., 27382., 27736., 41781., 38875.,\n",
       "       46339., 24422., 38902., 40408., 30764., 27440., 29271., 37446.,\n",
       "       34763., 22992., 37517., 27677., 23988., 29323., 35379., 34330.,\n",
       "       27793., 22412., 29528., 22774., 25375., 24949., 23662., 23704.,\n",
       "       20898., 45429., 34061., 53186., 31428., 22320., 24337., 41373.,\n",
       "       45437., 41125., 36319., 38752., 28450., 39745., 40894., 30608.,\n",
       "       30463., 29405., 31290., 38597., 33917., 43036., 36623., 31681.,\n",
       "       29080., 34137., 24925., 36174., 23705., 24897., 37776., 19792.,\n",
       "       20182., 36070., 32357., 24054., 21527., 30623., 34089., 58458.,\n",
       "       69485., 29349., 23955., 28244., 19756., 28336., 34646., 26712.,\n",
       "       24349., 24366., 23276., 34144., 28136., 33508., 38836., 27654.,\n",
       "       23097., 23255., 33801., 35658., 42174., 34238., 29515., 26949.,\n",
       "       22797., 25211., 29737., 23084., 24891., 71628., 29460., 24974.,\n",
       "       32693., 26937., 30939., 32252., 29551., 22193., 29344., 33551.,\n",
       "       29524., 23504., 36954., 18349., 19508., 20068., 27319., 26055.,\n",
       "       25875., 29831., 30918., 36442., 28854., 36664., 24753., 25264.,\n",
       "       30843., 32968., 28487., 27806., 22513., 25585., 23677., 29286.,\n",
       "       29299., 31501., 21902., 20320., 25830., 32687., 30493., 20043.,\n",
       "       28598., 34432., 27386., 19693., 25812., 24631., 30858., 26993.,\n",
       "       27570., 23566., 20908., 25541., 32310., 37393., 21827., 26934.,\n",
       "       28480., 39620., 39263., 34607., 26375., 43998., 25357., 33251.,\n",
       "       42675., 20267., 32390., 20513., 32782., 29488., 27498., 34453.,\n",
       "       36562., 19827., 49869., 30602., 28979., 36419., 29993., 36548.,\n",
       "       24984., 22407., 37746., 30764., 21255., 37125., 23904., 37776.,\n",
       "       29317., 49419., 27712., 31352., 34808., 33302., 30317., 26784.,\n",
       "       25612., 22438., 23548., 29445., 26525., 30571., 25755., 38715.,\n",
       "       29281., 38505., 33612., 25820., 20344., 25938., 41765., 34304.,\n",
       "       26277., 26617., 32646., 33337., 26314., 31278., 31285., 42319.,\n",
       "       62485., 32972., 24755., 34665., 48635., 42621., 22253., 24251.,\n",
       "       45871., 31820., 31399., 33797., 37252., 30320., 19290., 32262.,\n",
       "       20545., 34727., 22554., 21969., 23624., 38948., 29310., 43453.,\n",
       "       27734., 30919., 23309., 33824., 35704., 40812., 21261., 33968.,\n",
       "       25903., 35784., 53263., 27572., 38588., 20660., 35617., 26715.,\n",
       "       25832., 28869., 37668., 24374., 30649., 28659., 27518., 45829.,\n",
       "       26685., 46648., 25761., 29552., 25336., 28428., 44564., 22311.,\n",
       "       22564., 38649., 25419., 21470., 25510., 43850., 66996., 37319.,\n",
       "       29509., 32888., 35368., 21263., 29856., 25770., 45916., 20403.,\n",
       "       48281., 33822., 21361., 29336., 40328., 28725., 23928., 32706.,\n",
       "       32349., 39844., 36804., 25614., 30964., 28525., 28269., 30290.,\n",
       "       25815., 33598., 23318., 23880., 35341., 22580., 28976., 28926.,\n",
       "       34637., 34255., 38823., 42309., 46833., 42965., 39296., 28959.,\n",
       "       23576., 35926., 26521., 26745., 24335., 27439., 21340., 43923.,\n",
       "       24585., 27441., 24285., 23667., 22812., 31986., 30696., 22329.,\n",
       "       34325., 23876.])"
      ]
     },
     "execution_count": 42,
     "metadata": {},
     "output_type": "execute_result"
    }
   ],
   "source": [
    "prices = df['Showcase 1'].append(df['Showcase 2']).values\n",
    "prices"
   ]
  },
  {
   "cell_type": "code",
   "execution_count": 44,
   "metadata": {},
   "outputs": [],
   "source": [
    "pdf = thinkbayes.EstimatedPdf(prices)\n",
    "low, high = 0, 75000\n",
    "n = 101\n",
    "xs = np.linspace(low, high, n)\n",
    "pmf = pdf.MakePmf(xs)"
   ]
  },
  {
   "cell_type": "code",
   "execution_count": 45,
   "metadata": {},
   "outputs": [
    {
     "data": {
      "text/plain": [
       "0.0024804133642668835"
      ]
     },
     "execution_count": 45,
     "metadata": {},
     "output_type": "execute_result"
    }
   ],
   "source": [
    "pmf.Prob(51000)"
   ]
  },
  {
   "cell_type": "code",
   "execution_count": 46,
   "metadata": {},
   "outputs": [
    {
     "data": {
      "text/plain": [
       "array([3.81388951e-06])"
      ]
     },
     "execution_count": 46,
     "metadata": {},
     "output_type": "execute_result"
    }
   ],
   "source": [
    "pdf.kde.evaluate(50000)"
   ]
  },
  {
   "cell_type": "code",
   "execution_count": 47,
   "metadata": {},
   "outputs": [
    {
     "name": "stderr",
     "output_type": "stream",
     "text": [
      "/tmp/ipykernel_10066/1254500359.py:1: FutureWarning: The series.append method is deprecated and will be removed from pandas in a future version. Use pandas.concat instead.\n",
      "  bids = df['Bid 1'].append(df['Bid 2']).values\n"
     ]
    }
   ],
   "source": [
    "bids = df['Bid 1'].append(df['Bid 2']).values"
   ]
  },
  {
   "cell_type": "code",
   "execution_count": 48,
   "metadata": {},
   "outputs": [],
   "source": [
    "diffs = prices - bids"
   ]
  },
  {
   "cell_type": "code",
   "execution_count": 89,
   "metadata": {},
   "outputs": [],
   "source": [
    "class Price(thinkbayes.Suite):\n",
    "    def __init__(self, pmf, player, name=''):\n",
    "        \"\"\"Constructs the suite.\n",
    "\n",
    "        pmf: prior distribution of price\n",
    "        player: Player object\n",
    "        name: string\n",
    "        \"\"\"\n",
    "        thinkbayes.Suite.__init__(self, pmf)\n",
    "        self.player = player\n",
    "        self.name =name\n",
    "\n",
    "    def Likelihood(self, data, hypo):\n",
    "        \"\"\"Computes the likelihood of the data under the hypothesis.\n",
    "\n",
    "        hypo: actual price\n",
    "        data: the contestant's guess\n",
    "        \"\"\"\n",
    "        price = hypo # hypothetical price of showcase\n",
    "        guess = data # data = contestants best guess\n",
    "        error = price - guess\n",
    "        \n",
    "        like = self.player.ErrorDensity(error)\n",
    "        return like\n",
    "        \n",
    "class GainCalculator(object):\n",
    "    \"\"\"Encapsulates computation of expected gain.\"\"\"\n",
    "\n",
    "    def __init__(self, player, opponent):\n",
    "        \"\"\"Constructs the calculator.\n",
    "\n",
    "        player: Player\n",
    "        opponent: Player\n",
    "        \"\"\"\n",
    "        self.player = player\n",
    "        self.opponent = opponent\n",
    "\n",
    "    def ExpectedGains(self, low=0, high=75000, n=101):\n",
    "        \"\"\"Computes expected gains for a range of bids.\n",
    "\n",
    "        low: low bid\n",
    "        high: high bid\n",
    "        n: number of bids to evaluates\n",
    "\n",
    "        returns: tuple (sequence of bids, sequence of gains)\n",
    "    \n",
    "        \"\"\"\n",
    "        bids = np.linspace(low, high, n)\n",
    "\n",
    "        gains = [self.ExpectedGain(bid) for bid in bids]\n",
    "\n",
    "        return bids, gains\n",
    "\n",
    "    def ExpectedGain(self, bid):\n",
    "        \"\"\"Computes the expected return of a given bid.\n",
    "\n",
    "        bid: your bid\n",
    "        \"\"\"\n",
    "        suite = self.player.posterior\n",
    "        total = 0\n",
    "        for price, prob in sorted(suite.Items()):\n",
    "            gain = self.Gain(bid, price)\n",
    "            total += prob * gain\n",
    "        return total\n",
    "\n",
    "    def Gain(self, bid, price):\n",
    "        \"\"\"Computes the return of a bid, given the actual price.\n",
    "\n",
    "        bid: number\n",
    "        price: actual price\n",
    "        \"\"\"\n",
    "        # if you overbid, you get nothing\n",
    "        if bid > price:\n",
    "            return 0\n",
    "\n",
    "        # otherwise compute the probability of winning\n",
    "        diff = price - bid\n",
    "        prob = self.ProbWin(diff)\n",
    "\n",
    "        # if you are within 250 dollars, you win both showcases\n",
    "        if diff <= 250:\n",
    "            return 2 * price * prob\n",
    "        else:\n",
    "            return price * prob\n",
    "\n",
    "    def ProbWin(self, diff):\n",
    "        \"\"\"Computes the probability of winning for a given diff.\n",
    "\n",
    "        diff: how much your bid was off by\n",
    "        \"\"\"\n",
    "        prob = (self.opponent.ProbOverbid() + \n",
    "                self.opponent.ProbWorseThan(diff))\n",
    "        return prob\n",
    "\n",
    "class Player(object):\n",
    "    \"\"\"Represents a player on The Price is Right.\"\"\"\n",
    "    def __init__(self, prices, bids, diffs, mu=0):\n",
    "        \"\"\"Construct the Player.\n",
    "\n",
    "        prices: sequence of prices\n",
    "        bids: sequence of bids\n",
    "        diffs: sequence of underness (negative means over)\n",
    "        \"\"\"\n",
    "        # smoothed PDF estemated by KDE\n",
    "        self.pdf_price = thinkbayes.EstimatedPdf(prices)\n",
    "        # cummulative distribution of diff\n",
    "        self.cdf_diff = thinkbayes.MakeCdfFromList(diffs)\n",
    "        sigma = np.std(diffs)\n",
    "        # PDF that characterizes errors. assumed gaussian distr with mean=0 and std=std_diff\n",
    "        self.pdf_error = thinkbayes.GaussianPdf(mu, sigma)\n",
    "\n",
    "        n = 101\n",
    "        self.price_xs = np.linspace(0, 75000, n)\n",
    "    \n",
    "    def ErrorDensity(self, error):\n",
    "        \"\"\"\n",
    "        Density of the given error in the distribution of error.\n",
    "        error: how much the bid is under the actual price\n",
    "\n",
    "        ErrorDensity works by evaluating pdf_error at the given value of error. The result is\n",
    "        a probability density, so it is not really a probability. But remember that Likelihood\n",
    "        doesn’t need to compute a probability; it only has to compute something proportional\n",
    "        to a probability. As long as the constant of proportionality is the same for all likelihoods,\n",
    "        it gets canceled out when we normalize the posterior distribution.\n",
    "        And therefore, a probability density is a perfectly good likelihood.\n",
    "        \"\"\"\n",
    "        return self.pdf_error.Density(error)\n",
    "\n",
    "    def PmfPrice(self):\n",
    "        \"\"\"Returns a new Pmf of prices.\n",
    "\n",
    "        A discrete version of the estimated Pdf.\n",
    "        \"\"\"\n",
    "        return self.pdf_price.MakePmf(self.price_xs)\n",
    "    \n",
    "    def CdfDiff(self):\n",
    "        \"\"\"Returns a reference to the Cdf of differences (underness).\n",
    "        \"\"\"\n",
    "        return self.cdf_diff\n",
    "\n",
    "    def ProbOverbid(self):\n",
    "        \"\"\"Returns the probability this player overbids.\n",
    "        \"\"\"\n",
    "        return self.cdf_diff.Prob(-1)\n",
    "\n",
    "    def ProbWorseThan(self, diff):\n",
    "        \"\"\"Probability this player's diff is greater than the given diff.\n",
    "\n",
    "        diff: how much the opponent is off by (always positive)\n",
    "        \"\"\"\n",
    "        return 1 - self.cdf_diff.Prob(diff)\n",
    "\n",
    "    def MakeBeliefs(self, guess):\n",
    "        \"\"\"Makes a posterior distribution based on estimated price.\n",
    "\n",
    "        Sets attributes prior and posterior.\n",
    "\n",
    "        guess: what the player thinks the showcase is worth        \n",
    "        \"\"\"\n",
    "        pmf = self.PmfPrice()\n",
    "        self.prior = Price(pmf, self, name='prior')\n",
    "        self.posterior = self.prior.Copy(name='posterior')\n",
    "        self.posterior.Update(guess)\n",
    "\n",
    "    def OptimalBid(self, guess, opponent):\n",
    "        \"\"\"Computes the bid that maximizes expected return.\n",
    "        \n",
    "        guess: what the player thinks the showcase is worth \n",
    "        opponent: Player\n",
    "\n",
    "        Returns: (optimal bid, expected gain)\n",
    "        \"\"\"\n",
    "        self.MakeBeliefs(guess)\n",
    "        calc = GainCalculator(self, opponent)\n",
    "        bids, gains = calc.ExpectedGains()\n",
    "        gain, bid = max(zip(gains, bids))\n",
    "        return bid, gain\n"
   ]
  },
  {
   "cell_type": "code",
   "execution_count": 57,
   "metadata": {},
   "outputs": [],
   "source": [
    "p = Player(prices, bids, diffs)"
   ]
  },
  {
   "cell_type": "code",
   "execution_count": 55,
   "metadata": {},
   "outputs": [
    {
     "data": {
      "text/plain": [
       "0.268370607028754"
      ]
     },
     "execution_count": 55,
     "metadata": {},
     "output_type": "execute_result"
    }
   ],
   "source": [
    "p.cdf_diff.Prob(0)"
   ]
  },
  {
   "cell_type": "code",
   "execution_count": 54,
   "metadata": {},
   "outputs": [
    {
     "data": {
      "text/plain": [
       "<matplotlib.collections.PathCollection at 0x7f5a10a4ae20>"
      ]
     },
     "execution_count": 54,
     "metadata": {},
     "output_type": "execute_result"
    },
    {
     "data": {
      "image/png": "[encoded data removed]",
      "text/plain": [
       "<Figure size 640x480 with 1 Axes>"
      ]
     },
     "metadata": {},
     "output_type": "display_data"
    }
   ],
   "source": [
    "import matplotlib.pyplot as plt\n",
    "\n",
    "y = []\n",
    "for diff in diffs:\n",
    "    y.append(p.cdf_diff.Prob(diff))\n",
    "\n",
    "plt.scatter(diffs, y)"
   ]
  },
  {
   "cell_type": "markdown",
   "metadata": {},
   "source": [
    "Model the players separately. Some guesses can be strategic - if I think that P1 overbid I minght underbid by far to be sure I won't overshoot. In that case I would have won. "
   ]
  },
  {
   "cell_type": "code",
   "execution_count": 59,
   "metadata": {},
   "outputs": [],
   "source": [
    "bids1 = df['Bid 1'].values\n",
    "bids2 = df['Bid 2'].values\n",
    "prices1 = df['Showcase 1'].values\n",
    "prices2 = df['Showcase 2'].values"
   ]
  },
  {
   "cell_type": "code",
   "execution_count": 90,
   "metadata": {},
   "outputs": [],
   "source": [
    "p1 = Player(prices1, bids1, prices1 - bids1)"
   ]
  },
  {
   "cell_type": "code",
   "execution_count": 91,
   "metadata": {},
   "outputs": [],
   "source": [
    "prior = p1.PmfPrice()"
   ]
  },
  {
   "cell_type": "code",
   "execution_count": 92,
   "metadata": {},
   "outputs": [
    {
     "data": {
      "text/plain": [
       "[<matplotlib.lines.Line2D at 0x7f5a104ff5e0>]"
      ]
     },
     "execution_count": 92,
     "metadata": {},
     "output_type": "execute_result"
    },
    {
     "data": {
      "image/png": "[encoded data removed]",
      "text/plain": [
       "<Figure size 640x480 with 1 Axes>"
      ]
     },
     "metadata": {},
     "output_type": "display_data"
    }
   ],
   "source": [
    "x, y = [], []\n",
    "for k, v in prior.GetDict().items():\n",
    "    x.append(k)\n",
    "    y.append(v)\n",
    "\n",
    "plt.plot(x, y)"
   ]
  },
  {
   "cell_type": "code",
   "execution_count": 93,
   "metadata": {},
   "outputs": [],
   "source": [
    "p1.MakeBeliefs(20000)"
   ]
  },
  {
   "cell_type": "code",
   "execution_count": 94,
   "metadata": {},
   "outputs": [
    {
     "data": {
      "text/plain": [
       "[<matplotlib.lines.Line2D at 0x7f5a104e23a0>]"
      ]
     },
     "execution_count": 94,
     "metadata": {},
     "output_type": "execute_result"
    },
    {
     "data": {
      "image/png": "[encoded data removed]",
      "text/plain": [
       "<Figure size 640x480 with 1 Axes>"
      ]
     },
     "metadata": {},
     "output_type": "display_data"
    }
   ],
   "source": [
    "\n",
    "x2, y2 = [], []\n",
    "for k, v in p1.posterior.GetDict().items():\n",
    "    x2.append(k)\n",
    "    y2.append(v)\n",
    "\n",
    "plt.plot(x2, y2)"
   ]
  },
  {
   "cell_type": "code",
   "execution_count": 95,
   "metadata": {},
   "outputs": [
    {
     "data": {
      "text/plain": [
       "24000.0"
      ]
     },
     "execution_count": 95,
     "metadata": {},
     "output_type": "execute_result"
    }
   ],
   "source": [
    "p1.posterior.MaximumLikelihood()"
   ]
  },
  {
   "cell_type": "code",
   "execution_count": 96,
   "metadata": {},
   "outputs": [],
   "source": [
    "cdf = p1.posterior.MakeCdf()"
   ]
  },
  {
   "cell_type": "code",
   "execution_count": 97,
   "metadata": {},
   "outputs": [
    {
     "data": {
      "text/plain": [
       "0.452360783750351"
      ]
     },
     "execution_count": 97,
     "metadata": {},
     "output_type": "execute_result"
    }
   ],
   "source": [
    "cdf.Prob(25000) - cdf.Prob(20001)"
   ]
  },
  {
   "cell_type": "code",
   "execution_count": 98,
   "metadata": {},
   "outputs": [
    {
     "data": {
      "text/plain": [
       "0.08262620286823547"
      ]
     },
     "execution_count": 98,
     "metadata": {},
     "output_type": "execute_result"
    }
   ],
   "source": [
    "cdf.Prob(19999)"
   ]
  },
  {
   "cell_type": "code",
   "execution_count": 100,
   "metadata": {},
   "outputs": [
    {
     "data": {
      "text/plain": [
       "(21000.0, 16668.78146356439)"
      ]
     },
     "execution_count": 100,
     "metadata": {},
     "output_type": "execute_result"
    }
   ],
   "source": [
    "p2 = Player(prices2, bids2, prices2 - bids2)\n",
    "p1.OptimalBid(20000, p2)"
   ]
  },
  {
   "cell_type": "code",
   "execution_count": null,
   "metadata": {},
   "outputs": [],
   "source": []
  }
 ],
 "metadata": {
  "kernelspec": {
   "display_name": "Python 3.8.13 ('stock_env')",
   "language": "python",
   "name": "python3"
  },
  "language_info": {
   "codemirror_mode": {
    "name": "ipython",
    "version": 3
   },
   "file_extension": ".py",
   "mimetype": "text/x-python",
   "name": "python",
   "nbconvert_exporter": "python",
   "pygments_lexer": "ipython3",
   "version": "3.8.13"
  },
  "orig_nbformat": 4,
  "vscode": {
   "interpreter": {
    "hash": "82412ded204c99d8179b4b1ee3f42de77e30b86b122ca2fd6741c7dd5e56f54e"
   }
  }
 },
 "nbformat": 4,
 "nbformat_minor": 2
}
