{
 "cells": [
  {
   "cell_type": "code",
   "execution_count": 1,
   "metadata": {},
   "outputs": [],
   "source": [
    "import numpy as np\n",
    "import pandas as pd\n",
    "import matplotlib.pyplot as plt\n",
    "from code_ import thinkbayes, thinkstats"
   ]
  },
  {
   "cell_type": "markdown",
   "metadata": {},
   "source": [
    "In the 2010-11 National Hockey League (NHL) Finals, my beloved Boston Bruins played\n",
    "a best-of-seven championship series against the despised Vancouver Canucks. Boston\n",
    "lost the first two games 0-1 and 2-3, then won the next two games 8-1 and 4-0. At this\n",
    "point in the series, what is the probability that Boston will win the next game, and what\n",
    "is their probability of winning the championship?\n",
    "As always, to answer a question like this, we need to make some assumptions. First, it\n",
    "is reasonable to believe that goal scoring in hockey is at least approximately a Poisson\n",
    "process, which means that it is equally likely for a goal to be scored at any time during\n",
    "a game. Second, we can assume that against a particular opponent, each team has some\n",
    "long-term average goals per game, denoted λ.\n",
    "\n",
    "Given these assumptions, my strategy for answering this question is:\n",
    "\n",
    "1. Use statistics from previous games to choose a prior distribution for λ.\n",
    "2. Use the score from the first four games to estimate λ for each team.\n",
    "3. Use the posterior distributions of λ to compute distribution of goals for each team,\n",
    "the distribution of the goal differential, and the probability that each team wins the\n",
    "next game.\n",
    "4. Compute the probability that each team wins the series."
   ]
  },
  {
   "cell_type": "code",
   "execution_count": 2,
   "metadata": {},
   "outputs": [
    {
     "data": {
      "text/html": [
       "<div>\n",
       "<style scoped>\n",
       "    .dataframe tbody tr th:only-of-type {\n",
       "        vertical-align: middle;\n",
       "    }\n",
       "\n",
       "    .dataframe tbody tr th {\n",
       "        vertical-align: top;\n",
       "    }\n",
       "\n",
       "    .dataframe thead th {\n",
       "        text-align: right;\n",
       "    }\n",
       "</style>\n",
       "<table border=\"1\" class=\"dataframe\">\n",
       "  <thead>\n",
       "    <tr style=\"text-align: right;\">\n",
       "      <th></th>\n",
       "      <th>Season</th>\n",
       "      <th>Game</th>\n",
       "      <th>Team</th>\n",
       "      <th>Pd1</th>\n",
       "      <th>Pd2</th>\n",
       "      <th>Pd3</th>\n",
       "      <th>OT</th>\n",
       "      <th>SO Win</th>\n",
       "      <th>Total</th>\n",
       "    </tr>\n",
       "  </thead>\n",
       "  <tbody>\n",
       "    <tr>\n",
       "      <th>0</th>\n",
       "      <td>2009</td>\n",
       "      <td>20001</td>\n",
       "      <td>NYR</td>\n",
       "      <td>0</td>\n",
       "      <td>1</td>\n",
       "      <td>1</td>\n",
       "      <td>0</td>\n",
       "      <td>0</td>\n",
       "      <td>2</td>\n",
       "    </tr>\n",
       "    <tr>\n",
       "      <th>1</th>\n",
       "      <td>2009</td>\n",
       "      <td>20001</td>\n",
       "      <td>TBL</td>\n",
       "      <td>0</td>\n",
       "      <td>0</td>\n",
       "      <td>1</td>\n",
       "      <td>0</td>\n",
       "      <td>0</td>\n",
       "      <td>1</td>\n",
       "    </tr>\n",
       "    <tr>\n",
       "      <th>2</th>\n",
       "      <td>2009</td>\n",
       "      <td>20002</td>\n",
       "      <td>OTT</td>\n",
       "      <td>1</td>\n",
       "      <td>2</td>\n",
       "      <td>0</td>\n",
       "      <td>0</td>\n",
       "      <td>0</td>\n",
       "      <td>3</td>\n",
       "    </tr>\n",
       "    <tr>\n",
       "      <th>3</th>\n",
       "      <td>2009</td>\n",
       "      <td>20002</td>\n",
       "      <td>PIT</td>\n",
       "      <td>1</td>\n",
       "      <td>1</td>\n",
       "      <td>1</td>\n",
       "      <td>1</td>\n",
       "      <td>0</td>\n",
       "      <td>4</td>\n",
       "    </tr>\n",
       "    <tr>\n",
       "      <th>4</th>\n",
       "      <td>2009</td>\n",
       "      <td>20003</td>\n",
       "      <td>NYR</td>\n",
       "      <td>0</td>\n",
       "      <td>2</td>\n",
       "      <td>0</td>\n",
       "      <td>0</td>\n",
       "      <td>0</td>\n",
       "      <td>2</td>\n",
       "    </tr>\n",
       "  </tbody>\n",
       "</table>\n",
       "</div>"
      ],
      "text/plain": [
       "   Season   Game Team  Pd1  Pd2  Pd3  OT  SO Win  Total\n",
       "0    2009  20001  NYR    0    1    1   0       0      2\n",
       "1    2009  20001  TBL    0    0    1   0       0      1\n",
       "2    2009  20002  OTT    1    2    0   0       0      3\n",
       "3    2009  20002  PIT    1    1    1   1       0      4\n",
       "4    2009  20003  NYR    0    2    0   0       0      2"
      ]
     },
     "execution_count": 2,
     "metadata": {},
     "output_type": "execute_result"
    }
   ],
   "source": [
    "pd.options.display.max_columns = None\n",
    "df = pd.read_csv('code_/hockey_data.csv')\n",
    "df.head()"
   ]
  },
  {
   "cell_type": "code",
   "execution_count": 3,
   "metadata": {},
   "outputs": [
    {
     "data": {
      "text/plain": [
       "array(['NYR', 'TBL', 'OTT', 'PIT', 'DET', 'TOR', 'BOS', 'COL', 'CGY',\n",
       "       'VAN', 'ANA', 'SJS', 'NJD', 'NYI', 'CHI', 'CAR', 'FLA', 'BUF',\n",
       "       'MTL', 'ATL', 'WSH', 'NSH', 'STL', 'CBJ', 'DAL', 'PHI', 'MIN',\n",
       "       'PHX', 'LAK', 'EDM', 'WPG'], dtype=object)"
      ]
     },
     "execution_count": 3,
     "metadata": {},
     "output_type": "execute_result"
    }
   ],
   "source": [
    "df['Team'].unique()"
   ]
  },
  {
   "cell_type": "code",
   "execution_count": 4,
   "metadata": {},
   "outputs": [
    {
     "data": {
      "text/html": [
       "<div>\n",
       "<style scoped>\n",
       "    .dataframe tbody tr th:only-of-type {\n",
       "        vertical-align: middle;\n",
       "    }\n",
       "\n",
       "    .dataframe tbody tr th {\n",
       "        vertical-align: top;\n",
       "    }\n",
       "\n",
       "    .dataframe thead th {\n",
       "        text-align: right;\n",
       "    }\n",
       "</style>\n",
       "<table border=\"1\" class=\"dataframe\">\n",
       "  <thead>\n",
       "    <tr style=\"text-align: right;\">\n",
       "      <th></th>\n",
       "      <th>Season</th>\n",
       "      <th>Game</th>\n",
       "      <th>Pd1</th>\n",
       "      <th>Pd2</th>\n",
       "      <th>Pd3</th>\n",
       "      <th>OT</th>\n",
       "      <th>SO Win</th>\n",
       "      <th>Total</th>\n",
       "    </tr>\n",
       "  </thead>\n",
       "  <tbody>\n",
       "    <tr>\n",
       "      <th>count</th>\n",
       "      <td>2460.0</td>\n",
       "      <td>2460.000000</td>\n",
       "      <td>2460.000000</td>\n",
       "      <td>2460.000000</td>\n",
       "      <td>2460.000000</td>\n",
       "      <td>2460.000000</td>\n",
       "      <td>2460.000000</td>\n",
       "      <td>2460.000000</td>\n",
       "    </tr>\n",
       "    <tr>\n",
       "      <th>mean</th>\n",
       "      <td>2011.0</td>\n",
       "      <td>20615.500000</td>\n",
       "      <td>0.810163</td>\n",
       "      <td>0.934959</td>\n",
       "      <td>0.921951</td>\n",
       "      <td>0.060163</td>\n",
       "      <td>0.060569</td>\n",
       "      <td>2.787805</td>\n",
       "    </tr>\n",
       "    <tr>\n",
       "      <th>std</th>\n",
       "      <td>0.0</td>\n",
       "      <td>355.142489</td>\n",
       "      <td>0.898769</td>\n",
       "      <td>0.941042</td>\n",
       "      <td>0.939187</td>\n",
       "      <td>0.237836</td>\n",
       "      <td>0.238587</td>\n",
       "      <td>1.660394</td>\n",
       "    </tr>\n",
       "    <tr>\n",
       "      <th>min</th>\n",
       "      <td>2011.0</td>\n",
       "      <td>20001.000000</td>\n",
       "      <td>0.000000</td>\n",
       "      <td>0.000000</td>\n",
       "      <td>0.000000</td>\n",
       "      <td>0.000000</td>\n",
       "      <td>0.000000</td>\n",
       "      <td>0.000000</td>\n",
       "    </tr>\n",
       "    <tr>\n",
       "      <th>25%</th>\n",
       "      <td>2011.0</td>\n",
       "      <td>20308.000000</td>\n",
       "      <td>0.000000</td>\n",
       "      <td>0.000000</td>\n",
       "      <td>0.000000</td>\n",
       "      <td>0.000000</td>\n",
       "      <td>0.000000</td>\n",
       "      <td>2.000000</td>\n",
       "    </tr>\n",
       "    <tr>\n",
       "      <th>50%</th>\n",
       "      <td>2011.0</td>\n",
       "      <td>20615.500000</td>\n",
       "      <td>1.000000</td>\n",
       "      <td>1.000000</td>\n",
       "      <td>1.000000</td>\n",
       "      <td>0.000000</td>\n",
       "      <td>0.000000</td>\n",
       "      <td>3.000000</td>\n",
       "    </tr>\n",
       "    <tr>\n",
       "      <th>75%</th>\n",
       "      <td>2011.0</td>\n",
       "      <td>20923.000000</td>\n",
       "      <td>1.000000</td>\n",
       "      <td>1.000000</td>\n",
       "      <td>1.000000</td>\n",
       "      <td>0.000000</td>\n",
       "      <td>0.000000</td>\n",
       "      <td>4.000000</td>\n",
       "    </tr>\n",
       "    <tr>\n",
       "      <th>max</th>\n",
       "      <td>2011.0</td>\n",
       "      <td>21230.000000</td>\n",
       "      <td>5.000000</td>\n",
       "      <td>6.000000</td>\n",
       "      <td>5.000000</td>\n",
       "      <td>1.000000</td>\n",
       "      <td>1.000000</td>\n",
       "      <td>10.000000</td>\n",
       "    </tr>\n",
       "  </tbody>\n",
       "</table>\n",
       "</div>"
      ],
      "text/plain": [
       "       Season          Game          Pd1          Pd2          Pd3  \\\n",
       "count  2460.0   2460.000000  2460.000000  2460.000000  2460.000000   \n",
       "mean   2011.0  20615.500000     0.810163     0.934959     0.921951   \n",
       "std       0.0    355.142489     0.898769     0.941042     0.939187   \n",
       "min    2011.0  20001.000000     0.000000     0.000000     0.000000   \n",
       "25%    2011.0  20308.000000     0.000000     0.000000     0.000000   \n",
       "50%    2011.0  20615.500000     1.000000     1.000000     1.000000   \n",
       "75%    2011.0  20923.000000     1.000000     1.000000     1.000000   \n",
       "max    2011.0  21230.000000     5.000000     6.000000     5.000000   \n",
       "\n",
       "                OT       SO Win        Total  \n",
       "count  2460.000000  2460.000000  2460.000000  \n",
       "mean      0.060163     0.060569     2.787805  \n",
       "std       0.237836     0.238587     1.660394  \n",
       "min       0.000000     0.000000     0.000000  \n",
       "25%       0.000000     0.000000     2.000000  \n",
       "50%       0.000000     0.000000     3.000000  \n",
       "75%       0.000000     0.000000     4.000000  \n",
       "max       1.000000     1.000000    10.000000  "
      ]
     },
     "execution_count": 4,
     "metadata": {},
     "output_type": "execute_result"
    }
   ],
   "source": [
    "df[df['Season']==2011].describe()"
   ]
  },
  {
   "cell_type": "code",
   "execution_count": 5,
   "metadata": {},
   "outputs": [
    {
     "data": {
      "text/plain": [
       "<AxesSubplot:ylabel='Frequency'>"
      ]
     },
     "execution_count": 5,
     "metadata": {},
     "output_type": "execute_result"
    },
    {
     "data": {
      "image/png": "[encoded data removed]",
      "text/plain": [
       "<Figure size 640x480 with 1 Axes>"
      ]
     },
     "metadata": {},
     "output_type": "display_data"
    }
   ],
   "source": [
    "df['Total'].plot(kind='hist', bins=10)"
   ]
  },
  {
   "cell_type": "code",
   "execution_count": 6,
   "metadata": {},
   "outputs": [
    {
     "data": {
      "text/html": [
       "<div>\n",
       "<style scoped>\n",
       "    .dataframe tbody tr th:only-of-type {\n",
       "        vertical-align: middle;\n",
       "    }\n",
       "\n",
       "    .dataframe tbody tr th {\n",
       "        vertical-align: top;\n",
       "    }\n",
       "\n",
       "    .dataframe thead th {\n",
       "        text-align: right;\n",
       "    }\n",
       "</style>\n",
       "<table border=\"1\" class=\"dataframe\">\n",
       "  <thead>\n",
       "    <tr style=\"text-align: right;\">\n",
       "      <th></th>\n",
       "      <th>avg_total</th>\n",
       "      <th>std_total</th>\n",
       "    </tr>\n",
       "    <tr>\n",
       "      <th>Team</th>\n",
       "      <th></th>\n",
       "      <th></th>\n",
       "    </tr>\n",
       "  </thead>\n",
       "  <tbody>\n",
       "    <tr>\n",
       "      <th>BOS</th>\n",
       "      <td>3.000000</td>\n",
       "      <td>1.872478</td>\n",
       "    </tr>\n",
       "    <tr>\n",
       "      <th>VAN</th>\n",
       "      <td>3.195122</td>\n",
       "      <td>1.745817</td>\n",
       "    </tr>\n",
       "  </tbody>\n",
       "</table>\n",
       "</div>"
      ],
      "text/plain": [
       "      avg_total  std_total\n",
       "Team                      \n",
       "BOS    3.000000   1.872478\n",
       "VAN    3.195122   1.745817"
      ]
     },
     "execution_count": 6,
     "metadata": {},
     "output_type": "execute_result"
    }
   ],
   "source": [
    "(\n",
    "    df[\n",
    "        (df['Team'].isin(['BOS', 'VAN']))\n",
    "        &(df['Season']==2011)\n",
    "    ]\n",
    "    .groupby('Team')\n",
    "    .agg(\n",
    "        avg_total=('Total', 'mean'),\n",
    "        std_total=('Total', 'std')\n",
    "    )\n",
    ")"
   ]
  },
  {
   "cell_type": "code",
   "execution_count": 7,
   "metadata": {},
   "outputs": [
    {
     "data": {
      "text/html": [
       "<div>\n",
       "<style scoped>\n",
       "    .dataframe tbody tr th:only-of-type {\n",
       "        vertical-align: middle;\n",
       "    }\n",
       "\n",
       "    .dataframe tbody tr th {\n",
       "        vertical-align: top;\n",
       "    }\n",
       "\n",
       "    .dataframe thead th {\n",
       "        text-align: right;\n",
       "    }\n",
       "</style>\n",
       "<table border=\"1\" class=\"dataframe\">\n",
       "  <thead>\n",
       "    <tr style=\"text-align: right;\">\n",
       "      <th></th>\n",
       "      <th>pair</th>\n",
       "      <th>n</th>\n",
       "      <th>mean_total</th>\n",
       "      <th>std_total</th>\n",
       "    </tr>\n",
       "  </thead>\n",
       "  <tbody>\n",
       "    <tr>\n",
       "      <th>4</th>\n",
       "      <td>ANAvCBJ</td>\n",
       "      <td>4</td>\n",
       "      <td>5.500000</td>\n",
       "      <td>1.290994</td>\n",
       "    </tr>\n",
       "    <tr>\n",
       "      <th>5</th>\n",
       "      <td>ANAvCGY</td>\n",
       "      <td>4</td>\n",
       "      <td>7.250000</td>\n",
       "      <td>2.061553</td>\n",
       "    </tr>\n",
       "    <tr>\n",
       "      <th>6</th>\n",
       "      <td>ANAvCHI</td>\n",
       "      <td>4</td>\n",
       "      <td>4.000000</td>\n",
       "      <td>1.154701</td>\n",
       "    </tr>\n",
       "    <tr>\n",
       "      <th>7</th>\n",
       "      <td>ANAvCOL</td>\n",
       "      <td>4</td>\n",
       "      <td>6.250000</td>\n",
       "      <td>2.753785</td>\n",
       "    </tr>\n",
       "    <tr>\n",
       "      <th>8</th>\n",
       "      <td>ANAvDAL</td>\n",
       "      <td>6</td>\n",
       "      <td>6.166667</td>\n",
       "      <td>1.602082</td>\n",
       "    </tr>\n",
       "  </tbody>\n",
       "</table>\n",
       "</div>"
      ],
      "text/plain": [
       "      pair  n  mean_total  std_total\n",
       "4  ANAvCBJ  4    5.500000   1.290994\n",
       "5  ANAvCGY  4    7.250000   2.061553\n",
       "6  ANAvCHI  4    4.000000   1.154701\n",
       "7  ANAvCOL  4    6.250000   2.753785\n",
       "8  ANAvDAL  6    6.166667   1.602082"
      ]
     },
     "execution_count": 7,
     "metadata": {},
     "output_type": "execute_result"
    }
   ],
   "source": [
    "df_pair = (\n",
    "    df[df['Season']==2011]\n",
    "    # df\n",
    "    .groupby('Game')\n",
    "    .agg(\n",
    "        pair=('Team', lambda x: 'v'.join(sorted(x))),\n",
    "        sum_total=('Total', 'sum')\n",
    "    )\n",
    "    .groupby('pair')\n",
    "    .agg(\n",
    "        n=('pair', len),\n",
    "        mean_total=('sum_total', 'mean'),\n",
    "        std_total=('sum_total', 'std')\n",
    "    )\n",
    "    .reset_index()\n",
    ")\n",
    "df_pair = df_pair[df_pair['n']>=3]\n",
    "df_pair.head()"
   ]
  },
  {
   "cell_type": "code",
   "execution_count": 8,
   "metadata": {},
   "outputs": [
    {
     "data": {
      "text/plain": [
       "['ANAvVAN',\n",
       " 'CBJvVAN',\n",
       " 'CGYvVAN',\n",
       " 'CHIvVAN',\n",
       " 'COLvVAN',\n",
       " 'DALvVAN',\n",
       " 'DETvVAN',\n",
       " 'EDMvVAN',\n",
       " 'LAKvVAN',\n",
       " 'MINvVAN',\n",
       " 'NSHvVAN',\n",
       " 'PHXvVAN',\n",
       " 'SJSvVAN',\n",
       " 'STLvVAN']"
      ]
     },
     "execution_count": 8,
     "metadata": {},
     "output_type": "execute_result"
    }
   ],
   "source": [
    "[x for x in df_pair['pair'].unique() if 'VAN' in x]"
   ]
  },
  {
   "cell_type": "code",
   "execution_count": 44,
   "metadata": {},
   "outputs": [],
   "source": [
    "class Hockey(thinkbayes.Suite):\n",
    "    \"\"\"Represents hypotheses about the scoring rate for a team.\"\"\"\n",
    "\n",
    "    def __init__(self, USE_SUMMARY_DATA=True, name=''):\n",
    "        \"\"\"Initializes the Hockey object.\n",
    "\n",
    "        name: string\n",
    "        \"\"\"\n",
    "        if USE_SUMMARY_DATA:\n",
    "            # HE ORIGINALLY CALCULATED THIS DIFFERENTLY\n",
    "            # AND THAT APPROACH WAS MUCH CLOSER TO THE ODDS AT THAT TIME\n",
    "\n",
    "            # prior based on each team's average goals scored\n",
    "            mu = (3.0 + 3.195122)/2\n",
    "            # sigma is std of means not goals which makes sense\n",
    "            # bc you try to estimate variaton in goal average not goals itself\n",
    "            sigma = 0.265#(1.872478 + 1.745817)/2\n",
    "        else:\n",
    "            # prior based on each pair-wise match-up\n",
    "            mu = 2.8\n",
    "            sigma = 0.85\n",
    "\n",
    "        pmf = thinkbayes.MakeGaussianPmf(mu, sigma, 4, low=0)\n",
    "        thinkbayes.Suite.__init__(self, pmf, name=name)\n",
    "            \n",
    "    def Likelihood(self, data, hypo):\n",
    "        \"\"\"Computes the likelihood of the data under the hypothesis.\n",
    "\n",
    "        Evaluates the Poisson PMF for lambda and k.\n",
    "\n",
    "        hypo: goal scoring rate in goals per game\n",
    "        data: goals scored in one period\n",
    "        \"\"\"\n",
    "        lam = hypo\n",
    "        k = data\n",
    "        like = thinkbayes.EvalPoissonPmf(k, lam)\n",
    "        return like\n",
    "def MakeGoalPmf(suite, high=10):\n",
    "    \"\"\"Makes the distribution of goals scored, given distribution of lam.\n",
    "\n",
    "    suite: distribution of goal-scoring rate\n",
    "    high: upper bound\n",
    "\n",
    "    returns: Pmf of goals per game\n",
    "    \"\"\"\n",
    "    metapmf = thinkbayes.Pmf()\n",
    "\n",
    "    for lam, prob in suite.Items():\n",
    "        pmf = thinkbayes.MakePoissonPmf(lam, high)\n",
    "        metapmf.Set(pmf, prob)\n",
    "\n",
    "    mix = thinkbayes.MakeMixture(metapmf, name=suite.name)\n",
    "    return mix\n",
    "\n",
    "\n",
    "def MakeGoalTimePmf(suite):\n",
    "    \"\"\"Makes the distribution of time until first goal.\n",
    "\n",
    "    suite: distribution of goal-scoring rate\n",
    "\n",
    "    returns: Pmf of goals per game\n",
    "    \"\"\"\n",
    "    metapmf = thinkbayes.Pmf()\n",
    "\n",
    "    for lam, prob in suite.Items():\n",
    "        if lam == 0:\n",
    "            continue\n",
    "        # high is eq to 2 bc its unlikely going two games without scoring a goal\n",
    "        pmf = thinkbayes.MakeExponentialPmf(lam, high=2, n=2001)\n",
    "        metapmf.Set(pmf, prob)\n",
    "\n",
    "    mix = thinkbayes.MakeMixture(metapmf, name=suite.name)\n",
    "    return mix"
   ]
  },
  {
   "cell_type": "code",
   "execution_count": 45,
   "metadata": {},
   "outputs": [
    {
     "data": {
      "text/plain": [
       "0.00023485959894500722"
      ]
     },
     "execution_count": 45,
     "metadata": {},
     "output_type": "execute_result"
    }
   ],
   "source": [
    "bos = Hockey(name='bruins', USE_SUMMARY_DATA=True)\n",
    "bos.UpdateSet([0, 2, 8, 4]) # goals in first for games\n",
    "van = Hockey(name='canucks', USE_SUMMARY_DATA=True)\n",
    "van.UpdateSet([1, 3, 1, 0]) "
   ]
  },
  {
   "cell_type": "code",
   "execution_count": 46,
   "metadata": {},
   "outputs": [],
   "source": [
    "bos_mix_pmf = MakeGoalPmf(bos)\n",
    "van_mix_pmf = MakeGoalPmf(van)"
   ]
  },
  {
   "cell_type": "code",
   "execution_count": 47,
   "metadata": {},
   "outputs": [],
   "source": [
    "def plot_multiple(*args):\n",
    "    for function in args:\n",
    "        x, y = [], []\n",
    "        for k, v in function.GetDict().items():\n",
    "            x.append(k)\n",
    "            y.append(v)\n",
    "        plt.plot(x, y, label=function.name)\n",
    "    plt.legend()\n",
    "    plt.grid()\n",
    "    plt.show()\n",
    "\n",
    "    return"
   ]
  },
  {
   "cell_type": "code",
   "execution_count": 48,
   "metadata": {},
   "outputs": [
    {
     "data": {
      "image/png": "[encoded data removed]",
      "text/plain": [
       "<Figure size 640x480 with 1 Axes>"
      ]
     },
     "metadata": {},
     "output_type": "display_data"
    }
   ],
   "source": [
    "plot_multiple(bos_mix_pmf, van_mix_pmf)"
   ]
  },
  {
   "cell_type": "code",
   "execution_count": 49,
   "metadata": {},
   "outputs": [
    {
     "name": "stdout",
     "output_type": "stream",
     "text": [
      "Prob of BOS win: 0.44870763781406753\n",
      "Prob of BOS loss: 0.38736020293932305\n",
      "Prob of draw: 0.16393215924660862\n"
     ]
    }
   ],
   "source": [
    "diff_goals = bos_mix_pmf - van_mix_pmf\n",
    "p_win = diff_goals.ProbGreater(0)\n",
    "p_loss = diff_goals.ProbLess(0)\n",
    "p_tie = diff_goals.Prob(0)\n",
    "\n",
    "print(f'Prob of BOS win: {p_win}\\nProb of BOS loss: {p_loss}\\nProb of draw: {p_tie}')"
   ]
  },
  {
   "cell_type": "markdown",
   "metadata": {},
   "source": [
    "If regular time ends with draw \"sudden death\" over time is played. In this regime who scores first wins so time until first goal is important. "
   ]
  },
  {
   "cell_type": "code",
   "execution_count": 50,
   "metadata": {},
   "outputs": [
    {
     "data": {
      "image/png": "[encoded data removed]",
      "text/plain": [
       "<Figure size 640x480 with 1 Axes>"
      ]
     },
     "metadata": {},
     "output_type": "display_data"
    }
   ],
   "source": [
    "bos_time_dist = MakeGoalTimePmf(bos)\n",
    "van_time_dist = MakeGoalTimePmf(van)\n",
    "# X axis is games until goal\n",
    "plot_multiple(bos_time_dist, van_time_dist)"
   ]
  },
  {
   "cell_type": "code",
   "execution_count": 51,
   "metadata": {},
   "outputs": [
    {
     "data": {
      "text/plain": [
       "0.5150178229107012"
      ]
     },
     "execution_count": 51,
     "metadata": {},
     "output_type": "execute_result"
    }
   ],
   "source": [
    "# probability that pm1 is less than pmf2\n",
    "p_overtime = thinkbayes.PmfProbLess(bos_time_dist, van_time_dist)\n",
    "p_overtime"
   ]
  },
  {
   "cell_type": "code",
   "execution_count": 52,
   "metadata": {},
   "outputs": [
    {
     "data": {
      "text/plain": [
       "0.5331356215743063"
      ]
     },
     "execution_count": 52,
     "metadata": {},
     "output_type": "execute_result"
    }
   ],
   "source": [
    "# probability of win including overtime\n",
    "diff_goals.ProbGreater(0) + p_tie * p_overtime"
   ]
  },
  {
   "cell_type": "code",
   "execution_count": 53,
   "metadata": {},
   "outputs": [
    {
     "data": {
      "text/plain": [
       "0.42333134753090285"
      ]
     },
     "execution_count": 53,
     "metadata": {},
     "output_type": "execute_result"
    }
   ],
   "source": [
    "# WINNING THE SERIES\n",
    "# win the next two\n",
    "p_series = p_win**2\n",
    "# split the next two, win the third\n",
    "p_series += 2 * p_win * (1-p_win) * p_win\n",
    "p_series"
   ]
  },
  {
   "cell_type": "code",
   "execution_count": 59,
   "metadata": {},
   "outputs": [],
   "source": [
    "goal_dist = bos_mix_pmf + van_mix_pmf"
   ]
  },
  {
   "cell_type": "code",
   "execution_count": 68,
   "metadata": {},
   "outputs": [
    {
     "data": {
      "text/plain": [
       "1.1737761783837881"
      ]
     },
     "execution_count": 68,
     "metadata": {},
     "output_type": "execute_result"
    }
   ],
   "source": [
    "1/goal_dist.ProbGreater(3)"
   ]
  },
  {
   "cell_type": "markdown",
   "metadata": {},
   "source": [
    "As always, the analysis in this chapter is based on modeling decisions, and modeling is\n",
    "almost always an iterative process. In general, you want to start with something simple\n",
    "that yields an approximate answer, identify likely sources of error, and look for oppor‐\n",
    "tunities for improvement.\n",
    "In this example, I would consider these options:\n",
    "• I chose a prior based on the average goals per game for each team. But this statistic\n",
    "is averaged across all opponents. Against a particular opponent, we might expect\n",
    "more variability. For example, if the team with the best offense plays the team with\n",
    "the worst defense, the expected goals per game might be several standard deviations\n",
    "above the mean.\n",
    "• For data I used only the first four games of the championship series. If the same\n",
    "teams played each other during the regular season, I could use the results from\n",
    "those games as well. One complication is that the composition of teams changes\n",
    "during the season due to trades and injuries. So it might be best to give more weight\n",
    "to recent games.\n",
    "• To take advantage of all available information, we could use results from all regular\n",
    "season games to estimate each team’s goal scoring rate, possibly adjusted by esti‐\n",
    "mating an additional factor for each pairwise match-up. This approach would be\n",
    "more complicated, but it is still feasible.\n",
    "For the first option, we could use the results from the regular season to estimate the\n",
    "variability across all pairwise match-ups. Thanks to Dirk Hoag at http://forechecker.blog\n",
    "spot.com/, I was able to get the number of goals scored during regulation play (not\n",
    "overtime) for each game in the regular season.\n",
    "Teams in different conferences only play each other one or two times in the regular\n",
    "season, so I focused on pairs that played each other 4–6 times. For each pair, I computed\n",
    "the average goals per game, which is an estimate of λ, then plotted the distribution of\n",
    "these estimates.\n",
    "The mean of these estimates is 2.8, again, but the standard deviation is 0.85, substantially\n",
    "higher than what we got computing one estimate for each team.\n",
    "If we run the analysis again with the higher-variance prior, the probability that the\n",
    "Bruins win the series is 80%, substantially higher than the result with the low-variance\n",
    "prior, 57%.\n",
    "So it turns out that the results are sensitive to the prior, which makes sense considering\n",
    "how little data we have to work with. Based on the difference between the low-variance\n",
    "model and the high-variable model, it seems worthwhile to put some effort into getting\n",
    "the prior right."
   ]
  },
  {
   "cell_type": "code",
   "execution_count": null,
   "metadata": {},
   "outputs": [],
   "source": []
  }
 ],
 "metadata": {
  "kernelspec": {
   "display_name": "Python 3.8.13 ('stock_env')",
   "language": "python",
   "name": "python3"
  },
  "language_info": {
   "codemirror_mode": {
    "name": "ipython",
    "version": 3
   },
   "file_extension": ".py",
   "mimetype": "text/x-python",
   "name": "python",
   "nbconvert_exporter": "python",
   "pygments_lexer": "ipython3",
   "version": "3.8.13"
  },
  "orig_nbformat": 4,
  "vscode": {
   "interpreter": {
    "hash": "82412ded204c99d8179b4b1ee3f42de77e30b86b122ca2fd6741c7dd5e56f54e"
   }
  }
 },
 "nbformat": 4,
 "nbformat_minor": 2
}
